{
 "cells": [
  {
   "cell_type": "markdown",
   "metadata": {},
   "source": [
    "**Data Science Assignment**"
   ]
  },
  {
   "cell_type": "code",
   "execution_count": null,
   "metadata": {},
   "outputs": [],
   "source": [
    "#importing modules\n",
    "\n",
    "import seaborn as sns \n",
    "import pandas as pd\n",
    "import matplotlib.pyplot as plt\n",
    "%matplotlib inline\n",
    "import geopandas as gpd\n",
    "import numpy as np\n",
    "import pygal as pyg\n",
    "import pygal_maps_world.maps\n",
    "import plotly.express as px\n",
    "import json\n",
    "import plotly.express.colors\n",
    "import statistics\n",
    "import chart_studio.plotly as py\n",
    "import plotly.tools as tls\n",
    "import plotly.graph_objs as go\n",
    "from scipy import stats\n",
    "from sklearn import linear_model\n",
    "import plotly.graph_objects as go\n",
    "import panel as pn\n",
    "\n"
   ]
  },
  {
   "cell_type": "code",
   "execution_count": null,
   "metadata": {},
   "outputs": [],
   "source": [
    "world_disaster = pd.read_csv('disaster.csv')\n",
    "world_disaster.tail()\n",
    "wm = json.load(open(\"countries.geojson\"))\n",
    "world_disaster\n"
   ]
  },
  {
   "cell_type": "code",
   "execution_count": null,
   "metadata": {},
   "outputs": [],
   "source": [
    "sort = sorted(world_disaster['COUNTRY'])"
   ]
  },
  {
   "cell_type": "code",
   "execution_count": null,
   "metadata": {},
   "outputs": [],
   "source": [
    "#creating lists from the excel data\n",
    "countries = world_disaster[\"COUNTRY\"].values.tolist()   \n",
    "#longitude = world_disaster[\"Long\"].values.tolist()\n",
    "#latitude = world_disaster[\"Lat\"].values.tolist()\n",
    "countryCode = world_disaster[\"ISO3\"].values.tolist()\n",
    "sev = world_disaster[\"Socio-Economic Vulnerability\"].values.tolist()\n",
    "flood = world_disaster[\"Flood\"].values.tolist()\n",
    "Human = world_disaster[\"Human\"].values.tolist()\n",
    "Natural = world_disaster[\"Natural\"].values.tolist()\n",
    "loc = world_disaster['LACK OF COPING CAPACITY'].values.tolist()\n",
    "PI = world_disaster['Physical infrastructure'].values.tolist()\n",
    "#converting values from data to int for the chloropleth graphs\n",
    "array_int = np.array(loc, dtype='int')\n",
    "array_int2 = np.array(PI, dtype=\"int\")\n",
    "array_int2.sort()\n",
    "\n",
    "countries.sort()\n",
    "\n",
    "\n",
    "\n",
    "\n",
    "\n",
    "\n",
    "\n",
    "\n",
    "print(\"Success!\")\n"
   ]
  },
  {
   "cell_type": "code",
   "execution_count": null,
   "metadata": {},
   "outputs": [],
   "source": [
    "fig = px.choropleth(world_disaster, locations=\"ISO3\",\n",
    "                    color=\"Access to health care\",\n",
    "                    hover_name=\"COUNTRY\",\n",
    "                    projection=\"orthographic\",\n",
    "                \n",
    "                    title = \"Countries sorted by socio-economic vulnerability\",                 color_continuous_scale=px.colors.sequential.algae)\n",
    "\n",
    "fig.update_geos(fitbounds=\"locations\", visible=True)\n",
    "fig.update_layout(margin={\"r\":0,\"t\":0,\"l\":0,\"b\":0})\n",
    " \n",
    "fig[\"layout\"].pop(\"updatemenus\")\n",
    "fig.write_html(\"C:/Data Assignment/natural.html\")\n",
    "fig.show()"
   ]
  },
  {
   "cell_type": "code",
   "execution_count": null,
   "metadata": {},
   "outputs": [],
   "source": [
    "fig = px.choropleth(world_disaster, locations=\"ISO3\",\n",
    "                    color=\"LACK OF COPING CAPACITY\",\n",
    "                    hover_name=\"COUNTRY\",\n",
    "                    animation_frame=\"Physical infrastructure\",\n",
    "                    projection=\"orthographic\",\n",
    "                    title = \"Countries sorted by Socio-Economic Vulnerability in comparison to Human Risk\"\n",
    "                    )             \n",
    " \n",
    "fig.update_geos(fitbounds=\"locations\", visible=True)\n",
    "fig.update_layout(margin={\"r\":0,\"t\":0,\"l\":0,\"b\":0})\n",
    "fig[\"layout\"].pop(\"updatemenus\")\n",
    "fig.write_html(\"C:/Data Assignment/human.html\")\n",
    "fig.show()"
   ]
  },
  {
   "cell_type": "code",
   "execution_count": null,
   "metadata": {},
   "outputs": [],
   "source": [
    "\n",
    "x = world_disaster['Access to health care']\n",
    "y = world_disaster['Natural']\n",
    "mymodel = np.poly1d(np.polyfit(x, y, 3))\n",
    "\n",
    "myline = np.linspace(1, 9, 10)\n",
    "\n",
    "plt.scatter(x, y)\n",
    "plt.plot(myline, mymodel(myline))\n",
    "plt.title(\"socio-economic vulnerability\")\n",
    "plt.xlabel('Infastructure')\n",
    "plt.ylabel('Natural')\n",
    "plt.show()"
   ]
  },
  {
   "cell_type": "code",
   "execution_count": null,
   "metadata": {},
   "outputs": [],
   "source": [
    "#plotting 'SEV' against 'Natural Risk' \n",
    "x = world_disaster['']\n",
    "y = world_disaster['Human']\n",
    "mymodel = np.poly1d(np.polyfit(x, y, 3))\n",
    "\n",
    "myline = np.linspace(1, 9, 10)\n",
    "\n",
    "plt.scatter(x, y)\n",
    "plt.plot(myline, mymodel(myline))\n",
    "plt.title(\"socio-economic vulnerability\")\n",
    "plt.xlabel('socio-economic vulnerability')\n",
    "plt.ylabel('Human')\n",
    "plt.show()"
   ]
  },
  {
   "cell_type": "code",
   "execution_count": null,
   "metadata": {},
   "outputs": [],
   "source": [
    "#average value for  Human risk and Natural risk\n",
    "avg_value=sum(Human)/len(Human)\n",
    "print(\"Human average is\",avg_value)\n",
    "avg_val2=sum(Natural)/len(Natural)\n",
    "print(\"Natural average is\",avg_val2)\n",
    "\n",
    "#alternate method\n",
    "average = statistics.mean(Natural)\n",
    "average2 = statistics.mean(Human)\n",
    "\n",
    "\n",
    "\n",
    "print(\"Human average is\", average2)\n",
    "print(\"Natural average is\", average)\n",
    "\n",
    "\n",
    "#calculating linear regression\n",
    "#maths = statistics.linear_regression(Natural,sev)\n",
    "##maths2 = statistics.linear_regression(Human,sev)\n",
    "#print(maths)\n",
    "#print(maths2)\n",
    "\n",
    "\n",
    "#MULTIPLE REGRESSION\n",
    "\n",
    "\n",
    "df = pd.read_csv(\"disaster_risk.csv\")\n",
    "\n",
    "X = df[['Human', 'Natural']]\n",
    "y = df['Socio-Economic Vulnerability']\n",
    "\n",
    "regr = linear_model.LinearRegression()\n",
    "regr.fit(X, y)\n",
    "\n",
    "\n",
    "predictedSEV = regr.predict([[10,0]])\n",
    "predictedSEV2 = regr.predict([[0,10]])\n",
    "predictedSEV3 = regr.predict([[5,5]])\n",
    "\n",
    "print(\"prediction for sev with 10 human risk to 0 natural \", predictedSEV)\n",
    "print(\"prediction for sev with 0 human risk to 10 natural \", predictedSEV2) \n",
    "print(\"prediction for sev with 5 human risk to 5 natural \", predictedSEV3) \n"
   ]
  }
 ],
 "metadata": {
  "kernelspec": {
   "display_name": "Python 3.10.8 64-bit (microsoft store)",
   "language": "python",
   "name": "python3"
  },
  "language_info": {
   "codemirror_mode": {
    "name": "ipython",
    "version": 3
   },
   "file_extension": ".py",
   "mimetype": "text/x-python",
   "name": "python",
   "nbconvert_exporter": "python",
   "pygments_lexer": "ipython3",
   "version": "3.10.8"
  },
  "orig_nbformat": 4,
  "vscode": {
   "interpreter": {
    "hash": "4167bd5b7aa943bbfb68647c7dcb75006377912a02c9d9397beb7d705e74d9e5"
   }
  }
 },
 "nbformat": 4,
 "nbformat_minor": 2
}
