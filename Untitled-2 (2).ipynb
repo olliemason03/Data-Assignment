{
 "cells": [
  {
   "cell_type": "markdown",
   "metadata": {},
   "source": [
    "**Data Science Assignment**"
   ]
  },
  {
   "cell_type": "code",
   "execution_count": 2,
   "metadata": {},
   "outputs": [],
   "source": [
    "#importing modules\n",
    "\n",
    "import seaborn as sns \n",
    "import pandas as pd\n",
    "import matplotlib.pyplot as plt\n",
    "%matplotlib inline\n",
    "import geopandas as gpd\n",
    "import numpy as np\n",
    "import pygal as pyg\n",
    "import pygal_maps_world.maps\n",
    "import plotly.express as px\n",
    "import json\n",
    "import plotly.express.colors\n",
    "import statistics\n",
    "import chart_studio.plotly as py\n",
    "import plotly.tools as tls\n",
    "import plotly.graph_objs as go\n",
    "from scipy import stats\n",
    "from sklearn import linear_model\n",
    "import plotly.graph_objects as go\n",
    "\n"
   ]
  },
  {
   "cell_type": "code",
   "execution_count": 3,
   "metadata": {},
   "outputs": [
    {
     "data": {
      "text/html": [
       "<div>\n",
       "<style scoped>\n",
       "    .dataframe tbody tr th:only-of-type {\n",
       "        vertical-align: middle;\n",
       "    }\n",
       "\n",
       "    .dataframe tbody tr th {\n",
       "        vertical-align: top;\n",
       "    }\n",
       "\n",
       "    .dataframe thead th {\n",
       "        text-align: right;\n",
       "    }\n",
       "</style>\n",
       "<table border=\"1\" class=\"dataframe\">\n",
       "  <thead>\n",
       "    <tr style=\"text-align: right;\">\n",
       "      <th></th>\n",
       "      <th>COUNTRY</th>\n",
       "      <th>ISO3</th>\n",
       "      <th>Earthquake</th>\n",
       "      <th>Flood</th>\n",
       "      <th>Tsunami</th>\n",
       "      <th>Tropical Cyclone</th>\n",
       "      <th>Drought</th>\n",
       "      <th>Natural</th>\n",
       "      <th>Projected Conflict Risk</th>\n",
       "      <th>Current Highly Violent Conflict Intensity</th>\n",
       "      <th>...</th>\n",
       "      <th>DRR</th>\n",
       "      <th>Governance</th>\n",
       "      <th>Institutional</th>\n",
       "      <th>Communication</th>\n",
       "      <th>Physical infrastructure</th>\n",
       "      <th>Access to health care</th>\n",
       "      <th>Infrastructure</th>\n",
       "      <th>LACK OF COPING CAPACITY</th>\n",
       "      <th>Overall RISK</th>\n",
       "      <th>Rank</th>\n",
       "    </tr>\n",
       "  </thead>\n",
       "  <tbody>\n",
       "    <tr>\n",
       "      <th>0</th>\n",
       "      <td>Afghanistan</td>\n",
       "      <td>AFG</td>\n",
       "      <td>8.9</td>\n",
       "      <td>7.9</td>\n",
       "      <td>0.0</td>\n",
       "      <td>0.0</td>\n",
       "      <td>6.8</td>\n",
       "      <td>5.9</td>\n",
       "      <td>9.9</td>\n",
       "      <td>10</td>\n",
       "      <td>...</td>\n",
       "      <td>7.3</td>\n",
       "      <td>8.5</td>\n",
       "      <td>7.9</td>\n",
       "      <td>8.1</td>\n",
       "      <td>8.2</td>\n",
       "      <td>8.8</td>\n",
       "      <td>8.4</td>\n",
       "      <td>8.2</td>\n",
       "      <td>8.0</td>\n",
       "      <td>3</td>\n",
       "    </tr>\n",
       "    <tr>\n",
       "      <th>1</th>\n",
       "      <td>Algeria</td>\n",
       "      <td>DZA</td>\n",
       "      <td>5.2</td>\n",
       "      <td>5.8</td>\n",
       "      <td>0.0</td>\n",
       "      <td>0.8</td>\n",
       "      <td>2.6</td>\n",
       "      <td>3.2</td>\n",
       "      <td>7.7</td>\n",
       "      <td>8</td>\n",
       "      <td>...</td>\n",
       "      <td>3.5</td>\n",
       "      <td>6.3</td>\n",
       "      <td>4.9</td>\n",
       "      <td>5.5</td>\n",
       "      <td>4.5</td>\n",
       "      <td>5.7</td>\n",
       "      <td>5.2</td>\n",
       "      <td>5.1</td>\n",
       "      <td>5.4</td>\n",
       "      <td>31</td>\n",
       "    </tr>\n",
       "    <tr>\n",
       "      <th>2</th>\n",
       "      <td>Angola</td>\n",
       "      <td>AGO</td>\n",
       "      <td>0.0</td>\n",
       "      <td>3.6</td>\n",
       "      <td>0.0</td>\n",
       "      <td>0.0</td>\n",
       "      <td>4.4</td>\n",
       "      <td>1.8</td>\n",
       "      <td>7.0</td>\n",
       "      <td>0</td>\n",
       "      <td>...</td>\n",
       "      <td>5.3</td>\n",
       "      <td>7.6</td>\n",
       "      <td>6.4</td>\n",
       "      <td>8.1</td>\n",
       "      <td>7.8</td>\n",
       "      <td>9.2</td>\n",
       "      <td>8.4</td>\n",
       "      <td>7.5</td>\n",
       "      <td>4.5</td>\n",
       "      <td>64</td>\n",
       "    </tr>\n",
       "    <tr>\n",
       "      <th>3</th>\n",
       "      <td>Argentina</td>\n",
       "      <td>ARG</td>\n",
       "      <td>5.0</td>\n",
       "      <td>8.3</td>\n",
       "      <td>0.0</td>\n",
       "      <td>0.0</td>\n",
       "      <td>1.8</td>\n",
       "      <td>3.9</td>\n",
       "      <td>2.9</td>\n",
       "      <td>0</td>\n",
       "      <td>...</td>\n",
       "      <td>4.0</td>\n",
       "      <td>6.1</td>\n",
       "      <td>5.0</td>\n",
       "      <td>3.8</td>\n",
       "      <td>3.4</td>\n",
       "      <td>3.7</td>\n",
       "      <td>3.6</td>\n",
       "      <td>4.4</td>\n",
       "      <td>2.9</td>\n",
       "      <td>124</td>\n",
       "    </tr>\n",
       "    <tr>\n",
       "      <th>4</th>\n",
       "      <td>Armenia</td>\n",
       "      <td>ARM</td>\n",
       "      <td>8.0</td>\n",
       "      <td>5.1</td>\n",
       "      <td>0.0</td>\n",
       "      <td>0.0</td>\n",
       "      <td>3.4</td>\n",
       "      <td>4.0</td>\n",
       "      <td>0.2</td>\n",
       "      <td>0</td>\n",
       "      <td>...</td>\n",
       "      <td>7.5</td>\n",
       "      <td>5.6</td>\n",
       "      <td>6.6</td>\n",
       "      <td>3.9</td>\n",
       "      <td>3.1</td>\n",
       "      <td>4.2</td>\n",
       "      <td>3.8</td>\n",
       "      <td>5.3</td>\n",
       "      <td>3.2</td>\n",
       "      <td>110</td>\n",
       "    </tr>\n",
       "    <tr>\n",
       "      <th>...</th>\n",
       "      <td>...</td>\n",
       "      <td>...</td>\n",
       "      <td>...</td>\n",
       "      <td>...</td>\n",
       "      <td>...</td>\n",
       "      <td>...</td>\n",
       "      <td>...</td>\n",
       "      <td>...</td>\n",
       "      <td>...</td>\n",
       "      <td>...</td>\n",
       "      <td>...</td>\n",
       "      <td>...</td>\n",
       "      <td>...</td>\n",
       "      <td>...</td>\n",
       "      <td>...</td>\n",
       "      <td>...</td>\n",
       "      <td>...</td>\n",
       "      <td>...</td>\n",
       "      <td>...</td>\n",
       "      <td>...</td>\n",
       "      <td>...</td>\n",
       "    </tr>\n",
       "    <tr>\n",
       "      <th>116</th>\n",
       "      <td>Uzbekistan</td>\n",
       "      <td>UZB</td>\n",
       "      <td>9.8</td>\n",
       "      <td>6.7</td>\n",
       "      <td>0.0</td>\n",
       "      <td>0.0</td>\n",
       "      <td>5.7</td>\n",
       "      <td>5.9</td>\n",
       "      <td>4.0</td>\n",
       "      <td>0</td>\n",
       "      <td>...</td>\n",
       "      <td>2.6</td>\n",
       "      <td>7.6</td>\n",
       "      <td>5.1</td>\n",
       "      <td>5.6</td>\n",
       "      <td>3.8</td>\n",
       "      <td>4.5</td>\n",
       "      <td>4.6</td>\n",
       "      <td>4.9</td>\n",
       "      <td>3.7</td>\n",
       "      <td>96</td>\n",
       "    </tr>\n",
       "    <tr>\n",
       "      <th>117</th>\n",
       "      <td>Venezuela</td>\n",
       "      <td>VEN</td>\n",
       "      <td>8.0</td>\n",
       "      <td>6.3</td>\n",
       "      <td>0.5</td>\n",
       "      <td>0.7</td>\n",
       "      <td>0.9</td>\n",
       "      <td>4.1</td>\n",
       "      <td>6.1</td>\n",
       "      <td>0</td>\n",
       "      <td>...</td>\n",
       "      <td>5.5</td>\n",
       "      <td>7.6</td>\n",
       "      <td>6.5</td>\n",
       "      <td>4.2</td>\n",
       "      <td>3.9</td>\n",
       "      <td>4.8</td>\n",
       "      <td>4.3</td>\n",
       "      <td>5.5</td>\n",
       "      <td>4.6</td>\n",
       "      <td>58</td>\n",
       "    </tr>\n",
       "    <tr>\n",
       "      <th>118</th>\n",
       "      <td>Viet Nam</td>\n",
       "      <td>VNM</td>\n",
       "      <td>3.1</td>\n",
       "      <td>10.0</td>\n",
       "      <td>8.4</td>\n",
       "      <td>8.5</td>\n",
       "      <td>3.4</td>\n",
       "      <td>7.7</td>\n",
       "      <td>1.7</td>\n",
       "      <td>0</td>\n",
       "      <td>...</td>\n",
       "      <td>4.4</td>\n",
       "      <td>6.2</td>\n",
       "      <td>5.3</td>\n",
       "      <td>4.6</td>\n",
       "      <td>3.5</td>\n",
       "      <td>6.1</td>\n",
       "      <td>4.7</td>\n",
       "      <td>5.0</td>\n",
       "      <td>4.4</td>\n",
       "      <td>70</td>\n",
       "    </tr>\n",
       "    <tr>\n",
       "      <th>119</th>\n",
       "      <td>Yemen</td>\n",
       "      <td>YEM</td>\n",
       "      <td>0.2</td>\n",
       "      <td>0.0</td>\n",
       "      <td>5.8</td>\n",
       "      <td>0.0</td>\n",
       "      <td>2.8</td>\n",
       "      <td>2.1</td>\n",
       "      <td>9.9</td>\n",
       "      <td>10</td>\n",
       "      <td>...</td>\n",
       "      <td>9.2</td>\n",
       "      <td>7.8</td>\n",
       "      <td>8.5</td>\n",
       "      <td>7.4</td>\n",
       "      <td>7.8</td>\n",
       "      <td>9.8</td>\n",
       "      <td>8.3</td>\n",
       "      <td>8.4</td>\n",
       "      <td>7.3</td>\n",
       "      <td>5</td>\n",
       "    </tr>\n",
       "    <tr>\n",
       "      <th>120</th>\n",
       "      <td>Zambia</td>\n",
       "      <td>ZMB</td>\n",
       "      <td>1.3</td>\n",
       "      <td>4.3</td>\n",
       "      <td>0.0</td>\n",
       "      <td>0.0</td>\n",
       "      <td>3.7</td>\n",
       "      <td>2.0</td>\n",
       "      <td>2.9</td>\n",
       "      <td>0</td>\n",
       "      <td>...</td>\n",
       "      <td>3.5</td>\n",
       "      <td>6.1</td>\n",
       "      <td>4.8</td>\n",
       "      <td>8.4</td>\n",
       "      <td>7.7</td>\n",
       "      <td>7.8</td>\n",
       "      <td>7.9</td>\n",
       "      <td>6.6</td>\n",
       "      <td>4.3</td>\n",
       "      <td>71</td>\n",
       "    </tr>\n",
       "  </tbody>\n",
       "</table>\n",
       "<p>121 rows × 33 columns</p>\n",
       "</div>"
      ],
      "text/plain": [
       "         COUNTRY ISO3  Earthquake  Flood  Tsunami  Tropical Cyclone  Drought  \\\n",
       "0    Afghanistan  AFG         8.9    7.9      0.0               0.0      6.8   \n",
       "1        Algeria  DZA         5.2    5.8      0.0               0.8      2.6   \n",
       "2         Angola  AGO         0.0    3.6      0.0               0.0      4.4   \n",
       "3      Argentina  ARG         5.0    8.3      0.0               0.0      1.8   \n",
       "4        Armenia  ARM         8.0    5.1      0.0               0.0      3.4   \n",
       "..           ...  ...         ...    ...      ...               ...      ...   \n",
       "116   Uzbekistan  UZB         9.8    6.7      0.0               0.0      5.7   \n",
       "117    Venezuela  VEN         8.0    6.3      0.5               0.7      0.9   \n",
       "118     Viet Nam  VNM         3.1   10.0      8.4               8.5      3.4   \n",
       "119        Yemen  YEM         0.2    0.0      5.8               0.0      2.8   \n",
       "120       Zambia  ZMB         1.3    4.3      0.0               0.0      3.7   \n",
       "\n",
       "     Natural  Projected Conflict Risk  \\\n",
       "0        5.9                      9.9   \n",
       "1        3.2                      7.7   \n",
       "2        1.8                      7.0   \n",
       "3        3.9                      2.9   \n",
       "4        4.0                      0.2   \n",
       "..       ...                      ...   \n",
       "116      5.9                      4.0   \n",
       "117      4.1                      6.1   \n",
       "118      7.7                      1.7   \n",
       "119      2.1                      9.9   \n",
       "120      2.0                      2.9   \n",
       "\n",
       "     Current Highly Violent Conflict Intensity  ...  DRR  Governance  \\\n",
       "0                                           10  ...  7.3         8.5   \n",
       "1                                            8  ...  3.5         6.3   \n",
       "2                                            0  ...  5.3         7.6   \n",
       "3                                            0  ...  4.0         6.1   \n",
       "4                                            0  ...  7.5         5.6   \n",
       "..                                         ...  ...  ...         ...   \n",
       "116                                          0  ...  2.6         7.6   \n",
       "117                                          0  ...  5.5         7.6   \n",
       "118                                          0  ...  4.4         6.2   \n",
       "119                                         10  ...  9.2         7.8   \n",
       "120                                          0  ...  3.5         6.1   \n",
       "\n",
       "     Institutional  Communication  Physical infrastructure  \\\n",
       "0              7.9            8.1                      8.2   \n",
       "1              4.9            5.5                      4.5   \n",
       "2              6.4            8.1                      7.8   \n",
       "3              5.0            3.8                      3.4   \n",
       "4              6.6            3.9                      3.1   \n",
       "..             ...            ...                      ...   \n",
       "116            5.1            5.6                      3.8   \n",
       "117            6.5            4.2                      3.9   \n",
       "118            5.3            4.6                      3.5   \n",
       "119            8.5            7.4                      7.8   \n",
       "120            4.8            8.4                      7.7   \n",
       "\n",
       "     Access to health care  Infrastructure  LACK OF COPING CAPACITY  \\\n",
       "0                      8.8             8.4                      8.2   \n",
       "1                      5.7             5.2                      5.1   \n",
       "2                      9.2             8.4                      7.5   \n",
       "3                      3.7             3.6                      4.4   \n",
       "4                      4.2             3.8                      5.3   \n",
       "..                     ...             ...                      ...   \n",
       "116                    4.5             4.6                      4.9   \n",
       "117                    4.8             4.3                      5.5   \n",
       "118                    6.1             4.7                      5.0   \n",
       "119                    9.8             8.3                      8.4   \n",
       "120                    7.8             7.9                      6.6   \n",
       "\n",
       "     Overall RISK  Rank  \n",
       "0             8.0     3  \n",
       "1             5.4    31  \n",
       "2             4.5    64  \n",
       "3             2.9   124  \n",
       "4             3.2   110  \n",
       "..            ...   ...  \n",
       "116           3.7    96  \n",
       "117           4.6    58  \n",
       "118           4.4    70  \n",
       "119           7.3     5  \n",
       "120           4.3    71  \n",
       "\n",
       "[121 rows x 33 columns]"
      ]
     },
     "execution_count": 3,
     "metadata": {},
     "output_type": "execute_result"
    }
   ],
   "source": [
    "world_disaster = pd.read_csv('disaster.csv')\n",
    "world_disaster.tail()\n",
    "wm = json.load(open(\"countries.geojson\"))\n",
    "world_disaster\n"
   ]
  },
  {
   "cell_type": "code",
   "execution_count": 4,
   "metadata": {},
   "outputs": [],
   "source": [
    "sort = sorted(world_disaster['COUNTRY'])"
   ]
  },
  {
   "cell_type": "code",
   "execution_count": 8,
   "metadata": {},
   "outputs": [
    {
     "name": "stdout",
     "output_type": "stream",
     "text": [
      "Success!\n"
     ]
    }
   ],
   "source": [
    "\n",
    "loc = world_disaster['LACK OF COPING CAPACITY'].values.tolist()\n",
    "PI = world_disaster['Physical infrastructure'].values.tolist()\n",
    "#converting values from data to int for the chloropleth graphs\n",
    "array_int = np.array(loc, dtype='int')\n",
    "array_int2 = np.array(PI, dtype=\"int\")\n",
    "array_int2.sort()\n",
    "\n",
    "\n",
    "\n",
    "\n",
    "\n",
    "\n",
    "\n",
    "\n",
    "\n",
    "print(\"Success!\")\n"
   ]
  },
  {
   "cell_type": "code",
   "execution_count": 7,
   "metadata": {},
   "outputs": [
    {
     "data": {
      "application/vnd.plotly.v1+json": {
       "config": {
        "plotlyServerURL": "https://plot.ly"
       },
       "data": [
        {
         "coloraxis": "coloraxis",
         "geo": "geo",
         "hovertemplate": "<b>%{hovertext}</b><br><br>ISO3=%{location}<br>Human=%{z}<extra></extra>",
         "hovertext": [
          "Afghanistan",
          "Algeria",
          "Angola",
          "Argentina",
          "Armenia",
          "Australia",
          "Bahrain",
          "Bangladesh",
          "Belarus",
          "Bhutan",
          "Bolivia",
          "Botswana",
          "Brazil",
          "Brunei Darussalam",
          "Bulgaria",
          "Burkina Faso",
          "Burundi",
          "Cabo Verde",
          "Cambodia",
          "Canada",
          "Chile",
          "China",
          "Colombia",
          "Comoros",
          "Costa Rica",
          "Côte d'Ivoire",
          "Croatia",
          "Cuba",
          "Czech Republic",
          "Djibouti",
          "Dominican Republic",
          "Ecuador",
          "Egypt",
          "El Salvador",
          "Ethiopia",
          "Finland",
          "France",
          "Georgia",
          "Germany",
          "Ghana",
          "Greece",
          "Guatemala",
          "Guinea-Bissau",
          "Haiti",
          "Honduras",
          "Hungary",
          "India",
          "Indonesia",
          "Iran",
          "Italy",
          "Jamaica",
          "Japan",
          "Jordan",
          "Kazakhstan",
          "Kenya",
          "Korea Republic of",
          "Kyrgyzstan",
          "Lao PDR",
          "Lesotho",
          "Macedonia FYR",
          "Madagascar",
          "Malawi",
          "Malaysia",
          "Maldives",
          "Mali",
          "Mauritania",
          "Mauritius",
          "Mexico",
          "Moldova Republic of",
          "Mongolia",
          "Montenegro",
          "Morocco",
          "Mozambique",
          "Myanmar",
          "Namibia",
          "Nepal",
          "Netherlands",
          "New Zealand",
          "Nicaragua",
          "Niger",
          "Nigeria",
          "Norway",
          "Pakistan",
          "Palestine",
          "Panama",
          "Paraguay",
          "Peru",
          "Philippines",
          "Poland",
          "Portugal",
          "Romania",
          "Rwanda",
          "Senegal",
          "Serbia",
          "Seychelles",
          "Sierra Leone",
          "Singapore",
          "Slovenia",
          "Sri Lanka",
          "Sudan",
          "Swaziland",
          "Sweden",
          "Switzerland",
          "Syria",
          "Tajikistan",
          "Tanzania",
          "Thailand",
          "Timor-Leste",
          "Togo",
          "Tonga",
          "Trinidad and Tobago",
          "Tunisia",
          "Turkey",
          "United Kingdom",
          "United States of America",
          "Uruguay",
          "Uzbekistan",
          "Venezuela",
          "Viet Nam",
          "Yemen",
          "Zambia"
         ],
         "locations": [
          "AFG",
          "DZA",
          "AGO",
          "ARG",
          "ARM",
          "AUS",
          "BHR",
          "BGD",
          "BLR",
          "BTN",
          "BOL",
          "BWA",
          "BRA",
          "BRN",
          "BGR",
          "BFA",
          "BDI",
          "CPV",
          "KHM",
          "CAN",
          "CHL",
          "CHN",
          "COL",
          "COM",
          "CRI",
          "CIV",
          "HRV",
          "CUB",
          "CZE",
          "DJI",
          "DOM",
          "ECU",
          "EGY",
          "SLV",
          "ETH",
          "FIN",
          "FRA",
          "GEO",
          "DEU",
          "GHA",
          "GRC",
          "GTM",
          "GNB",
          "HTI",
          "HND",
          "HUN",
          "IND",
          "IDN",
          "IRN",
          "ITA",
          "JAM",
          "JPN",
          "JOR",
          "KAZ",
          "KEN",
          "KOR",
          "KGZ",
          "LAO",
          "LSO",
          "MKD",
          "MDG",
          "MWI",
          "MYS",
          "MDV",
          "MLI",
          "MRT",
          "MUS",
          "MEX",
          "MDA",
          "MNG",
          "MNE",
          "MAR",
          "MOZ",
          "MMR",
          "NAM",
          "NPL",
          "NLD",
          "NZL",
          "NIC",
          "NER",
          "NGA",
          "NOR",
          "PAK",
          "PSE",
          "PAN",
          "PRY",
          "PER",
          "PHL",
          "POL",
          "PRT",
          "ROU",
          "RWA",
          "SEN",
          "SRB",
          "SYC",
          "SLE",
          "SGP",
          "SVN",
          "LKA",
          "SDN",
          "SWZ",
          "SWE",
          "CHE",
          "SYR",
          "TJK",
          "TZA",
          "THA",
          "TLS",
          "TGO",
          "TON",
          "TTO",
          "TUN",
          "TUR",
          "GBR",
          "USA",
          "URY",
          "UZB",
          "VEN",
          "VNM",
          "YEM",
          "ZMB"
         ],
         "name": "",
         "type": "choropleth",
         "z": [
          10,
          8,
          4.9,
          2.1,
          0.1,
          0.1,
          0.6,
          6.1,
          1.2,
          0.1,
          2.2,
          0.2,
          6,
          0,
          1.3,
          1.9,
          4.6,
          0,
          3.7,
          0.7,
          0.9,
          6.3,
          7,
          0.1,
          0.1,
          3.9,
          0,
          0.1,
          0.1,
          0.4,
          1.7,
          0.7,
          7,
          1,
          6.3,
          0,
          2.3,
          3.9,
          0.2,
          1.2,
          2.8,
          3.7,
          2.1,
          3.6,
          2.2,
          0.7,
          7,
          6.4,
          5.2,
          2.8,
          1.3,
          0.9,
          1.6,
          2.2,
          7,
          0.2,
          2.5,
          1.6,
          1.1,
          1,
          0.9,
          0.4,
          2.3,
          0,
          8,
          2.3,
          0,
          9,
          4.2,
          0.9,
          0,
          2.2,
          2.9,
          7,
          1,
          3.8,
          0.1,
          0,
          2,
          4.5,
          9,
          0,
          8,
          9,
          2.2,
          1.7,
          3.9,
          7,
          1.2,
          0.1,
          2.4,
          1.6,
          4,
          1.9,
          0,
          2.6,
          0,
          0,
          5.2,
          9,
          2.5,
          0,
          0.1,
          10,
          5,
          3.9,
          5.2,
          0.5,
          2.9,
          0,
          0.1,
          2.2,
          5.5,
          3.5,
          2.8,
          0,
          2.8,
          4.2,
          1.2,
          10,
          2
         ]
        }
       ],
       "layout": {
        "coloraxis": {
         "colorbar": {
          "title": {
           "text": "Human"
          }
         },
         "colorscale": [
          [
           0,
           "rgb(214, 249, 207)"
          ],
          [
           0.09090909090909091,
           "rgb(186, 228, 174)"
          ],
          [
           0.18181818181818182,
           "rgb(156, 209, 143)"
          ],
          [
           0.2727272727272727,
           "rgb(124, 191, 115)"
          ],
          [
           0.36363636363636365,
           "rgb(85, 174, 91)"
          ],
          [
           0.45454545454545453,
           "rgb(37, 157, 81)"
          ],
          [
           0.5454545454545454,
           "rgb(7, 138, 78)"
          ],
          [
           0.6363636363636364,
           "rgb(13, 117, 71)"
          ],
          [
           0.7272727272727273,
           "rgb(23, 95, 61)"
          ],
          [
           0.8181818181818182,
           "rgb(25, 75, 49)"
          ],
          [
           0.9090909090909091,
           "rgb(23, 55, 35)"
          ],
          [
           1,
           "rgb(17, 36, 20)"
          ]
         ]
        },
        "geo": {
         "center": {},
         "domain": {
          "x": [
           0,
           1
          ],
          "y": [
           0,
           1
          ]
         },
         "fitbounds": "locations",
         "projection": {
          "type": "orthographic"
         },
         "visible": true
        },
        "legend": {
         "tracegroupgap": 0
        },
        "margin": {
         "b": 0,
         "l": 0,
         "r": 0,
         "t": 0
        },
        "template": {
         "data": {
          "bar": [
           {
            "error_x": {
             "color": "#2a3f5f"
            },
            "error_y": {
             "color": "#2a3f5f"
            },
            "marker": {
             "line": {
              "color": "#E5ECF6",
              "width": 0.5
             },
             "pattern": {
              "fillmode": "overlay",
              "size": 10,
              "solidity": 0.2
             }
            },
            "type": "bar"
           }
          ],
          "barpolar": [
           {
            "marker": {
             "line": {
              "color": "#E5ECF6",
              "width": 0.5
             },
             "pattern": {
              "fillmode": "overlay",
              "size": 10,
              "solidity": 0.2
             }
            },
            "type": "barpolar"
           }
          ],
          "carpet": [
           {
            "aaxis": {
             "endlinecolor": "#2a3f5f",
             "gridcolor": "white",
             "linecolor": "white",
             "minorgridcolor": "white",
             "startlinecolor": "#2a3f5f"
            },
            "baxis": {
             "endlinecolor": "#2a3f5f",
             "gridcolor": "white",
             "linecolor": "white",
             "minorgridcolor": "white",
             "startlinecolor": "#2a3f5f"
            },
            "type": "carpet"
           }
          ],
          "choropleth": [
           {
            "colorbar": {
             "outlinewidth": 0,
             "ticks": ""
            },
            "type": "choropleth"
           }
          ],
          "contour": [
           {
            "colorbar": {
             "outlinewidth": 0,
             "ticks": ""
            },
            "colorscale": [
             [
              0,
              "#0d0887"
             ],
             [
              0.1111111111111111,
              "#46039f"
             ],
             [
              0.2222222222222222,
              "#7201a8"
             ],
             [
              0.3333333333333333,
              "#9c179e"
             ],
             [
              0.4444444444444444,
              "#bd3786"
             ],
             [
              0.5555555555555556,
              "#d8576b"
             ],
             [
              0.6666666666666666,
              "#ed7953"
             ],
             [
              0.7777777777777778,
              "#fb9f3a"
             ],
             [
              0.8888888888888888,
              "#fdca26"
             ],
             [
              1,
              "#f0f921"
             ]
            ],
            "type": "contour"
           }
          ],
          "contourcarpet": [
           {
            "colorbar": {
             "outlinewidth": 0,
             "ticks": ""
            },
            "type": "contourcarpet"
           }
          ],
          "heatmap": [
           {
            "colorbar": {
             "outlinewidth": 0,
             "ticks": ""
            },
            "colorscale": [
             [
              0,
              "#0d0887"
             ],
             [
              0.1111111111111111,
              "#46039f"
             ],
             [
              0.2222222222222222,
              "#7201a8"
             ],
             [
              0.3333333333333333,
              "#9c179e"
             ],
             [
              0.4444444444444444,
              "#bd3786"
             ],
             [
              0.5555555555555556,
              "#d8576b"
             ],
             [
              0.6666666666666666,
              "#ed7953"
             ],
             [
              0.7777777777777778,
              "#fb9f3a"
             ],
             [
              0.8888888888888888,
              "#fdca26"
             ],
             [
              1,
              "#f0f921"
             ]
            ],
            "type": "heatmap"
           }
          ],
          "heatmapgl": [
           {
            "colorbar": {
             "outlinewidth": 0,
             "ticks": ""
            },
            "colorscale": [
             [
              0,
              "#0d0887"
             ],
             [
              0.1111111111111111,
              "#46039f"
             ],
             [
              0.2222222222222222,
              "#7201a8"
             ],
             [
              0.3333333333333333,
              "#9c179e"
             ],
             [
              0.4444444444444444,
              "#bd3786"
             ],
             [
              0.5555555555555556,
              "#d8576b"
             ],
             [
              0.6666666666666666,
              "#ed7953"
             ],
             [
              0.7777777777777778,
              "#fb9f3a"
             ],
             [
              0.8888888888888888,
              "#fdca26"
             ],
             [
              1,
              "#f0f921"
             ]
            ],
            "type": "heatmapgl"
           }
          ],
          "histogram": [
           {
            "marker": {
             "pattern": {
              "fillmode": "overlay",
              "size": 10,
              "solidity": 0.2
             }
            },
            "type": "histogram"
           }
          ],
          "histogram2d": [
           {
            "colorbar": {
             "outlinewidth": 0,
             "ticks": ""
            },
            "colorscale": [
             [
              0,
              "#0d0887"
             ],
             [
              0.1111111111111111,
              "#46039f"
             ],
             [
              0.2222222222222222,
              "#7201a8"
             ],
             [
              0.3333333333333333,
              "#9c179e"
             ],
             [
              0.4444444444444444,
              "#bd3786"
             ],
             [
              0.5555555555555556,
              "#d8576b"
             ],
             [
              0.6666666666666666,
              "#ed7953"
             ],
             [
              0.7777777777777778,
              "#fb9f3a"
             ],
             [
              0.8888888888888888,
              "#fdca26"
             ],
             [
              1,
              "#f0f921"
             ]
            ],
            "type": "histogram2d"
           }
          ],
          "histogram2dcontour": [
           {
            "colorbar": {
             "outlinewidth": 0,
             "ticks": ""
            },
            "colorscale": [
             [
              0,
              "#0d0887"
             ],
             [
              0.1111111111111111,
              "#46039f"
             ],
             [
              0.2222222222222222,
              "#7201a8"
             ],
             [
              0.3333333333333333,
              "#9c179e"
             ],
             [
              0.4444444444444444,
              "#bd3786"
             ],
             [
              0.5555555555555556,
              "#d8576b"
             ],
             [
              0.6666666666666666,
              "#ed7953"
             ],
             [
              0.7777777777777778,
              "#fb9f3a"
             ],
             [
              0.8888888888888888,
              "#fdca26"
             ],
             [
              1,
              "#f0f921"
             ]
            ],
            "type": "histogram2dcontour"
           }
          ],
          "mesh3d": [
           {
            "colorbar": {
             "outlinewidth": 0,
             "ticks": ""
            },
            "type": "mesh3d"
           }
          ],
          "parcoords": [
           {
            "line": {
             "colorbar": {
              "outlinewidth": 0,
              "ticks": ""
             }
            },
            "type": "parcoords"
           }
          ],
          "pie": [
           {
            "automargin": true,
            "type": "pie"
           }
          ],
          "scatter": [
           {
            "fillpattern": {
             "fillmode": "overlay",
             "size": 10,
             "solidity": 0.2
            },
            "type": "scatter"
           }
          ],
          "scatter3d": [
           {
            "line": {
             "colorbar": {
              "outlinewidth": 0,
              "ticks": ""
             }
            },
            "marker": {
             "colorbar": {
              "outlinewidth": 0,
              "ticks": ""
             }
            },
            "type": "scatter3d"
           }
          ],
          "scattercarpet": [
           {
            "marker": {
             "colorbar": {
              "outlinewidth": 0,
              "ticks": ""
             }
            },
            "type": "scattercarpet"
           }
          ],
          "scattergeo": [
           {
            "marker": {
             "colorbar": {
              "outlinewidth": 0,
              "ticks": ""
             }
            },
            "type": "scattergeo"
           }
          ],
          "scattergl": [
           {
            "marker": {
             "colorbar": {
              "outlinewidth": 0,
              "ticks": ""
             }
            },
            "type": "scattergl"
           }
          ],
          "scattermapbox": [
           {
            "marker": {
             "colorbar": {
              "outlinewidth": 0,
              "ticks": ""
             }
            },
            "type": "scattermapbox"
           }
          ],
          "scatterpolar": [
           {
            "marker": {
             "colorbar": {
              "outlinewidth": 0,
              "ticks": ""
             }
            },
            "type": "scatterpolar"
           }
          ],
          "scatterpolargl": [
           {
            "marker": {
             "colorbar": {
              "outlinewidth": 0,
              "ticks": ""
             }
            },
            "type": "scatterpolargl"
           }
          ],
          "scatterternary": [
           {
            "marker": {
             "colorbar": {
              "outlinewidth": 0,
              "ticks": ""
             }
            },
            "type": "scatterternary"
           }
          ],
          "surface": [
           {
            "colorbar": {
             "outlinewidth": 0,
             "ticks": ""
            },
            "colorscale": [
             [
              0,
              "#0d0887"
             ],
             [
              0.1111111111111111,
              "#46039f"
             ],
             [
              0.2222222222222222,
              "#7201a8"
             ],
             [
              0.3333333333333333,
              "#9c179e"
             ],
             [
              0.4444444444444444,
              "#bd3786"
             ],
             [
              0.5555555555555556,
              "#d8576b"
             ],
             [
              0.6666666666666666,
              "#ed7953"
             ],
             [
              0.7777777777777778,
              "#fb9f3a"
             ],
             [
              0.8888888888888888,
              "#fdca26"
             ],
             [
              1,
              "#f0f921"
             ]
            ],
            "type": "surface"
           }
          ],
          "table": [
           {
            "cells": {
             "fill": {
              "color": "#EBF0F8"
             },
             "line": {
              "color": "white"
             }
            },
            "header": {
             "fill": {
              "color": "#C8D4E3"
             },
             "line": {
              "color": "white"
             }
            },
            "type": "table"
           }
          ]
         },
         "layout": {
          "annotationdefaults": {
           "arrowcolor": "#2a3f5f",
           "arrowhead": 0,
           "arrowwidth": 1
          },
          "autotypenumbers": "strict",
          "coloraxis": {
           "colorbar": {
            "outlinewidth": 0,
            "ticks": ""
           }
          },
          "colorscale": {
           "diverging": [
            [
             0,
             "#8e0152"
            ],
            [
             0.1,
             "#c51b7d"
            ],
            [
             0.2,
             "#de77ae"
            ],
            [
             0.3,
             "#f1b6da"
            ],
            [
             0.4,
             "#fde0ef"
            ],
            [
             0.5,
             "#f7f7f7"
            ],
            [
             0.6,
             "#e6f5d0"
            ],
            [
             0.7,
             "#b8e186"
            ],
            [
             0.8,
             "#7fbc41"
            ],
            [
             0.9,
             "#4d9221"
            ],
            [
             1,
             "#276419"
            ]
           ],
           "sequential": [
            [
             0,
             "#0d0887"
            ],
            [
             0.1111111111111111,
             "#46039f"
            ],
            [
             0.2222222222222222,
             "#7201a8"
            ],
            [
             0.3333333333333333,
             "#9c179e"
            ],
            [
             0.4444444444444444,
             "#bd3786"
            ],
            [
             0.5555555555555556,
             "#d8576b"
            ],
            [
             0.6666666666666666,
             "#ed7953"
            ],
            [
             0.7777777777777778,
             "#fb9f3a"
            ],
            [
             0.8888888888888888,
             "#fdca26"
            ],
            [
             1,
             "#f0f921"
            ]
           ],
           "sequentialminus": [
            [
             0,
             "#0d0887"
            ],
            [
             0.1111111111111111,
             "#46039f"
            ],
            [
             0.2222222222222222,
             "#7201a8"
            ],
            [
             0.3333333333333333,
             "#9c179e"
            ],
            [
             0.4444444444444444,
             "#bd3786"
            ],
            [
             0.5555555555555556,
             "#d8576b"
            ],
            [
             0.6666666666666666,
             "#ed7953"
            ],
            [
             0.7777777777777778,
             "#fb9f3a"
            ],
            [
             0.8888888888888888,
             "#fdca26"
            ],
            [
             1,
             "#f0f921"
            ]
           ]
          },
          "colorway": [
           "#636efa",
           "#EF553B",
           "#00cc96",
           "#ab63fa",
           "#FFA15A",
           "#19d3f3",
           "#FF6692",
           "#B6E880",
           "#FF97FF",
           "#FECB52"
          ],
          "font": {
           "color": "#2a3f5f"
          },
          "geo": {
           "bgcolor": "white",
           "lakecolor": "white",
           "landcolor": "#E5ECF6",
           "showlakes": true,
           "showland": true,
           "subunitcolor": "white"
          },
          "hoverlabel": {
           "align": "left"
          },
          "hovermode": "closest",
          "mapbox": {
           "style": "light"
          },
          "paper_bgcolor": "white",
          "plot_bgcolor": "#E5ECF6",
          "polar": {
           "angularaxis": {
            "gridcolor": "white",
            "linecolor": "white",
            "ticks": ""
           },
           "bgcolor": "#E5ECF6",
           "radialaxis": {
            "gridcolor": "white",
            "linecolor": "white",
            "ticks": ""
           }
          },
          "scene": {
           "xaxis": {
            "backgroundcolor": "#E5ECF6",
            "gridcolor": "white",
            "gridwidth": 2,
            "linecolor": "white",
            "showbackground": true,
            "ticks": "",
            "zerolinecolor": "white"
           },
           "yaxis": {
            "backgroundcolor": "#E5ECF6",
            "gridcolor": "white",
            "gridwidth": 2,
            "linecolor": "white",
            "showbackground": true,
            "ticks": "",
            "zerolinecolor": "white"
           },
           "zaxis": {
            "backgroundcolor": "#E5ECF6",
            "gridcolor": "white",
            "gridwidth": 2,
            "linecolor": "white",
            "showbackground": true,
            "ticks": "",
            "zerolinecolor": "white"
           }
          },
          "shapedefaults": {
           "line": {
            "color": "#2a3f5f"
           }
          },
          "ternary": {
           "aaxis": {
            "gridcolor": "white",
            "linecolor": "white",
            "ticks": ""
           },
           "baxis": {
            "gridcolor": "white",
            "linecolor": "white",
            "ticks": ""
           },
           "bgcolor": "#E5ECF6",
           "caxis": {
            "gridcolor": "white",
            "linecolor": "white",
            "ticks": ""
           }
          },
          "title": {
           "x": 0.05
          },
          "xaxis": {
           "automargin": true,
           "gridcolor": "white",
           "linecolor": "white",
           "ticks": "",
           "title": {
            "standoff": 15
           },
           "zerolinecolor": "white",
           "zerolinewidth": 2
          },
          "yaxis": {
           "automargin": true,
           "gridcolor": "white",
           "linecolor": "white",
           "ticks": "",
           "title": {
            "standoff": 15
           },
           "zerolinecolor": "white",
           "zerolinewidth": 2
          }
         }
        },
        "title": {
         "text": "Countries sorted by socio-economic vulnerability"
        }
       }
      }
     },
     "metadata": {},
     "output_type": "display_data"
    }
   ],
   "source": [
    "fig = px.choropleth(world_disaster, locations=\"ISO3\",\n",
    "                    color=\"Human\",\n",
    "                    hover_name=\"COUNTRY\",\n",
    "                    projection=\"orthographic\",\n",
    "                    \n",
    "                    title = \"Countries sorted by socio-economic vulnerability\",                 color_continuous_scale=px.colors.sequential.algae)\n",
    "\n",
    "fig.update_geos(fitbounds=\"locations\", visible=True)\n",
    "fig.update_layout(margin={\"r\":0,\"t\":0,\"l\":0,\"b\":0})\n",
    " \n",
    "fig[\"layout\"].pop(\"updatemenus\")\n",
    "fig.write_html(\"C:/Data Assignment/natural.html\")\n",
    "fig.show()"
   ]
  },
  {
   "cell_type": "code",
   "execution_count": null,
   "metadata": {},
   "outputs": [
    {
     "data": {
      "application/vnd.plotly.v1+json": {
       "config": {
        "plotlyServerURL": "https://plot.ly"
       },
       "data": [
        {
         "coloraxis": "coloraxis",
         "geo": "geo",
         "hovertemplate": "<b>%{hovertext}</b><br><br>Physical infrastructure=8.2<br>ISO3=%{location}<br>Natural=%{z}<extra></extra>",
         "hovertext": [
          "Afghanistan"
         ],
         "locations": [
          "AFG"
         ],
         "name": "",
         "type": "choropleth",
         "z": [
          5.9
         ]
        }
       ],
       "frames": [
        {
         "data": [
          {
           "coloraxis": "coloraxis",
           "geo": "geo",
           "hovertemplate": "<b>%{hovertext}</b><br><br>Physical infrastructure=8.2<br>ISO3=%{location}<br>Natural=%{z}<extra></extra>",
           "hovertext": [
            "Afghanistan"
           ],
           "locations": [
            "AFG"
           ],
           "name": "",
           "type": "choropleth",
           "z": [
            5.9
           ]
          }
         ],
         "name": "8.2"
        },
        {
         "data": [
          {
           "coloraxis": "coloraxis",
           "geo": "geo",
           "hovertemplate": "<b>%{hovertext}</b><br><br>Physical infrastructure=4.5<br>ISO3=%{location}<br>Natural=%{z}<extra></extra>",
           "hovertext": [
            "Algeria",
            "Ecuador",
            "Honduras"
           ],
           "locations": [
            "DZA",
            "ECU",
            "HND"
           ],
           "name": "",
           "type": "choropleth",
           "z": [
            3.2,
            7,
            5.3
           ]
          }
         ],
         "name": "4.5"
        },
        {
         "data": [
          {
           "coloraxis": "coloraxis",
           "geo": "geo",
           "hovertemplate": "<b>%{hovertext}</b><br><br>Physical infrastructure=7.8<br>ISO3=%{location}<br>Natural=%{z}<extra></extra>",
           "hovertext": [
            "Angola",
            "Guinea-Bissau",
            "Yemen"
           ],
           "locations": [
            "AGO",
            "GNB",
            "YEM"
           ],
           "name": "",
           "type": "choropleth",
           "z": [
            1.8,
            1.1,
            2.1
           ]
          }
         ],
         "name": "7.8"
        },
        {
         "data": [
          {
           "coloraxis": "coloraxis",
           "geo": "geo",
           "hovertemplate": "<b>%{hovertext}</b><br><br>Physical infrastructure=3.4<br>ISO3=%{location}<br>Natural=%{z}<extra></extra>",
           "hovertext": [
            "Argentina",
            "India",
            "Philippines"
           ],
           "locations": [
            "ARG",
            "IND",
            "PHL"
           ],
           "name": "",
           "type": "choropleth",
           "z": [
            3.9,
            8.2,
            9.3
           ]
          }
         ],
         "name": "3.4"
        },
        {
         "data": [
          {
           "coloraxis": "coloraxis",
           "geo": "geo",
           "hovertemplate": "<b>%{hovertext}</b><br><br>Physical infrastructure=3.1<br>ISO3=%{location}<br>Natural=%{z}<extra></extra>",
           "hovertext": [
            "Armenia",
            "Australia",
            "Canada",
            "Georgia",
            "Thailand"
           ],
           "locations": [
            "ARM",
            "AUS",
            "CAN",
            "GEO",
            "THA"
           ],
           "name": "",
           "type": "choropleth",
           "z": [
            4,
            4.4,
            6.1,
            4.2,
            5.9
           ]
          }
         ],
         "name": "3.1"
        },
        {
         "data": [
          {
           "coloraxis": "coloraxis",
           "geo": "geo",
           "hovertemplate": "<b>%{hovertext}</b><br><br>Physical infrastructure=0.0<br>ISO3=%{location}<br>Natural=%{z}<extra></extra>",
           "hovertext": [
            "Bahrain",
            "Czech Republic",
            "France",
            "Germany",
            "Hungary",
            "Italy",
            "Netherlands",
            "Singapore",
            "Slovenia",
            "Switzerland",
            "United Kingdom"
           ],
           "locations": [
            "BHR",
            "CZE",
            "FRA",
            "DEU",
            "HUN",
            "ITA",
            "NLD",
            "SGP",
            "SVN",
            "CHE",
            "GBR"
           ],
           "name": "",
           "type": "choropleth",
           "z": [
            0.2,
            2,
            3.1,
            2.8,
            2.9,
            3.4,
            2,
            0,
            2.7,
            2.2,
            2.1
           ]
          }
         ],
         "name": "0.0"
        },
        {
         "data": [
          {
           "coloraxis": "coloraxis",
           "geo": "geo",
           "hovertemplate": "<b>%{hovertext}</b><br><br>Physical infrastructure=5.6<br>ISO3=%{location}<br>Natural=%{z}<extra></extra>",
           "hovertext": [
            "Bangladesh"
           ],
           "locations": [
            "BGD"
           ],
           "name": "",
           "type": "choropleth",
           "z": [
            9.1
           ]
          }
         ],
         "name": "5.6"
        },
        {
         "data": [
          {
           "coloraxis": "coloraxis",
           "geo": "geo",
           "hovertemplate": "<b>%{hovertext}</b><br><br>Physical infrastructure=2.7<br>ISO3=%{location}<br>Natural=%{z}<extra></extra>",
           "hovertext": [
            "Belarus",
            "Norway",
            "Turkey"
           ],
           "locations": [
            "BLR",
            "NOR",
            "TUR"
           ],
           "name": "",
           "type": "choropleth",
           "z": [
            1.5,
            0.2,
            6.7
           ]
          }
         ],
         "name": "2.7"
        },
        {
         "data": [
          {
           "coloraxis": "coloraxis",
           "geo": "geo",
           "hovertemplate": "<b>%{hovertext}</b><br><br>Physical infrastructure=5.0<br>ISO3=%{location}<br>Natural=%{z}<extra></extra>",
           "hovertext": [
            "Bhutan",
            "Djibouti",
            "Myanmar",
            "Peru",
            "Tajikistan"
           ],
           "locations": [
            "BTN",
            "DJI",
            "MMR",
            "PER",
            "TJK"
           ],
           "name": "",
           "type": "choropleth",
           "z": [
            4.7,
            4.6,
            9.1,
            7.7,
            5.5
           ]
          }
         ],
         "name": "5.0"
        },
        {
         "data": [
          {
           "coloraxis": "coloraxis",
           "geo": "geo",
           "hovertemplate": "<b>%{hovertext}</b><br><br>Physical infrastructure=6.0<br>ISO3=%{location}<br>Natural=%{z}<extra></extra>",
           "hovertext": [
            "Bolivia",
            "Burundi",
            "Mongolia"
           ],
           "locations": [
            "BOL",
            "BDI",
            "MNG"
           ],
           "name": "",
           "type": "choropleth",
           "z": [
            3.8,
            2.7,
            2.8
           ]
          }
         ],
         "name": "6.0"
        },
        {
         "data": [
          {
           "coloraxis": "coloraxis",
           "geo": "geo",
           "hovertemplate": "<b>%{hovertext}</b><br><br>Physical infrastructure=4.8<br>ISO3=%{location}<br>Natural=%{z}<extra></extra>",
           "hovertext": [
            "Botswana"
           ],
           "locations": [
            "BWA"
           ],
           "name": "",
           "type": "choropleth",
           "z": [
            2.5
           ]
          }
         ],
         "name": "4.8"
        },
        {
         "data": [
          {
           "coloraxis": "coloraxis",
           "geo": "geo",
           "hovertemplate": "<b>%{hovertext}</b><br><br>Physical infrastructure=3.8<br>ISO3=%{location}<br>Natural=%{z}<extra></extra>",
           "hovertext": [
            "Brazil",
            "Iran",
            "Kazakhstan",
            "Mexico",
            "Uzbekistan"
           ],
           "locations": [
            "BRA",
            "IRN",
            "KAZ",
            "MEX",
            "UZB"
           ],
           "name": "",
           "type": "choropleth",
           "z": [
            4.1,
            7,
            3.6,
            7.5,
            5.9
           ]
          }
         ],
         "name": "3.8"
        },
        {
         "data": [
          {
           "coloraxis": "coloraxis",
           "geo": "geo",
           "hovertemplate": "<b>%{hovertext}</b><br><br>Physical infrastructure=6.5<br>ISO3=%{location}<br>Natural=%{z}<extra></extra>",
           "hovertext": [
            "Brunei Darussalam"
           ],
           "locations": [
            "BRN"
           ],
           "name": "",
           "type": "choropleth",
           "z": [
            0.2
           ]
          }
         ],
         "name": "6.5"
        },
        {
         "data": [
          {
           "coloraxis": "coloraxis",
           "geo": "geo",
           "hovertemplate": "<b>%{hovertext}</b><br><br>Physical infrastructure=3.0<br>ISO3=%{location}<br>Natural=%{z}<extra></extra>",
           "hovertext": [
            "Bulgaria",
            "Palestine"
           ],
           "locations": [
            "BGR",
            "PSE"
           ],
           "name": "",
           "type": "choropleth",
           "z": [
            3.2,
            2.4
           ]
          }
         ],
         "name": "3.0"
        },
        {
         "data": [
          {
           "coloraxis": "coloraxis",
           "geo": "geo",
           "hovertemplate": "<b>%{hovertext}</b><br><br>Physical infrastructure=7.5<br>ISO3=%{location}<br>Natural=%{z}<extra></extra>",
           "hovertext": [
            "Burkina Faso"
           ],
           "locations": [
            "BFA"
           ],
           "name": "",
           "type": "choropleth",
           "z": [
            2.4
           ]
          }
         ],
         "name": "7.5"
        },
        {
         "data": [
          {
           "coloraxis": "coloraxis",
           "geo": "geo",
           "hovertemplate": "<b>%{hovertext}</b><br><br>Physical infrastructure=4.6<br>ISO3=%{location}<br>Natural=%{z}<extra></extra>",
           "hovertext": [
            "Cabo Verde"
           ],
           "locations": [
            "CPV"
           ],
           "name": "",
           "type": "choropleth",
           "z": [
            2
           ]
          }
         ],
         "name": "4.6"
        },
        {
         "data": [
          {
           "coloraxis": "coloraxis",
           "geo": "geo",
           "hovertemplate": "<b>%{hovertext}</b><br><br>Physical infrastructure=7.1<br>ISO3=%{location}<br>Natural=%{z}<extra></extra>",
           "hovertext": [
            "Cambodia"
           ],
           "locations": [
            "KHM"
           ],
           "name": "",
           "type": "choropleth",
           "z": [
            5
           ]
          }
         ],
         "name": "7.1"
        },
        {
         "data": [
          {
           "coloraxis": "coloraxis",
           "geo": "geo",
           "hovertemplate": "<b>%{hovertext}</b><br><br>Physical infrastructure=3.2<br>ISO3=%{location}<br>Natural=%{z}<extra></extra>",
           "hovertext": [
            "Chile",
            "Egypt",
            "Moldova Republic of"
           ],
           "locations": [
            "CHL",
            "EGY",
            "MDA"
           ],
           "name": "",
           "type": "choropleth",
           "z": [
            7.2,
            5.7,
            3.8
           ]
          }
         ],
         "name": "3.2"
        },
        {
         "data": [
          {
           "coloraxis": "coloraxis",
           "geo": "geo",
           "hovertemplate": "<b>%{hovertext}</b><br><br>Physical infrastructure=4.2<br>ISO3=%{location}<br>Natural=%{z}<extra></extra>",
           "hovertext": [
            "China"
           ],
           "locations": [
            "CHN"
           ],
           "name": "",
           "type": "choropleth",
           "z": [
            7.9
           ]
          }
         ],
         "name": "4.2"
        },
        {
         "data": [
          {
           "coloraxis": "coloraxis",
           "geo": "geo",
           "hovertemplate": "<b>%{hovertext}</b><br><br>Physical infrastructure=4.4<br>ISO3=%{location}<br>Natural=%{z}<extra></extra>",
           "hovertext": [
            "Colombia",
            "El Salvador",
            "Romania"
           ],
           "locations": [
            "COL",
            "SLV",
            "ROU"
           ],
           "name": "",
           "type": "choropleth",
           "z": [
            5.8,
            5.9,
            4.8
           ]
          }
         ],
         "name": "4.4"
        },
        {
         "data": [
          {
           "coloraxis": "coloraxis",
           "geo": "geo",
           "hovertemplate": "<b>%{hovertext}</b><br><br>Physical infrastructure=5.2<br>ISO3=%{location}<br>Natural=%{z}<extra></extra>",
           "hovertext": [
            "Comoros"
           ],
           "locations": [
            "COM"
           ],
           "name": "",
           "type": "choropleth",
           "z": [
            1.9
           ]
          }
         ],
         "name": "5.2"
        },
        {
         "data": [
          {
           "coloraxis": "coloraxis",
           "geo": "geo",
           "hovertemplate": "<b>%{hovertext}</b><br><br>Physical infrastructure=2.1<br>ISO3=%{location}<br>Natural=%{z}<extra></extra>",
           "hovertext": [
            "Costa Rica"
           ],
           "locations": [
            "CRI"
           ],
           "name": "",
           "type": "choropleth",
           "z": [
            4.9
           ]
          }
         ],
         "name": "2.1"
        },
        {
         "data": [
          {
           "coloraxis": "coloraxis",
           "geo": "geo",
           "hovertemplate": "<b>%{hovertext}</b><br><br>Physical infrastructure=7.0<br>ISO3=%{location}<br>Natural=%{z}<extra></extra>",
           "hovertext": [
            "Côte d'Ivoire"
           ],
           "locations": [
            "CIV"
           ],
           "name": "",
           "type": "choropleth",
           "z": [
            1.5
           ]
          }
         ],
         "name": "7.0"
        },
        {
         "data": [
          {
           "coloraxis": "coloraxis",
           "geo": "geo",
           "hovertemplate": "<b>%{hovertext}</b><br><br>Physical infrastructure=2.4<br>ISO3=%{location}<br>Natural=%{z}<extra></extra>",
           "hovertext": [
            "Croatia",
            "Serbia"
           ],
           "locations": [
            "HRV",
            "SRB"
           ],
           "name": "",
           "type": "choropleth",
           "z": [
            3.2,
            4.4
           ]
          }
         ],
         "name": "2.4"
        },
        {
         "data": [
          {
           "coloraxis": "coloraxis",
           "geo": "geo",
           "hovertemplate": "<b>%{hovertext}</b><br><br>Physical infrastructure=2.8<br>ISO3=%{location}<br>Natural=%{z}<extra></extra>",
           "hovertext": [
            "Cuba",
            "Finland",
            "Maldives",
            "Portugal"
           ],
           "locations": [
            "CUB",
            "FIN",
            "MDV",
            "PRT"
           ],
           "name": "",
           "type": "choropleth",
           "z": [
            4.9,
            0,
            0.3,
            2.9
           ]
          }
         ],
         "name": "2.8"
        },
        {
         "data": [
          {
           "coloraxis": "coloraxis",
           "geo": "geo",
           "hovertemplate": "<b>%{hovertext}</b><br><br>Physical infrastructure=4.7<br>ISO3=%{location}<br>Natural=%{z}<extra></extra>",
           "hovertext": [
            "Dominican Republic"
           ],
           "locations": [
            "DOM"
           ],
           "name": "",
           "type": "choropleth",
           "z": [
            7.1
           ]
          }
         ],
         "name": "4.7"
        },
        {
         "data": [
          {
           "coloraxis": "coloraxis",
           "geo": "geo",
           "hovertemplate": "<b>%{hovertext}</b><br><br>Physical infrastructure=9.3<br>ISO3=%{location}<br>Natural=%{z}<extra></extra>",
           "hovertext": [
            "Ethiopia"
           ],
           "locations": [
            "ETH"
           ],
           "name": "",
           "type": "choropleth",
           "z": [
            4.2
           ]
          }
         ],
         "name": "9.3"
        },
        {
         "data": [
          {
           "coloraxis": "coloraxis",
           "geo": "geo",
           "hovertemplate": "<b>%{hovertext}</b><br><br>Physical infrastructure=6.4<br>ISO3=%{location}<br>Natural=%{z}<extra></extra>",
           "hovertext": [
            "Ghana"
           ],
           "locations": [
            "GHA"
           ],
           "name": "",
           "type": "choropleth",
           "z": [
            1.5
           ]
          }
         ],
         "name": "6.4"
        },
        {
         "data": [
          {
           "coloraxis": "coloraxis",
           "geo": "geo",
           "hovertemplate": "<b>%{hovertext}</b><br><br>Physical infrastructure=1.4<br>ISO3=%{location}<br>Natural=%{z}<extra></extra>",
           "hovertext": [
            "Greece",
            "Japan"
           ],
           "locations": [
            "GRC",
            "JPN"
           ],
           "name": "",
           "type": "choropleth",
           "z": [
            4.3,
            8.4
           ]
          }
         ],
         "name": "1.4"
        },
        {
         "data": [
          {
           "coloraxis": "coloraxis",
           "geo": "geo",
           "hovertemplate": "<b>%{hovertext}</b><br><br>Physical infrastructure=4.3<br>ISO3=%{location}<br>Natural=%{z}<extra></extra>",
           "hovertext": [
            "Guatemala",
            "Panama",
            "Paraguay"
           ],
           "locations": [
            "GTM",
            "PAN",
            "PRY"
           ],
           "name": "",
           "type": "choropleth",
           "z": [
            6.8,
            3.2,
            2.8
           ]
          }
         ],
         "name": "4.3"
        },
        {
         "data": [
          {
           "coloraxis": "coloraxis",
           "geo": "geo",
           "hovertemplate": "<b>%{hovertext}</b><br><br>Physical infrastructure=8.3<br>ISO3=%{location}<br>Natural=%{z}<extra></extra>",
           "hovertext": [
            "Haiti",
            "Kenya"
           ],
           "locations": [
            "HTI",
            "KEN"
           ],
           "name": "",
           "type": "choropleth",
           "z": [
            6.1,
            4.2
           ]
          }
         ],
         "name": "8.3"
        },
        {
         "data": [
          {
           "coloraxis": "coloraxis",
           "geo": "geo",
           "hovertemplate": "<b>%{hovertext}</b><br><br>Physical infrastructure=5.3<br>ISO3=%{location}<br>Natural=%{z}<extra></extra>",
           "hovertext": [
            "Indonesia"
           ],
           "locations": [
            "IDN"
           ],
           "name": "",
           "type": "choropleth",
           "z": [
            7.5
           ]
          }
         ],
         "name": "5.3"
        },
        {
         "data": [
          {
           "coloraxis": "coloraxis",
           "geo": "geo",
           "hovertemplate": "<b>%{hovertext}</b><br><br>Physical infrastructure=1.2<br>ISO3=%{location}<br>Natural=%{z}<extra></extra>",
           "hovertext": [
            "Jamaica",
            "Korea Republic of",
            "Seychelles"
           ],
           "locations": [
            "JAM",
            "KOR",
            "SYC"
           ],
           "name": "",
           "type": "choropleth",
           "z": [
            5.1,
            4.2,
            3
           ]
          }
         ],
         "name": "1.2"
        },
        {
         "data": [
          {
           "coloraxis": "coloraxis",
           "geo": "geo",
           "hovertemplate": "<b>%{hovertext}</b><br><br>Physical infrastructure=3.5<br>ISO3=%{location}<br>Natural=%{z}<extra></extra>",
           "hovertext": [
            "Jordan",
            "Viet Nam"
           ],
           "locations": [
            "JOR",
            "VNM"
           ],
           "name": "",
           "type": "choropleth",
           "z": [
            3,
            7.7
           ]
          }
         ],
         "name": "3.5"
        },
        {
         "data": [
          {
           "coloraxis": "coloraxis",
           "geo": "geo",
           "hovertemplate": "<b>%{hovertext}</b><br><br>Physical infrastructure=4.1<br>ISO3=%{location}<br>Natural=%{z}<extra></extra>",
           "hovertext": [
            "Kyrgyzstan"
           ],
           "locations": [
            "KGZ"
           ],
           "name": "",
           "type": "choropleth",
           "z": [
            5.4
           ]
          }
         ],
         "name": "4.1"
        },
        {
         "data": [
          {
           "coloraxis": "coloraxis",
           "geo": "geo",
           "hovertemplate": "<b>%{hovertext}</b><br><br>Physical infrastructure=6.2<br>ISO3=%{location}<br>Natural=%{z}<extra></extra>",
           "hovertext": [
            "Lao PDR",
            "Nepal",
            "Swaziland"
           ],
           "locations": [
            "LAO",
            "NPL",
            "SWZ"
           ],
           "name": "",
           "type": "choropleth",
           "z": [
            4.7,
            6.8,
            1.7
           ]
          }
         ],
         "name": "6.2"
        },
        {
         "data": [
          {
           "coloraxis": "coloraxis",
           "geo": "geo",
           "hovertemplate": "<b>%{hovertext}</b><br><br>Physical infrastructure=6.8<br>ISO3=%{location}<br>Natural=%{z}<extra></extra>",
           "hovertext": [
            "Lesotho"
           ],
           "locations": [
            "LSO"
           ],
           "name": "",
           "type": "choropleth",
           "z": [
            2
           ]
          }
         ],
         "name": "6.8"
        },
        {
         "data": [
          {
           "coloraxis": "coloraxis",
           "geo": "geo",
           "hovertemplate": "<b>%{hovertext}</b><br><br>Physical infrastructure=2.5<br>ISO3=%{location}<br>Natural=%{z}<extra></extra>",
           "hovertext": [
            "Macedonia FYR",
            "Uruguay"
           ],
           "locations": [
            "MKD",
            "URY"
           ],
           "name": "",
           "type": "choropleth",
           "z": [
            2.8,
            1.7
           ]
          }
         ],
         "name": "2.5"
        },
        {
         "data": [
          {
           "coloraxis": "coloraxis",
           "geo": "geo",
           "hovertemplate": "<b>%{hovertext}</b><br><br>Physical infrastructure=9.7<br>ISO3=%{location}<br>Natural=%{z}<extra></extra>",
           "hovertext": [
            "Madagascar"
           ],
           "locations": [
            "MDG"
           ],
           "name": "",
           "type": "choropleth",
           "z": [
            5.6
           ]
          }
         ],
         "name": "9.7"
        },
        {
         "data": [
          {
           "coloraxis": "coloraxis",
           "geo": "geo",
           "hovertemplate": "<b>%{hovertext}</b><br><br>Physical infrastructure=7.4<br>ISO3=%{location}<br>Natural=%{z}<extra></extra>",
           "hovertext": [
            "Malawi"
           ],
           "locations": [
            "MWI"
           ],
           "name": "",
           "type": "choropleth",
           "z": [
            3.3
           ]
          }
         ],
         "name": "7.4"
        },
        {
         "data": [
          {
           "coloraxis": "coloraxis",
           "geo": "geo",
           "hovertemplate": "<b>%{hovertext}</b><br><br>Physical infrastructure=2.6<br>ISO3=%{location}<br>Natural=%{z}<extra></extra>",
           "hovertext": [
            "Malaysia",
            "Montenegro"
           ],
           "locations": [
            "MYS",
            "MNE"
           ],
           "name": "",
           "type": "choropleth",
           "z": [
            3.4,
            2.4
           ]
          }
         ],
         "name": "2.6"
        },
        {
         "data": [
          {
           "coloraxis": "coloraxis",
           "geo": "geo",
           "hovertemplate": "<b>%{hovertext}</b><br><br>Physical infrastructure=8.4<br>ISO3=%{location}<br>Natural=%{z}<extra></extra>",
           "hovertext": [
            "Mali"
           ],
           "locations": [
            "MLI"
           ],
           "name": "",
           "type": "choropleth",
           "z": [
            2.8
           ]
          }
         ],
         "name": "8.4"
        },
        {
         "data": [
          {
           "coloraxis": "coloraxis",
           "geo": "geo",
           "hovertemplate": "<b>%{hovertext}</b><br><br>Physical infrastructure=9.4<br>ISO3=%{location}<br>Natural=%{z}<extra></extra>",
           "hovertext": [
            "Mauritania"
           ],
           "locations": [
            "MRT"
           ],
           "name": "",
           "type": "choropleth",
           "z": [
            3.9
           ]
          }
         ],
         "name": "9.4"
        },
        {
         "data": [
          {
           "coloraxis": "coloraxis",
           "geo": "geo",
           "hovertemplate": "<b>%{hovertext}</b><br><br>Physical infrastructure=1.5<br>ISO3=%{location}<br>Natural=%{z}<extra></extra>",
           "hovertext": [
            "Mauritius"
           ],
           "locations": [
            "MUS"
           ],
           "name": "",
           "type": "choropleth",
           "z": [
            5.7
           ]
          }
         ],
         "name": "1.5"
        },
        {
         "data": [
          {
           "coloraxis": "coloraxis",
           "geo": "geo",
           "hovertemplate": "<b>%{hovertext}</b><br><br>Physical infrastructure=5.1<br>ISO3=%{location}<br>Natural=%{z}<extra></extra>",
           "hovertext": [
            "Morocco",
            "Pakistan"
           ],
           "locations": [
            "MAR",
            "PAK"
           ],
           "name": "",
           "type": "choropleth",
           "z": [
            2.9,
            7.1
           ]
          }
         ],
         "name": "5.1"
        },
        {
         "data": [
          {
           "coloraxis": "coloraxis",
           "geo": "geo",
           "hovertemplate": "<b>%{hovertext}</b><br><br>Physical infrastructure=9.5<br>ISO3=%{location}<br>Natural=%{z}<extra></extra>",
           "hovertext": [
            "Mozambique",
            "Tanzania"
           ],
           "locations": [
            "MOZ",
            "TZA"
           ],
           "name": "",
           "type": "choropleth",
           "z": [
            5.6,
            4.1
           ]
          }
         ],
         "name": "9.5"
        },
        {
         "data": [
          {
           "coloraxis": "coloraxis",
           "geo": "geo",
           "hovertemplate": "<b>%{hovertext}</b><br><br>Physical infrastructure=6.3<br>ISO3=%{location}<br>Natural=%{z}<extra></extra>",
           "hovertext": [
            "Namibia",
            "Timor-Leste"
           ],
           "locations": [
            "NAM",
            "TLS"
           ],
           "name": "",
           "type": "choropleth",
           "z": [
            2.7,
            4.9
           ]
          }
         ],
         "name": "6.3"
        },
        {
         "data": [
          {
           "coloraxis": "coloraxis",
           "geo": "geo",
           "hovertemplate": "<b>%{hovertext}</b><br><br>Physical infrastructure=3.9<br>ISO3=%{location}<br>Natural=%{z}<extra></extra>",
           "hovertext": [
            "New Zealand",
            "Venezuela"
           ],
           "locations": [
            "NZL",
            "VEN"
           ],
           "name": "",
           "type": "choropleth",
           "z": [
            6.9,
            4.1
           ]
          }
         ],
         "name": "3.9"
        },
        {
         "data": [
          {
           "coloraxis": "coloraxis",
           "geo": "geo",
           "hovertemplate": "<b>%{hovertext}</b><br><br>Physical infrastructure=5.8<br>ISO3=%{location}<br>Natural=%{z}<extra></extra>",
           "hovertext": [
            "Nicaragua"
           ],
           "locations": [
            "NIC"
           ],
           "name": "",
           "type": "choropleth",
           "z": [
            5.3
           ]
          }
         ],
         "name": "5.8"
        },
        {
         "data": [
          {
           "coloraxis": "coloraxis",
           "geo": "geo",
           "hovertemplate": "<b>%{hovertext}</b><br><br>Physical infrastructure=9.8<br>ISO3=%{location}<br>Natural=%{z}<extra></extra>",
           "hovertext": [
            "Niger"
           ],
           "locations": [
            "NER"
           ],
           "name": "",
           "type": "choropleth",
           "z": [
            3.1
           ]
          }
         ],
         "name": "9.8"
        },
        {
         "data": [
          {
           "coloraxis": "coloraxis",
           "geo": "geo",
           "hovertemplate": "<b>%{hovertext}</b><br><br>Physical infrastructure=8.0<br>ISO3=%{location}<br>Natural=%{z}<extra></extra>",
           "hovertext": [
            "Nigeria"
           ],
           "locations": [
            "NGA"
           ],
           "name": "",
           "type": "choropleth",
           "z": [
            2.4
           ]
          }
         ],
         "name": "8.0"
        },
        {
         "data": [
          {
           "coloraxis": "coloraxis",
           "geo": "geo",
           "hovertemplate": "<b>%{hovertext}</b><br><br>Physical infrastructure=1.3<br>ISO3=%{location}<br>Natural=%{z}<extra></extra>",
           "hovertext": [
            "Poland"
           ],
           "locations": [
            "POL"
           ],
           "name": "",
           "type": "choropleth",
           "z": [
            2.3
           ]
          }
         ],
         "name": "1.3"
        },
        {
         "data": [
          {
           "coloraxis": "coloraxis",
           "geo": "geo",
           "hovertemplate": "<b>%{hovertext}</b><br><br>Physical infrastructure=5.5<br>ISO3=%{location}<br>Natural=%{z}<extra></extra>",
           "hovertext": [
            "Rwanda"
           ],
           "locations": [
            "RWA"
           ],
           "name": "",
           "type": "choropleth",
           "z": [
            2.9
           ]
          }
         ],
         "name": "5.5"
        },
        {
         "data": [
          {
           "coloraxis": "coloraxis",
           "geo": "geo",
           "hovertemplate": "<b>%{hovertext}</b><br><br>Physical infrastructure=6.7<br>ISO3=%{location}<br>Natural=%{z}<extra></extra>",
           "hovertext": [
            "Senegal"
           ],
           "locations": [
            "SEN"
           ],
           "name": "",
           "type": "choropleth",
           "z": [
            2.8
           ]
          }
         ],
         "name": "6.7"
        },
        {
         "data": [
          {
           "coloraxis": "coloraxis",
           "geo": "geo",
           "hovertemplate": "<b>%{hovertext}</b><br><br>Physical infrastructure=8.8<br>ISO3=%{location}<br>Natural=%{z}<extra></extra>",
           "hovertext": [
            "Sierra Leone",
            "Togo"
           ],
           "locations": [
            "SLE",
            "TGO"
           ],
           "name": "",
           "type": "choropleth",
           "z": [
            1.2,
            1.2
           ]
          }
         ],
         "name": "8.8"
        },
        {
         "data": [
          {
           "coloraxis": "coloraxis",
           "geo": "geo",
           "hovertemplate": "<b>%{hovertext}</b><br><br>Physical infrastructure=0.7<br>ISO3=%{location}<br>Natural=%{z}<extra></extra>",
           "hovertext": [
            "Sri Lanka",
            "Trinidad and Tobago"
           ],
           "locations": [
            "LKA",
            "TTO"
           ],
           "name": "",
           "type": "choropleth",
           "z": [
            6.4,
            2.4
           ]
          }
         ],
         "name": "0.7"
        },
        {
         "data": [
          {
           "coloraxis": "coloraxis",
           "geo": "geo",
           "hovertemplate": "<b>%{hovertext}</b><br><br>Physical infrastructure=9.1<br>ISO3=%{location}<br>Natural=%{z}<extra></extra>",
           "hovertext": [
            "Sudan"
           ],
           "locations": [
            "SDN"
           ],
           "name": "",
           "type": "choropleth",
           "z": [
            4.2
           ]
          }
         ],
         "name": "9.1"
        },
        {
         "data": [
          {
           "coloraxis": "coloraxis",
           "geo": "geo",
           "hovertemplate": "<b>%{hovertext}</b><br><br>Physical infrastructure=0.5<br>ISO3=%{location}<br>Natural=%{z}<extra></extra>",
           "hovertext": [
            "Sweden"
           ],
           "locations": [
            "SWE"
           ],
           "name": "",
           "type": "choropleth",
           "z": [
            0.9
           ]
          }
         ],
         "name": "0.5"
        },
        {
         "data": [
          {
           "coloraxis": "coloraxis",
           "geo": "geo",
           "hovertemplate": "<b>%{hovertext}</b><br><br>Physical infrastructure=3.3<br>ISO3=%{location}<br>Natural=%{z}<extra></extra>",
           "hovertext": [
            "Syria"
           ],
           "locations": [
            "SYR"
           ],
           "name": "",
           "type": "choropleth",
           "z": [
            4.4
           ]
          }
         ],
         "name": "3.3"
        },
        {
         "data": [
          {
           "coloraxis": "coloraxis",
           "geo": "geo",
           "hovertemplate": "<b>%{hovertext}</b><br><br>Physical infrastructure=1.7<br>ISO3=%{location}<br>Natural=%{z}<extra></extra>",
           "hovertext": [
            "Tonga"
           ],
           "locations": [
            "TON"
           ],
           "name": "",
           "type": "choropleth",
           "z": [
            2.8
           ]
          }
         ],
         "name": "1.7"
        },
        {
         "data": [
          {
           "coloraxis": "coloraxis",
           "geo": "geo",
           "hovertemplate": "<b>%{hovertext}</b><br><br>Physical infrastructure=3.7<br>ISO3=%{location}<br>Natural=%{z}<extra></extra>",
           "hovertext": [
            "Tunisia"
           ],
           "locations": [
            "TUN"
           ],
           "name": "",
           "type": "choropleth",
           "z": [
            2.4
           ]
          }
         ],
         "name": "3.7"
        },
        {
         "data": [
          {
           "coloraxis": "coloraxis",
           "geo": "geo",
           "hovertemplate": "<b>%{hovertext}</b><br><br>Physical infrastructure=1.9<br>ISO3=%{location}<br>Natural=%{z}<extra></extra>",
           "hovertext": [
            "United States of America"
           ],
           "locations": [
            "USA"
           ],
           "name": "",
           "type": "choropleth",
           "z": [
            7.6
           ]
          }
         ],
         "name": "1.9"
        },
        {
         "data": [
          {
           "coloraxis": "coloraxis",
           "geo": "geo",
           "hovertemplate": "<b>%{hovertext}</b><br><br>Physical infrastructure=7.7<br>ISO3=%{location}<br>Natural=%{z}<extra></extra>",
           "hovertext": [
            "Zambia"
           ],
           "locations": [
            "ZMB"
           ],
           "name": "",
           "type": "choropleth",
           "z": [
            2
           ]
          }
         ],
         "name": "7.7"
        }
       ],
       "layout": {
        "coloraxis": {
         "colorbar": {
          "title": {
           "text": "Natural"
          }
         },
         "colorscale": [
          [
           0,
           "#0d0887"
          ],
          [
           0.1111111111111111,
           "#46039f"
          ],
          [
           0.2222222222222222,
           "#7201a8"
          ],
          [
           0.3333333333333333,
           "#9c179e"
          ],
          [
           0.4444444444444444,
           "#bd3786"
          ],
          [
           0.5555555555555556,
           "#d8576b"
          ],
          [
           0.6666666666666666,
           "#ed7953"
          ],
          [
           0.7777777777777778,
           "#fb9f3a"
          ],
          [
           0.8888888888888888,
           "#fdca26"
          ],
          [
           1,
           "#f0f921"
          ]
         ]
        },
        "geo": {
         "center": {},
         "domain": {
          "x": [
           0,
           1
          ],
          "y": [
           0,
           1
          ]
         },
         "fitbounds": "locations",
         "projection": {
          "type": "orthographic"
         },
         "visible": true
        },
        "legend": {
         "tracegroupgap": 0
        },
        "margin": {
         "b": 0,
         "l": 0,
         "r": 0,
         "t": 0
        },
        "sliders": [
         {
          "active": 0,
          "currentvalue": {
           "prefix": "Physical infrastructure="
          },
          "len": 0.9,
          "pad": {
           "b": 10,
           "t": 60
          },
          "steps": [
           {
            "args": [
             [
              "8.2"
             ],
             {
              "frame": {
               "duration": 0,
               "redraw": true
              },
              "fromcurrent": true,
              "mode": "immediate",
              "transition": {
               "duration": 0,
               "easing": "linear"
              }
             }
            ],
            "label": "8.2",
            "method": "animate"
           },
           {
            "args": [
             [
              "4.5"
             ],
             {
              "frame": {
               "duration": 0,
               "redraw": true
              },
              "fromcurrent": true,
              "mode": "immediate",
              "transition": {
               "duration": 0,
               "easing": "linear"
              }
             }
            ],
            "label": "4.5",
            "method": "animate"
           },
           {
            "args": [
             [
              "7.8"
             ],
             {
              "frame": {
               "duration": 0,
               "redraw": true
              },
              "fromcurrent": true,
              "mode": "immediate",
              "transition": {
               "duration": 0,
               "easing": "linear"
              }
             }
            ],
            "label": "7.8",
            "method": "animate"
           },
           {
            "args": [
             [
              "3.4"
             ],
             {
              "frame": {
               "duration": 0,
               "redraw": true
              },
              "fromcurrent": true,
              "mode": "immediate",
              "transition": {
               "duration": 0,
               "easing": "linear"
              }
             }
            ],
            "label": "3.4",
            "method": "animate"
           },
           {
            "args": [
             [
              "3.1"
             ],
             {
              "frame": {
               "duration": 0,
               "redraw": true
              },
              "fromcurrent": true,
              "mode": "immediate",
              "transition": {
               "duration": 0,
               "easing": "linear"
              }
             }
            ],
            "label": "3.1",
            "method": "animate"
           },
           {
            "args": [
             [
              "0.0"
             ],
             {
              "frame": {
               "duration": 0,
               "redraw": true
              },
              "fromcurrent": true,
              "mode": "immediate",
              "transition": {
               "duration": 0,
               "easing": "linear"
              }
             }
            ],
            "label": "0.0",
            "method": "animate"
           },
           {
            "args": [
             [
              "5.6"
             ],
             {
              "frame": {
               "duration": 0,
               "redraw": true
              },
              "fromcurrent": true,
              "mode": "immediate",
              "transition": {
               "duration": 0,
               "easing": "linear"
              }
             }
            ],
            "label": "5.6",
            "method": "animate"
           },
           {
            "args": [
             [
              "2.7"
             ],
             {
              "frame": {
               "duration": 0,
               "redraw": true
              },
              "fromcurrent": true,
              "mode": "immediate",
              "transition": {
               "duration": 0,
               "easing": "linear"
              }
             }
            ],
            "label": "2.7",
            "method": "animate"
           },
           {
            "args": [
             [
              "5.0"
             ],
             {
              "frame": {
               "duration": 0,
               "redraw": true
              },
              "fromcurrent": true,
              "mode": "immediate",
              "transition": {
               "duration": 0,
               "easing": "linear"
              }
             }
            ],
            "label": "5.0",
            "method": "animate"
           },
           {
            "args": [
             [
              "6.0"
             ],
             {
              "frame": {
               "duration": 0,
               "redraw": true
              },
              "fromcurrent": true,
              "mode": "immediate",
              "transition": {
               "duration": 0,
               "easing": "linear"
              }
             }
            ],
            "label": "6.0",
            "method": "animate"
           },
           {
            "args": [
             [
              "4.8"
             ],
             {
              "frame": {
               "duration": 0,
               "redraw": true
              },
              "fromcurrent": true,
              "mode": "immediate",
              "transition": {
               "duration": 0,
               "easing": "linear"
              }
             }
            ],
            "label": "4.8",
            "method": "animate"
           },
           {
            "args": [
             [
              "3.8"
             ],
             {
              "frame": {
               "duration": 0,
               "redraw": true
              },
              "fromcurrent": true,
              "mode": "immediate",
              "transition": {
               "duration": 0,
               "easing": "linear"
              }
             }
            ],
            "label": "3.8",
            "method": "animate"
           },
           {
            "args": [
             [
              "6.5"
             ],
             {
              "frame": {
               "duration": 0,
               "redraw": true
              },
              "fromcurrent": true,
              "mode": "immediate",
              "transition": {
               "duration": 0,
               "easing": "linear"
              }
             }
            ],
            "label": "6.5",
            "method": "animate"
           },
           {
            "args": [
             [
              "3.0"
             ],
             {
              "frame": {
               "duration": 0,
               "redraw": true
              },
              "fromcurrent": true,
              "mode": "immediate",
              "transition": {
               "duration": 0,
               "easing": "linear"
              }
             }
            ],
            "label": "3.0",
            "method": "animate"
           },
           {
            "args": [
             [
              "7.5"
             ],
             {
              "frame": {
               "duration": 0,
               "redraw": true
              },
              "fromcurrent": true,
              "mode": "immediate",
              "transition": {
               "duration": 0,
               "easing": "linear"
              }
             }
            ],
            "label": "7.5",
            "method": "animate"
           },
           {
            "args": [
             [
              "4.6"
             ],
             {
              "frame": {
               "duration": 0,
               "redraw": true
              },
              "fromcurrent": true,
              "mode": "immediate",
              "transition": {
               "duration": 0,
               "easing": "linear"
              }
             }
            ],
            "label": "4.6",
            "method": "animate"
           },
           {
            "args": [
             [
              "7.1"
             ],
             {
              "frame": {
               "duration": 0,
               "redraw": true
              },
              "fromcurrent": true,
              "mode": "immediate",
              "transition": {
               "duration": 0,
               "easing": "linear"
              }
             }
            ],
            "label": "7.1",
            "method": "animate"
           },
           {
            "args": [
             [
              "3.2"
             ],
             {
              "frame": {
               "duration": 0,
               "redraw": true
              },
              "fromcurrent": true,
              "mode": "immediate",
              "transition": {
               "duration": 0,
               "easing": "linear"
              }
             }
            ],
            "label": "3.2",
            "method": "animate"
           },
           {
            "args": [
             [
              "4.2"
             ],
             {
              "frame": {
               "duration": 0,
               "redraw": true
              },
              "fromcurrent": true,
              "mode": "immediate",
              "transition": {
               "duration": 0,
               "easing": "linear"
              }
             }
            ],
            "label": "4.2",
            "method": "animate"
           },
           {
            "args": [
             [
              "4.4"
             ],
             {
              "frame": {
               "duration": 0,
               "redraw": true
              },
              "fromcurrent": true,
              "mode": "immediate",
              "transition": {
               "duration": 0,
               "easing": "linear"
              }
             }
            ],
            "label": "4.4",
            "method": "animate"
           },
           {
            "args": [
             [
              "5.2"
             ],
             {
              "frame": {
               "duration": 0,
               "redraw": true
              },
              "fromcurrent": true,
              "mode": "immediate",
              "transition": {
               "duration": 0,
               "easing": "linear"
              }
             }
            ],
            "label": "5.2",
            "method": "animate"
           },
           {
            "args": [
             [
              "2.1"
             ],
             {
              "frame": {
               "duration": 0,
               "redraw": true
              },
              "fromcurrent": true,
              "mode": "immediate",
              "transition": {
               "duration": 0,
               "easing": "linear"
              }
             }
            ],
            "label": "2.1",
            "method": "animate"
           },
           {
            "args": [
             [
              "7.0"
             ],
             {
              "frame": {
               "duration": 0,
               "redraw": true
              },
              "fromcurrent": true,
              "mode": "immediate",
              "transition": {
               "duration": 0,
               "easing": "linear"
              }
             }
            ],
            "label": "7.0",
            "method": "animate"
           },
           {
            "args": [
             [
              "2.4"
             ],
             {
              "frame": {
               "duration": 0,
               "redraw": true
              },
              "fromcurrent": true,
              "mode": "immediate",
              "transition": {
               "duration": 0,
               "easing": "linear"
              }
             }
            ],
            "label": "2.4",
            "method": "animate"
           },
           {
            "args": [
             [
              "2.8"
             ],
             {
              "frame": {
               "duration": 0,
               "redraw": true
              },
              "fromcurrent": true,
              "mode": "immediate",
              "transition": {
               "duration": 0,
               "easing": "linear"
              }
             }
            ],
            "label": "2.8",
            "method": "animate"
           },
           {
            "args": [
             [
              "4.7"
             ],
             {
              "frame": {
               "duration": 0,
               "redraw": true
              },
              "fromcurrent": true,
              "mode": "immediate",
              "transition": {
               "duration": 0,
               "easing": "linear"
              }
             }
            ],
            "label": "4.7",
            "method": "animate"
           },
           {
            "args": [
             [
              "9.3"
             ],
             {
              "frame": {
               "duration": 0,
               "redraw": true
              },
              "fromcurrent": true,
              "mode": "immediate",
              "transition": {
               "duration": 0,
               "easing": "linear"
              }
             }
            ],
            "label": "9.3",
            "method": "animate"
           },
           {
            "args": [
             [
              "6.4"
             ],
             {
              "frame": {
               "duration": 0,
               "redraw": true
              },
              "fromcurrent": true,
              "mode": "immediate",
              "transition": {
               "duration": 0,
               "easing": "linear"
              }
             }
            ],
            "label": "6.4",
            "method": "animate"
           },
           {
            "args": [
             [
              "1.4"
             ],
             {
              "frame": {
               "duration": 0,
               "redraw": true
              },
              "fromcurrent": true,
              "mode": "immediate",
              "transition": {
               "duration": 0,
               "easing": "linear"
              }
             }
            ],
            "label": "1.4",
            "method": "animate"
           },
           {
            "args": [
             [
              "4.3"
             ],
             {
              "frame": {
               "duration": 0,
               "redraw": true
              },
              "fromcurrent": true,
              "mode": "immediate",
              "transition": {
               "duration": 0,
               "easing": "linear"
              }
             }
            ],
            "label": "4.3",
            "method": "animate"
           },
           {
            "args": [
             [
              "8.3"
             ],
             {
              "frame": {
               "duration": 0,
               "redraw": true
              },
              "fromcurrent": true,
              "mode": "immediate",
              "transition": {
               "duration": 0,
               "easing": "linear"
              }
             }
            ],
            "label": "8.3",
            "method": "animate"
           },
           {
            "args": [
             [
              "5.3"
             ],
             {
              "frame": {
               "duration": 0,
               "redraw": true
              },
              "fromcurrent": true,
              "mode": "immediate",
              "transition": {
               "duration": 0,
               "easing": "linear"
              }
             }
            ],
            "label": "5.3",
            "method": "animate"
           },
           {
            "args": [
             [
              "1.2"
             ],
             {
              "frame": {
               "duration": 0,
               "redraw": true
              },
              "fromcurrent": true,
              "mode": "immediate",
              "transition": {
               "duration": 0,
               "easing": "linear"
              }
             }
            ],
            "label": "1.2",
            "method": "animate"
           },
           {
            "args": [
             [
              "3.5"
             ],
             {
              "frame": {
               "duration": 0,
               "redraw": true
              },
              "fromcurrent": true,
              "mode": "immediate",
              "transition": {
               "duration": 0,
               "easing": "linear"
              }
             }
            ],
            "label": "3.5",
            "method": "animate"
           },
           {
            "args": [
             [
              "4.1"
             ],
             {
              "frame": {
               "duration": 0,
               "redraw": true
              },
              "fromcurrent": true,
              "mode": "immediate",
              "transition": {
               "duration": 0,
               "easing": "linear"
              }
             }
            ],
            "label": "4.1",
            "method": "animate"
           },
           {
            "args": [
             [
              "6.2"
             ],
             {
              "frame": {
               "duration": 0,
               "redraw": true
              },
              "fromcurrent": true,
              "mode": "immediate",
              "transition": {
               "duration": 0,
               "easing": "linear"
              }
             }
            ],
            "label": "6.2",
            "method": "animate"
           },
           {
            "args": [
             [
              "6.8"
             ],
             {
              "frame": {
               "duration": 0,
               "redraw": true
              },
              "fromcurrent": true,
              "mode": "immediate",
              "transition": {
               "duration": 0,
               "easing": "linear"
              }
             }
            ],
            "label": "6.8",
            "method": "animate"
           },
           {
            "args": [
             [
              "2.5"
             ],
             {
              "frame": {
               "duration": 0,
               "redraw": true
              },
              "fromcurrent": true,
              "mode": "immediate",
              "transition": {
               "duration": 0,
               "easing": "linear"
              }
             }
            ],
            "label": "2.5",
            "method": "animate"
           },
           {
            "args": [
             [
              "9.7"
             ],
             {
              "frame": {
               "duration": 0,
               "redraw": true
              },
              "fromcurrent": true,
              "mode": "immediate",
              "transition": {
               "duration": 0,
               "easing": "linear"
              }
             }
            ],
            "label": "9.7",
            "method": "animate"
           },
           {
            "args": [
             [
              "7.4"
             ],
             {
              "frame": {
               "duration": 0,
               "redraw": true
              },
              "fromcurrent": true,
              "mode": "immediate",
              "transition": {
               "duration": 0,
               "easing": "linear"
              }
             }
            ],
            "label": "7.4",
            "method": "animate"
           },
           {
            "args": [
             [
              "2.6"
             ],
             {
              "frame": {
               "duration": 0,
               "redraw": true
              },
              "fromcurrent": true,
              "mode": "immediate",
              "transition": {
               "duration": 0,
               "easing": "linear"
              }
             }
            ],
            "label": "2.6",
            "method": "animate"
           },
           {
            "args": [
             [
              "8.4"
             ],
             {
              "frame": {
               "duration": 0,
               "redraw": true
              },
              "fromcurrent": true,
              "mode": "immediate",
              "transition": {
               "duration": 0,
               "easing": "linear"
              }
             }
            ],
            "label": "8.4",
            "method": "animate"
           },
           {
            "args": [
             [
              "9.4"
             ],
             {
              "frame": {
               "duration": 0,
               "redraw": true
              },
              "fromcurrent": true,
              "mode": "immediate",
              "transition": {
               "duration": 0,
               "easing": "linear"
              }
             }
            ],
            "label": "9.4",
            "method": "animate"
           },
           {
            "args": [
             [
              "1.5"
             ],
             {
              "frame": {
               "duration": 0,
               "redraw": true
              },
              "fromcurrent": true,
              "mode": "immediate",
              "transition": {
               "duration": 0,
               "easing": "linear"
              }
             }
            ],
            "label": "1.5",
            "method": "animate"
           },
           {
            "args": [
             [
              "5.1"
             ],
             {
              "frame": {
               "duration": 0,
               "redraw": true
              },
              "fromcurrent": true,
              "mode": "immediate",
              "transition": {
               "duration": 0,
               "easing": "linear"
              }
             }
            ],
            "label": "5.1",
            "method": "animate"
           },
           {
            "args": [
             [
              "9.5"
             ],
             {
              "frame": {
               "duration": 0,
               "redraw": true
              },
              "fromcurrent": true,
              "mode": "immediate",
              "transition": {
               "duration": 0,
               "easing": "linear"
              }
             }
            ],
            "label": "9.5",
            "method": "animate"
           },
           {
            "args": [
             [
              "6.3"
             ],
             {
              "frame": {
               "duration": 0,
               "redraw": true
              },
              "fromcurrent": true,
              "mode": "immediate",
              "transition": {
               "duration": 0,
               "easing": "linear"
              }
             }
            ],
            "label": "6.3",
            "method": "animate"
           },
           {
            "args": [
             [
              "3.9"
             ],
             {
              "frame": {
               "duration": 0,
               "redraw": true
              },
              "fromcurrent": true,
              "mode": "immediate",
              "transition": {
               "duration": 0,
               "easing": "linear"
              }
             }
            ],
            "label": "3.9",
            "method": "animate"
           },
           {
            "args": [
             [
              "5.8"
             ],
             {
              "frame": {
               "duration": 0,
               "redraw": true
              },
              "fromcurrent": true,
              "mode": "immediate",
              "transition": {
               "duration": 0,
               "easing": "linear"
              }
             }
            ],
            "label": "5.8",
            "method": "animate"
           },
           {
            "args": [
             [
              "9.8"
             ],
             {
              "frame": {
               "duration": 0,
               "redraw": true
              },
              "fromcurrent": true,
              "mode": "immediate",
              "transition": {
               "duration": 0,
               "easing": "linear"
              }
             }
            ],
            "label": "9.8",
            "method": "animate"
           },
           {
            "args": [
             [
              "8.0"
             ],
             {
              "frame": {
               "duration": 0,
               "redraw": true
              },
              "fromcurrent": true,
              "mode": "immediate",
              "transition": {
               "duration": 0,
               "easing": "linear"
              }
             }
            ],
            "label": "8.0",
            "method": "animate"
           },
           {
            "args": [
             [
              "1.3"
             ],
             {
              "frame": {
               "duration": 0,
               "redraw": true
              },
              "fromcurrent": true,
              "mode": "immediate",
              "transition": {
               "duration": 0,
               "easing": "linear"
              }
             }
            ],
            "label": "1.3",
            "method": "animate"
           },
           {
            "args": [
             [
              "5.5"
             ],
             {
              "frame": {
               "duration": 0,
               "redraw": true
              },
              "fromcurrent": true,
              "mode": "immediate",
              "transition": {
               "duration": 0,
               "easing": "linear"
              }
             }
            ],
            "label": "5.5",
            "method": "animate"
           },
           {
            "args": [
             [
              "6.7"
             ],
             {
              "frame": {
               "duration": 0,
               "redraw": true
              },
              "fromcurrent": true,
              "mode": "immediate",
              "transition": {
               "duration": 0,
               "easing": "linear"
              }
             }
            ],
            "label": "6.7",
            "method": "animate"
           },
           {
            "args": [
             [
              "8.8"
             ],
             {
              "frame": {
               "duration": 0,
               "redraw": true
              },
              "fromcurrent": true,
              "mode": "immediate",
              "transition": {
               "duration": 0,
               "easing": "linear"
              }
             }
            ],
            "label": "8.8",
            "method": "animate"
           },
           {
            "args": [
             [
              "0.7"
             ],
             {
              "frame": {
               "duration": 0,
               "redraw": true
              },
              "fromcurrent": true,
              "mode": "immediate",
              "transition": {
               "duration": 0,
               "easing": "linear"
              }
             }
            ],
            "label": "0.7",
            "method": "animate"
           },
           {
            "args": [
             [
              "9.1"
             ],
             {
              "frame": {
               "duration": 0,
               "redraw": true
              },
              "fromcurrent": true,
              "mode": "immediate",
              "transition": {
               "duration": 0,
               "easing": "linear"
              }
             }
            ],
            "label": "9.1",
            "method": "animate"
           },
           {
            "args": [
             [
              "0.5"
             ],
             {
              "frame": {
               "duration": 0,
               "redraw": true
              },
              "fromcurrent": true,
              "mode": "immediate",
              "transition": {
               "duration": 0,
               "easing": "linear"
              }
             }
            ],
            "label": "0.5",
            "method": "animate"
           },
           {
            "args": [
             [
              "3.3"
             ],
             {
              "frame": {
               "duration": 0,
               "redraw": true
              },
              "fromcurrent": true,
              "mode": "immediate",
              "transition": {
               "duration": 0,
               "easing": "linear"
              }
             }
            ],
            "label": "3.3",
            "method": "animate"
           },
           {
            "args": [
             [
              "1.7"
             ],
             {
              "frame": {
               "duration": 0,
               "redraw": true
              },
              "fromcurrent": true,
              "mode": "immediate",
              "transition": {
               "duration": 0,
               "easing": "linear"
              }
             }
            ],
            "label": "1.7",
            "method": "animate"
           },
           {
            "args": [
             [
              "3.7"
             ],
             {
              "frame": {
               "duration": 0,
               "redraw": true
              },
              "fromcurrent": true,
              "mode": "immediate",
              "transition": {
               "duration": 0,
               "easing": "linear"
              }
             }
            ],
            "label": "3.7",
            "method": "animate"
           },
           {
            "args": [
             [
              "1.9"
             ],
             {
              "frame": {
               "duration": 0,
               "redraw": true
              },
              "fromcurrent": true,
              "mode": "immediate",
              "transition": {
               "duration": 0,
               "easing": "linear"
              }
             }
            ],
            "label": "1.9",
            "method": "animate"
           },
           {
            "args": [
             [
              "7.7"
             ],
             {
              "frame": {
               "duration": 0,
               "redraw": true
              },
              "fromcurrent": true,
              "mode": "immediate",
              "transition": {
               "duration": 0,
               "easing": "linear"
              }
             }
            ],
            "label": "7.7",
            "method": "animate"
           }
          ],
          "x": 0.1,
          "xanchor": "left",
          "y": 0,
          "yanchor": "top"
         }
        ],
        "template": {
         "data": {
          "bar": [
           {
            "error_x": {
             "color": "#2a3f5f"
            },
            "error_y": {
             "color": "#2a3f5f"
            },
            "marker": {
             "line": {
              "color": "#E5ECF6",
              "width": 0.5
             },
             "pattern": {
              "fillmode": "overlay",
              "size": 10,
              "solidity": 0.2
             }
            },
            "type": "bar"
           }
          ],
          "barpolar": [
           {
            "marker": {
             "line": {
              "color": "#E5ECF6",
              "width": 0.5
             },
             "pattern": {
              "fillmode": "overlay",
              "size": 10,
              "solidity": 0.2
             }
            },
            "type": "barpolar"
           }
          ],
          "carpet": [
           {
            "aaxis": {
             "endlinecolor": "#2a3f5f",
             "gridcolor": "white",
             "linecolor": "white",
             "minorgridcolor": "white",
             "startlinecolor": "#2a3f5f"
            },
            "baxis": {
             "endlinecolor": "#2a3f5f",
             "gridcolor": "white",
             "linecolor": "white",
             "minorgridcolor": "white",
             "startlinecolor": "#2a3f5f"
            },
            "type": "carpet"
           }
          ],
          "choropleth": [
           {
            "colorbar": {
             "outlinewidth": 0,
             "ticks": ""
            },
            "type": "choropleth"
           }
          ],
          "contour": [
           {
            "colorbar": {
             "outlinewidth": 0,
             "ticks": ""
            },
            "colorscale": [
             [
              0,
              "#0d0887"
             ],
             [
              0.1111111111111111,
              "#46039f"
             ],
             [
              0.2222222222222222,
              "#7201a8"
             ],
             [
              0.3333333333333333,
              "#9c179e"
             ],
             [
              0.4444444444444444,
              "#bd3786"
             ],
             [
              0.5555555555555556,
              "#d8576b"
             ],
             [
              0.6666666666666666,
              "#ed7953"
             ],
             [
              0.7777777777777778,
              "#fb9f3a"
             ],
             [
              0.8888888888888888,
              "#fdca26"
             ],
             [
              1,
              "#f0f921"
             ]
            ],
            "type": "contour"
           }
          ],
          "contourcarpet": [
           {
            "colorbar": {
             "outlinewidth": 0,
             "ticks": ""
            },
            "type": "contourcarpet"
           }
          ],
          "heatmap": [
           {
            "colorbar": {
             "outlinewidth": 0,
             "ticks": ""
            },
            "colorscale": [
             [
              0,
              "#0d0887"
             ],
             [
              0.1111111111111111,
              "#46039f"
             ],
             [
              0.2222222222222222,
              "#7201a8"
             ],
             [
              0.3333333333333333,
              "#9c179e"
             ],
             [
              0.4444444444444444,
              "#bd3786"
             ],
             [
              0.5555555555555556,
              "#d8576b"
             ],
             [
              0.6666666666666666,
              "#ed7953"
             ],
             [
              0.7777777777777778,
              "#fb9f3a"
             ],
             [
              0.8888888888888888,
              "#fdca26"
             ],
             [
              1,
              "#f0f921"
             ]
            ],
            "type": "heatmap"
           }
          ],
          "heatmapgl": [
           {
            "colorbar": {
             "outlinewidth": 0,
             "ticks": ""
            },
            "colorscale": [
             [
              0,
              "#0d0887"
             ],
             [
              0.1111111111111111,
              "#46039f"
             ],
             [
              0.2222222222222222,
              "#7201a8"
             ],
             [
              0.3333333333333333,
              "#9c179e"
             ],
             [
              0.4444444444444444,
              "#bd3786"
             ],
             [
              0.5555555555555556,
              "#d8576b"
             ],
             [
              0.6666666666666666,
              "#ed7953"
             ],
             [
              0.7777777777777778,
              "#fb9f3a"
             ],
             [
              0.8888888888888888,
              "#fdca26"
             ],
             [
              1,
              "#f0f921"
             ]
            ],
            "type": "heatmapgl"
           }
          ],
          "histogram": [
           {
            "marker": {
             "pattern": {
              "fillmode": "overlay",
              "size": 10,
              "solidity": 0.2
             }
            },
            "type": "histogram"
           }
          ],
          "histogram2d": [
           {
            "colorbar": {
             "outlinewidth": 0,
             "ticks": ""
            },
            "colorscale": [
             [
              0,
              "#0d0887"
             ],
             [
              0.1111111111111111,
              "#46039f"
             ],
             [
              0.2222222222222222,
              "#7201a8"
             ],
             [
              0.3333333333333333,
              "#9c179e"
             ],
             [
              0.4444444444444444,
              "#bd3786"
             ],
             [
              0.5555555555555556,
              "#d8576b"
             ],
             [
              0.6666666666666666,
              "#ed7953"
             ],
             [
              0.7777777777777778,
              "#fb9f3a"
             ],
             [
              0.8888888888888888,
              "#fdca26"
             ],
             [
              1,
              "#f0f921"
             ]
            ],
            "type": "histogram2d"
           }
          ],
          "histogram2dcontour": [
           {
            "colorbar": {
             "outlinewidth": 0,
             "ticks": ""
            },
            "colorscale": [
             [
              0,
              "#0d0887"
             ],
             [
              0.1111111111111111,
              "#46039f"
             ],
             [
              0.2222222222222222,
              "#7201a8"
             ],
             [
              0.3333333333333333,
              "#9c179e"
             ],
             [
              0.4444444444444444,
              "#bd3786"
             ],
             [
              0.5555555555555556,
              "#d8576b"
             ],
             [
              0.6666666666666666,
              "#ed7953"
             ],
             [
              0.7777777777777778,
              "#fb9f3a"
             ],
             [
              0.8888888888888888,
              "#fdca26"
             ],
             [
              1,
              "#f0f921"
             ]
            ],
            "type": "histogram2dcontour"
           }
          ],
          "mesh3d": [
           {
            "colorbar": {
             "outlinewidth": 0,
             "ticks": ""
            },
            "type": "mesh3d"
           }
          ],
          "parcoords": [
           {
            "line": {
             "colorbar": {
              "outlinewidth": 0,
              "ticks": ""
             }
            },
            "type": "parcoords"
           }
          ],
          "pie": [
           {
            "automargin": true,
            "type": "pie"
           }
          ],
          "scatter": [
           {
            "fillpattern": {
             "fillmode": "overlay",
             "size": 10,
             "solidity": 0.2
            },
            "type": "scatter"
           }
          ],
          "scatter3d": [
           {
            "line": {
             "colorbar": {
              "outlinewidth": 0,
              "ticks": ""
             }
            },
            "marker": {
             "colorbar": {
              "outlinewidth": 0,
              "ticks": ""
             }
            },
            "type": "scatter3d"
           }
          ],
          "scattercarpet": [
           {
            "marker": {
             "colorbar": {
              "outlinewidth": 0,
              "ticks": ""
             }
            },
            "type": "scattercarpet"
           }
          ],
          "scattergeo": [
           {
            "marker": {
             "colorbar": {
              "outlinewidth": 0,
              "ticks": ""
             }
            },
            "type": "scattergeo"
           }
          ],
          "scattergl": [
           {
            "marker": {
             "colorbar": {
              "outlinewidth": 0,
              "ticks": ""
             }
            },
            "type": "scattergl"
           }
          ],
          "scattermapbox": [
           {
            "marker": {
             "colorbar": {
              "outlinewidth": 0,
              "ticks": ""
             }
            },
            "type": "scattermapbox"
           }
          ],
          "scatterpolar": [
           {
            "marker": {
             "colorbar": {
              "outlinewidth": 0,
              "ticks": ""
             }
            },
            "type": "scatterpolar"
           }
          ],
          "scatterpolargl": [
           {
            "marker": {
             "colorbar": {
              "outlinewidth": 0,
              "ticks": ""
             }
            },
            "type": "scatterpolargl"
           }
          ],
          "scatterternary": [
           {
            "marker": {
             "colorbar": {
              "outlinewidth": 0,
              "ticks": ""
             }
            },
            "type": "scatterternary"
           }
          ],
          "surface": [
           {
            "colorbar": {
             "outlinewidth": 0,
             "ticks": ""
            },
            "colorscale": [
             [
              0,
              "#0d0887"
             ],
             [
              0.1111111111111111,
              "#46039f"
             ],
             [
              0.2222222222222222,
              "#7201a8"
             ],
             [
              0.3333333333333333,
              "#9c179e"
             ],
             [
              0.4444444444444444,
              "#bd3786"
             ],
             [
              0.5555555555555556,
              "#d8576b"
             ],
             [
              0.6666666666666666,
              "#ed7953"
             ],
             [
              0.7777777777777778,
              "#fb9f3a"
             ],
             [
              0.8888888888888888,
              "#fdca26"
             ],
             [
              1,
              "#f0f921"
             ]
            ],
            "type": "surface"
           }
          ],
          "table": [
           {
            "cells": {
             "fill": {
              "color": "#EBF0F8"
             },
             "line": {
              "color": "white"
             }
            },
            "header": {
             "fill": {
              "color": "#C8D4E3"
             },
             "line": {
              "color": "white"
             }
            },
            "type": "table"
           }
          ]
         },
         "layout": {
          "annotationdefaults": {
           "arrowcolor": "#2a3f5f",
           "arrowhead": 0,
           "arrowwidth": 1
          },
          "autotypenumbers": "strict",
          "coloraxis": {
           "colorbar": {
            "outlinewidth": 0,
            "ticks": ""
           }
          },
          "colorscale": {
           "diverging": [
            [
             0,
             "#8e0152"
            ],
            [
             0.1,
             "#c51b7d"
            ],
            [
             0.2,
             "#de77ae"
            ],
            [
             0.3,
             "#f1b6da"
            ],
            [
             0.4,
             "#fde0ef"
            ],
            [
             0.5,
             "#f7f7f7"
            ],
            [
             0.6,
             "#e6f5d0"
            ],
            [
             0.7,
             "#b8e186"
            ],
            [
             0.8,
             "#7fbc41"
            ],
            [
             0.9,
             "#4d9221"
            ],
            [
             1,
             "#276419"
            ]
           ],
           "sequential": [
            [
             0,
             "#0d0887"
            ],
            [
             0.1111111111111111,
             "#46039f"
            ],
            [
             0.2222222222222222,
             "#7201a8"
            ],
            [
             0.3333333333333333,
             "#9c179e"
            ],
            [
             0.4444444444444444,
             "#bd3786"
            ],
            [
             0.5555555555555556,
             "#d8576b"
            ],
            [
             0.6666666666666666,
             "#ed7953"
            ],
            [
             0.7777777777777778,
             "#fb9f3a"
            ],
            [
             0.8888888888888888,
             "#fdca26"
            ],
            [
             1,
             "#f0f921"
            ]
           ],
           "sequentialminus": [
            [
             0,
             "#0d0887"
            ],
            [
             0.1111111111111111,
             "#46039f"
            ],
            [
             0.2222222222222222,
             "#7201a8"
            ],
            [
             0.3333333333333333,
             "#9c179e"
            ],
            [
             0.4444444444444444,
             "#bd3786"
            ],
            [
             0.5555555555555556,
             "#d8576b"
            ],
            [
             0.6666666666666666,
             "#ed7953"
            ],
            [
             0.7777777777777778,
             "#fb9f3a"
            ],
            [
             0.8888888888888888,
             "#fdca26"
            ],
            [
             1,
             "#f0f921"
            ]
           ]
          },
          "colorway": [
           "#636efa",
           "#EF553B",
           "#00cc96",
           "#ab63fa",
           "#FFA15A",
           "#19d3f3",
           "#FF6692",
           "#B6E880",
           "#FF97FF",
           "#FECB52"
          ],
          "font": {
           "color": "#2a3f5f"
          },
          "geo": {
           "bgcolor": "white",
           "lakecolor": "white",
           "landcolor": "#E5ECF6",
           "showlakes": true,
           "showland": true,
           "subunitcolor": "white"
          },
          "hoverlabel": {
           "align": "left"
          },
          "hovermode": "closest",
          "mapbox": {
           "style": "light"
          },
          "paper_bgcolor": "white",
          "plot_bgcolor": "#E5ECF6",
          "polar": {
           "angularaxis": {
            "gridcolor": "white",
            "linecolor": "white",
            "ticks": ""
           },
           "bgcolor": "#E5ECF6",
           "radialaxis": {
            "gridcolor": "white",
            "linecolor": "white",
            "ticks": ""
           }
          },
          "scene": {
           "xaxis": {
            "backgroundcolor": "#E5ECF6",
            "gridcolor": "white",
            "gridwidth": 2,
            "linecolor": "white",
            "showbackground": true,
            "ticks": "",
            "zerolinecolor": "white"
           },
           "yaxis": {
            "backgroundcolor": "#E5ECF6",
            "gridcolor": "white",
            "gridwidth": 2,
            "linecolor": "white",
            "showbackground": true,
            "ticks": "",
            "zerolinecolor": "white"
           },
           "zaxis": {
            "backgroundcolor": "#E5ECF6",
            "gridcolor": "white",
            "gridwidth": 2,
            "linecolor": "white",
            "showbackground": true,
            "ticks": "",
            "zerolinecolor": "white"
           }
          },
          "shapedefaults": {
           "line": {
            "color": "#2a3f5f"
           }
          },
          "ternary": {
           "aaxis": {
            "gridcolor": "white",
            "linecolor": "white",
            "ticks": ""
           },
           "baxis": {
            "gridcolor": "white",
            "linecolor": "white",
            "ticks": ""
           },
           "bgcolor": "#E5ECF6",
           "caxis": {
            "gridcolor": "white",
            "linecolor": "white",
            "ticks": ""
           }
          },
          "title": {
           "x": 0.05
          },
          "xaxis": {
           "automargin": true,
           "gridcolor": "white",
           "linecolor": "white",
           "ticks": "",
           "title": {
            "standoff": 15
           },
           "zerolinecolor": "white",
           "zerolinewidth": 2
          },
          "yaxis": {
           "automargin": true,
           "gridcolor": "white",
           "linecolor": "white",
           "ticks": "",
           "title": {
            "standoff": 15
           },
           "zerolinecolor": "white",
           "zerolinewidth": 2
          }
         }
        },
        "title": {
         "text": "Countries sorted by Socio-Economic Vulnerability in comparison to Human Risk"
        }
       }
      }
     },
     "metadata": {},
     "output_type": "display_data"
    }
   ],
   "source": [
    "fig = px.choropleth(world_disaster, locations=\"ISO3\",\n",
    "                    color=\"Natural\",\n",
    "                    hover_name=\"COUNTRY\",\n",
    "                    animation_frame=\"Physical infrastructure\",\n",
    "                    projection=\"orthographic\",\n",
    "                    title = \"Countries sorted by Socio-Economic Vulnerability in comparison to Human Risk\"\n",
    "                    )             \n",
    " \n",
    "fig.update_geos(fitbounds=\"locations\", visible=True)\n",
    "fig.update_layout(margin={\"r\":0,\"t\":0,\"l\":0,\"b\":0})\n",
    "fig[\"layout\"].pop(\"updatemenus\")\n",
    "fig.write_html(\"C:/Data Assignment/human.html\")\n",
    "fig.show()"
   ]
  },
  {
   "cell_type": "code",
   "execution_count": null,
   "metadata": {},
   "outputs": [
    {
     "data": {
      "image/png": "[encoded data removed]",
      "text/plain": [
       "<Figure size 640x480 with 1 Axes>"
      ]
     },
     "metadata": {},
     "output_type": "display_data"
    }
   ],
   "source": [
    "\n",
    "x = world_disaster['Access to health care']\n",
    "y = world_disaster['Natural']\n",
    "mymodel = np.poly1d(np.polyfit(x, y, 3))\n",
    "\n",
    "myline = np.linspace(1, 9, 10)\n",
    "\n",
    "plt.scatter(x, y)\n",
    "plt.plot(myline, mymodel(myline))\n",
    "plt.title(\"socio-economic vulnerability\")\n",
    "plt.xlabel('Infastructure')\n",
    "plt.ylabel('Natural')\n",
    "plt.show()"
   ]
  },
  {
   "cell_type": "code",
   "execution_count": null,
   "metadata": {},
   "outputs": [
    {
     "ename": "KeyError",
     "evalue": "''",
     "output_type": "error",
     "traceback": [
      "\u001b[1;31m---------------------------------------------------------------------------\u001b[0m",
      "\u001b[1;31mKeyError\u001b[0m                                  Traceback (most recent call last)",
      "File \u001b[1;32m~\\AppData\\Local\\Packages\\PythonSoftwareFoundation.Python.3.10_qbz5n2kfra8p0\\LocalCache\\local-packages\\Python310\\site-packages\\pandas\\core\\indexes\\base.py:3800\u001b[0m, in \u001b[0;36mIndex.get_loc\u001b[1;34m(self, key, method, tolerance)\u001b[0m\n\u001b[0;32m   3799\u001b[0m \u001b[39mtry\u001b[39;00m:\n\u001b[1;32m-> 3800\u001b[0m     \u001b[39mreturn\u001b[39;00m \u001b[39mself\u001b[39;49m\u001b[39m.\u001b[39;49m_engine\u001b[39m.\u001b[39;49mget_loc(casted_key)\n\u001b[0;32m   3801\u001b[0m \u001b[39mexcept\u001b[39;00m \u001b[39mKeyError\u001b[39;00m \u001b[39mas\u001b[39;00m err:\n",
      "File \u001b[1;32m~\\AppData\\Local\\Packages\\PythonSoftwareFoundation.Python.3.10_qbz5n2kfra8p0\\LocalCache\\local-packages\\Python310\\site-packages\\pandas\\_libs\\index.pyx:138\u001b[0m, in \u001b[0;36mpandas._libs.index.IndexEngine.get_loc\u001b[1;34m()\u001b[0m\n",
      "File \u001b[1;32m~\\AppData\\Local\\Packages\\PythonSoftwareFoundation.Python.3.10_qbz5n2kfra8p0\\LocalCache\\local-packages\\Python310\\site-packages\\pandas\\_libs\\index.pyx:165\u001b[0m, in \u001b[0;36mpandas._libs.index.IndexEngine.get_loc\u001b[1;34m()\u001b[0m\n",
      "File \u001b[1;32mpandas\\_libs\\hashtable_class_helper.pxi:5745\u001b[0m, in \u001b[0;36mpandas._libs.hashtable.PyObjectHashTable.get_item\u001b[1;34m()\u001b[0m\n",
      "File \u001b[1;32mpandas\\_libs\\hashtable_class_helper.pxi:5753\u001b[0m, in \u001b[0;36mpandas._libs.hashtable.PyObjectHashTable.get_item\u001b[1;34m()\u001b[0m\n",
      "\u001b[1;31mKeyError\u001b[0m: ''",
      "\nThe above exception was the direct cause of the following exception:\n",
      "\u001b[1;31mKeyError\u001b[0m                                  Traceback (most recent call last)",
      "Cell \u001b[1;32mIn [10], line 2\u001b[0m\n\u001b[0;32m      1\u001b[0m \u001b[39m#plotting 'SEV' against 'Natural Risk' \u001b[39;00m\n\u001b[1;32m----> 2\u001b[0m x \u001b[39m=\u001b[39m world_disaster[\u001b[39m'\u001b[39;49m\u001b[39m'\u001b[39;49m]\n\u001b[0;32m      3\u001b[0m y \u001b[39m=\u001b[39m world_disaster[\u001b[39m'\u001b[39m\u001b[39mHuman\u001b[39m\u001b[39m'\u001b[39m]\n\u001b[0;32m      4\u001b[0m mymodel \u001b[39m=\u001b[39m np\u001b[39m.\u001b[39mpoly1d(np\u001b[39m.\u001b[39mpolyfit(x, y, \u001b[39m3\u001b[39m))\n",
      "File \u001b[1;32m~\\AppData\\Local\\Packages\\PythonSoftwareFoundation.Python.3.10_qbz5n2kfra8p0\\LocalCache\\local-packages\\Python310\\site-packages\\pandas\\core\\frame.py:3805\u001b[0m, in \u001b[0;36mDataFrame.__getitem__\u001b[1;34m(self, key)\u001b[0m\n\u001b[0;32m   3803\u001b[0m \u001b[39mif\u001b[39;00m \u001b[39mself\u001b[39m\u001b[39m.\u001b[39mcolumns\u001b[39m.\u001b[39mnlevels \u001b[39m>\u001b[39m \u001b[39m1\u001b[39m:\n\u001b[0;32m   3804\u001b[0m     \u001b[39mreturn\u001b[39;00m \u001b[39mself\u001b[39m\u001b[39m.\u001b[39m_getitem_multilevel(key)\n\u001b[1;32m-> 3805\u001b[0m indexer \u001b[39m=\u001b[39m \u001b[39mself\u001b[39;49m\u001b[39m.\u001b[39;49mcolumns\u001b[39m.\u001b[39;49mget_loc(key)\n\u001b[0;32m   3806\u001b[0m \u001b[39mif\u001b[39;00m is_integer(indexer):\n\u001b[0;32m   3807\u001b[0m     indexer \u001b[39m=\u001b[39m [indexer]\n",
      "File \u001b[1;32m~\\AppData\\Local\\Packages\\PythonSoftwareFoundation.Python.3.10_qbz5n2kfra8p0\\LocalCache\\local-packages\\Python310\\site-packages\\pandas\\core\\indexes\\base.py:3802\u001b[0m, in \u001b[0;36mIndex.get_loc\u001b[1;34m(self, key, method, tolerance)\u001b[0m\n\u001b[0;32m   3800\u001b[0m     \u001b[39mreturn\u001b[39;00m \u001b[39mself\u001b[39m\u001b[39m.\u001b[39m_engine\u001b[39m.\u001b[39mget_loc(casted_key)\n\u001b[0;32m   3801\u001b[0m \u001b[39mexcept\u001b[39;00m \u001b[39mKeyError\u001b[39;00m \u001b[39mas\u001b[39;00m err:\n\u001b[1;32m-> 3802\u001b[0m     \u001b[39mraise\u001b[39;00m \u001b[39mKeyError\u001b[39;00m(key) \u001b[39mfrom\u001b[39;00m \u001b[39merr\u001b[39;00m\n\u001b[0;32m   3803\u001b[0m \u001b[39mexcept\u001b[39;00m \u001b[39mTypeError\u001b[39;00m:\n\u001b[0;32m   3804\u001b[0m     \u001b[39m# If we have a listlike key, _check_indexing_error will raise\u001b[39;00m\n\u001b[0;32m   3805\u001b[0m     \u001b[39m#  InvalidIndexError. Otherwise we fall through and re-raise\u001b[39;00m\n\u001b[0;32m   3806\u001b[0m     \u001b[39m#  the TypeError.\u001b[39;00m\n\u001b[0;32m   3807\u001b[0m     \u001b[39mself\u001b[39m\u001b[39m.\u001b[39m_check_indexing_error(key)\n",
      "\u001b[1;31mKeyError\u001b[0m: ''"
     ]
    }
   ],
   "source": [
    "#plotting 'SEV' against 'Natural Risk' \n",
    "x = world_disaster['']\n",
    "y = world_disaster['Human']\n",
    "mymodel = np.poly1d(np.polyfit(x, y, 3))\n",
    "\n",
    "myline = np.linspace(1, 9, 10)\n",
    "\n",
    "plt.scatter(x, y)\n",
    "plt.plot(myline, mymodel(myline))\n",
    "plt.title(\"socio-economic vulnerability\")\n",
    "plt.xlabel('socio-economic vulnerability')\n",
    "plt.ylabel('Human')\n",
    "plt.show()"
   ]
  },
  {
   "cell_type": "code",
   "execution_count": 9,
   "metadata": {},
   "outputs": [
    {
     "name": "stdout",
     "output_type": "stream",
     "text": [
      "Human average is 2.790082644628099\n",
      "Natural average is 4.041322314049585\n",
      "Human average is 2.7900826446280993\n",
      "Natural average is 4.041322314049586\n",
      "prediction for sev with 10 human risk to 0 natural  [34.98853366]\n",
      "prediction for sev with 0 human risk to 10 natural  [66.760479]\n",
      "prediction for sev with 5 human risk to 5 natural  [50.87450633]\n"
     ]
    },
    {
     "name": "stderr",
     "output_type": "stream",
     "text": [
      "C:\\Users\\hamme\\AppData\\Local\\Packages\\PythonSoftwareFoundation.Python.3.10_qbz5n2kfra8p0\\LocalCache\\local-packages\\Python310\\site-packages\\sklearn\\base.py:450: UserWarning:\n",
      "\n",
      "X does not have valid feature names, but LinearRegression was fitted with feature names\n",
      "\n",
      "C:\\Users\\hamme\\AppData\\Local\\Packages\\PythonSoftwareFoundation.Python.3.10_qbz5n2kfra8p0\\LocalCache\\local-packages\\Python310\\site-packages\\sklearn\\base.py:450: UserWarning:\n",
      "\n",
      "X does not have valid feature names, but LinearRegression was fitted with feature names\n",
      "\n",
      "C:\\Users\\hamme\\AppData\\Local\\Packages\\PythonSoftwareFoundation.Python.3.10_qbz5n2kfra8p0\\LocalCache\\local-packages\\Python310\\site-packages\\sklearn\\base.py:450: UserWarning:\n",
      "\n",
      "X does not have valid feature names, but LinearRegression was fitted with feature names\n",
      "\n"
     ]
    }
   ],
   "source": [
    "#average value for  Human risk and Natural risk\n",
    "avg_value=sum(Human)/len(Human)\n",
    "print(\"Human average is\",avg_value)\n",
    "avg_val2=sum(Natural)/len(Natural)\n",
    "print(\"Natural average is\",avg_val2)\n",
    "\n",
    "#alternate method\n",
    "average = statistics.mean(Natural)\n",
    "average2 = statistics.mean(Human)\n",
    "\n",
    "\n",
    "\n",
    "print(\"Human average is\", average2)\n",
    "print(\"Natural average is\", average)\n",
    "\n",
    "\n",
    "#calculating linear regression\n",
    "#maths = statistics.linear_regression(Natural,sev)\n",
    "##maths2 = statistics.linear_regression(Human,sev)\n",
    "#print(maths)\n",
    "#print(maths2)\n",
    "\n",
    "\n",
    "#MULTIPLE REGRESSION\n",
    "\n",
    "\n",
    "df = pd.read_csv(\"disaster_risk.csv\")\n",
    "\n",
    "X = df[['Human', 'Natural']]\n",
    "y = df['']\n",
    "\n",
    "regr = linear_model.LinearRegression()\n",
    "regr.fit(X, y)\n",
    "\n",
    "\n",
    "predictedSEV = regr.predict([[10,0]])\n",
    "predictedSEV2 = regr.predict([[0,10]])\n",
    "predictedSEV3 = regr.predict([[5,5]])\n",
    "\n",
    "print(\"prediction for sev with 10 human risk to 0 natural \", predictedSEV)\n",
    "print(\"prediction for sev with 0 human risk to 10 natural \", predictedSEV2) \n",
    "print(\"prediction for sev with 5 human risk to 5 natural \", predictedSEV3) \n"
   ]
  }
 ],
 "metadata": {
  "kernelspec": {
   "display_name": "Python 3.10.8 64-bit (microsoft store)",
   "language": "python",
   "name": "python3"
  },
  "language_info": {
   "codemirror_mode": {
    "name": "ipython",
    "version": 3
   },
   "file_extension": ".py",
   "mimetype": "text/x-python",
   "name": "python",
   "nbconvert_exporter": "python",
   "pygments_lexer": "ipython3",
   "version": "3.10.8"
  },
  "orig_nbformat": 4,
  "vscode": {
   "interpreter": {
    "hash": "4167bd5b7aa943bbfb68647c7dcb75006377912a02c9d9397beb7d705e74d9e5"
   }
  }
 },
 "nbformat": 4,
 "nbformat_minor": 2
}
