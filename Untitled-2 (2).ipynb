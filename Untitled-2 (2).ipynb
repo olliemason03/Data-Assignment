{
 "cells": [
  {
   "cell_type": "markdown",
   "metadata": {},
   "source": [
    "**Data Science Assignment**"
   ]
  },
  {
   "cell_type": "code",
   "execution_count": 5,
   "metadata": {},
   "outputs": [],
   "source": [
    "import seaborn as sns \n",
    "import pandas as pd\n",
    "import matplotlib.pyplot as plt\n",
    "%matplotlib inline\n",
    "import geopandas as gpd\n",
    "import numpy as np\n",
    "import pygal as pyg\n",
    "import pygal_maps_world.maps\n",
    "import plotly.express as px\n",
    "import json\n",
    "import plotly.express.colors\n",
    "import statistics\n",
    "import chart_studio.plotly as py\n",
    "import plotly.tools as tls\n",
    "import plotly.graph_objs as go\n",
    "from scipy import stats\n"
   ]
  },
  {
   "cell_type": "code",
   "execution_count": 6,
   "metadata": {},
   "outputs": [
    {
     "data": {
      "text/html": [
       "<div>\n",
       "<style scoped>\n",
       "    .dataframe tbody tr th:only-of-type {\n",
       "        vertical-align: middle;\n",
       "    }\n",
       "\n",
       "    .dataframe tbody tr th {\n",
       "        vertical-align: top;\n",
       "    }\n",
       "\n",
       "    .dataframe thead th {\n",
       "        text-align: right;\n",
       "    }\n",
       "</style>\n",
       "<table border=\"1\" class=\"dataframe\">\n",
       "  <thead>\n",
       "    <tr style=\"text-align: right;\">\n",
       "      <th></th>\n",
       "      <th>COUNTRY</th>\n",
       "      <th>ISO3</th>\n",
       "      <th>Earthquake</th>\n",
       "      <th>Flood</th>\n",
       "      <th>Tsunami</th>\n",
       "      <th>Tropical Cyclone</th>\n",
       "      <th>Drought</th>\n",
       "      <th>Natural</th>\n",
       "      <th>Projected Conflict Risk</th>\n",
       "      <th>Current Highly Violent Conflict Intensity</th>\n",
       "      <th>...</th>\n",
       "      <th>Communication</th>\n",
       "      <th>Physical infrastructure</th>\n",
       "      <th>Access to health care</th>\n",
       "      <th>Infrastructure</th>\n",
       "      <th>LACK OF COPING CAPACITY</th>\n",
       "      <th>Overall RISK</th>\n",
       "      <th>Rank</th>\n",
       "      <th>Capitol</th>\n",
       "      <th>Lat</th>\n",
       "      <th>Long</th>\n",
       "    </tr>\n",
       "  </thead>\n",
       "  <tbody>\n",
       "    <tr>\n",
       "      <th>0</th>\n",
       "      <td>Somalia</td>\n",
       "      <td>SOM</td>\n",
       "      <td>0.0</td>\n",
       "      <td>6.7</td>\n",
       "      <td>6.3</td>\n",
       "      <td>0.0</td>\n",
       "      <td>9.1</td>\n",
       "      <td>5.6</td>\n",
       "      <td>9.9</td>\n",
       "      <td>10</td>\n",
       "      <td>...</td>\n",
       "      <td>x</td>\n",
       "      <td>9.5</td>\n",
       "      <td>10.0</td>\n",
       "      <td>9.7</td>\n",
       "      <td>9.5</td>\n",
       "      <td>8.3</td>\n",
       "      <td>1</td>\n",
       "      <td>Mogadishu</td>\n",
       "      <td>2.0412</td>\n",
       "      <td>45.3441</td>\n",
       "    </tr>\n",
       "    <tr>\n",
       "      <th>1</th>\n",
       "      <td>Afghanistan</td>\n",
       "      <td>AFG</td>\n",
       "      <td>8.9</td>\n",
       "      <td>7.9</td>\n",
       "      <td>0.0</td>\n",
       "      <td>0.0</td>\n",
       "      <td>6.8</td>\n",
       "      <td>5.9</td>\n",
       "      <td>9.9</td>\n",
       "      <td>10</td>\n",
       "      <td>...</td>\n",
       "      <td>8.1</td>\n",
       "      <td>8.2</td>\n",
       "      <td>8.8</td>\n",
       "      <td>8.4</td>\n",
       "      <td>8.2</td>\n",
       "      <td>8.0</td>\n",
       "      <td>3</td>\n",
       "      <td>Kabul</td>\n",
       "      <td>34.5218</td>\n",
       "      <td>69.1807</td>\n",
       "    </tr>\n",
       "    <tr>\n",
       "      <th>2</th>\n",
       "      <td>Sudan</td>\n",
       "      <td>SDN</td>\n",
       "      <td>0.0</td>\n",
       "      <td>8.5</td>\n",
       "      <td>0.0</td>\n",
       "      <td>0.0</td>\n",
       "      <td>6.7</td>\n",
       "      <td>4.2</td>\n",
       "      <td>10.0</td>\n",
       "      <td>9</td>\n",
       "      <td>...</td>\n",
       "      <td>7.9</td>\n",
       "      <td>9.1</td>\n",
       "      <td>8.5</td>\n",
       "      <td>8.5</td>\n",
       "      <td>7.7</td>\n",
       "      <td>7.3</td>\n",
       "      <td>4</td>\n",
       "      <td>Khartoum</td>\n",
       "      <td>15.5974</td>\n",
       "      <td>32.5347</td>\n",
       "    </tr>\n",
       "    <tr>\n",
       "      <th>3</th>\n",
       "      <td>South Sudan</td>\n",
       "      <td>SSD</td>\n",
       "      <td>2.3</td>\n",
       "      <td>5.4</td>\n",
       "      <td>0.0</td>\n",
       "      <td>0.0</td>\n",
       "      <td>5.2</td>\n",
       "      <td>2.9</td>\n",
       "      <td>9.9</td>\n",
       "      <td>9</td>\n",
       "      <td>...</td>\n",
       "      <td>x</td>\n",
       "      <td>9.4</td>\n",
       "      <td>9.7</td>\n",
       "      <td>9.5</td>\n",
       "      <td>9.0</td>\n",
       "      <td>7.1</td>\n",
       "      <td>6</td>\n",
       "      <td>Juba</td>\n",
       "      <td>4.8436</td>\n",
       "      <td>31.6034</td>\n",
       "    </tr>\n",
       "    <tr>\n",
       "      <th>4</th>\n",
       "      <td>Myanmar</td>\n",
       "      <td>MMR</td>\n",
       "      <td>9.4</td>\n",
       "      <td>10.0</td>\n",
       "      <td>10.0</td>\n",
       "      <td>9.7</td>\n",
       "      <td>0.0</td>\n",
       "      <td>9.1</td>\n",
       "      <td>9.5</td>\n",
       "      <td>7</td>\n",
       "      <td>...</td>\n",
       "      <td>7</td>\n",
       "      <td>5.0</td>\n",
       "      <td>8.5</td>\n",
       "      <td>6.8</td>\n",
       "      <td>7.2</td>\n",
       "      <td>7.0</td>\n",
       "      <td>7</td>\n",
       "      <td>Naypyidaw</td>\n",
       "      <td>19.7374</td>\n",
       "      <td>96.1955</td>\n",
       "    </tr>\n",
       "    <tr>\n",
       "      <th>...</th>\n",
       "      <td>...</td>\n",
       "      <td>...</td>\n",
       "      <td>...</td>\n",
       "      <td>...</td>\n",
       "      <td>...</td>\n",
       "      <td>...</td>\n",
       "      <td>...</td>\n",
       "      <td>...</td>\n",
       "      <td>...</td>\n",
       "      <td>...</td>\n",
       "      <td>...</td>\n",
       "      <td>...</td>\n",
       "      <td>...</td>\n",
       "      <td>...</td>\n",
       "      <td>...</td>\n",
       "      <td>...</td>\n",
       "      <td>...</td>\n",
       "      <td>...</td>\n",
       "      <td>...</td>\n",
       "      <td>...</td>\n",
       "      <td>...</td>\n",
       "    </tr>\n",
       "    <tr>\n",
       "      <th>120</th>\n",
       "      <td>Luxembourg</td>\n",
       "      <td>LUX</td>\n",
       "      <td>0.0</td>\n",
       "      <td>2.9</td>\n",
       "      <td>0.0</td>\n",
       "      <td>0.0</td>\n",
       "      <td>0.0</td>\n",
       "      <td>0.7</td>\n",
       "      <td>0.0</td>\n",
       "      <td>0</td>\n",
       "      <td>...</td>\n",
       "      <td>4.6</td>\n",
       "      <td>0.9</td>\n",
       "      <td>1.4</td>\n",
       "      <td>2.3</td>\n",
       "      <td>2.1</td>\n",
       "      <td>0.8</td>\n",
       "      <td>184</td>\n",
       "      <td>Luxembourg</td>\n",
       "      <td>49.6100</td>\n",
       "      <td>6.1333</td>\n",
       "    </tr>\n",
       "    <tr>\n",
       "      <th>121</th>\n",
       "      <td>Sweden</td>\n",
       "      <td>SWE</td>\n",
       "      <td>0.0</td>\n",
       "      <td>3.8</td>\n",
       "      <td>0.0</td>\n",
       "      <td>0.0</td>\n",
       "      <td>0.0</td>\n",
       "      <td>0.9</td>\n",
       "      <td>0.0</td>\n",
       "      <td>0</td>\n",
       "      <td>...</td>\n",
       "      <td>3.6</td>\n",
       "      <td>0.5</td>\n",
       "      <td>0.5</td>\n",
       "      <td>1.5</td>\n",
       "      <td>1.7</td>\n",
       "      <td>0.8</td>\n",
       "      <td>185</td>\n",
       "      <td>Stockholm</td>\n",
       "      <td>59.3294</td>\n",
       "      <td>18.0686</td>\n",
       "    </tr>\n",
       "    <tr>\n",
       "      <th>122</th>\n",
       "      <td>São Tomé and Príncipe</td>\n",
       "      <td>STP</td>\n",
       "      <td>0.0</td>\n",
       "      <td>0.0</td>\n",
       "      <td>0.0</td>\n",
       "      <td>0.0</td>\n",
       "      <td>0.0</td>\n",
       "      <td>0.0</td>\n",
       "      <td>0.0</td>\n",
       "      <td>0</td>\n",
       "      <td>...</td>\n",
       "      <td>8.6</td>\n",
       "      <td>5.2</td>\n",
       "      <td>7.9</td>\n",
       "      <td>7.2</td>\n",
       "      <td>6.7</td>\n",
       "      <td>0.4</td>\n",
       "      <td>188</td>\n",
       "      <td>São Tomé</td>\n",
       "      <td>0.3361</td>\n",
       "      <td>6.6814</td>\n",
       "    </tr>\n",
       "    <tr>\n",
       "      <th>123</th>\n",
       "      <td>Finland</td>\n",
       "      <td>FIN</td>\n",
       "      <td>0.0</td>\n",
       "      <td>0.0</td>\n",
       "      <td>0.0</td>\n",
       "      <td>0.0</td>\n",
       "      <td>0.0</td>\n",
       "      <td>0.0</td>\n",
       "      <td>0.0</td>\n",
       "      <td>0</td>\n",
       "      <td>...</td>\n",
       "      <td>4.1</td>\n",
       "      <td>2.8</td>\n",
       "      <td>1.1</td>\n",
       "      <td>2.7</td>\n",
       "      <td>2.2</td>\n",
       "      <td>0.3</td>\n",
       "      <td>189</td>\n",
       "      <td>Helsinki</td>\n",
       "      <td>60.1698</td>\n",
       "      <td>24.9381</td>\n",
       "    </tr>\n",
       "    <tr>\n",
       "      <th>124</th>\n",
       "      <td>Malta</td>\n",
       "      <td>MLT</td>\n",
       "      <td>0.0</td>\n",
       "      <td>0.0</td>\n",
       "      <td>0.0</td>\n",
       "      <td>0.0</td>\n",
       "      <td>0.0</td>\n",
       "      <td>0.0</td>\n",
       "      <td>0.0</td>\n",
       "      <td>0</td>\n",
       "      <td>...</td>\n",
       "      <td>4.4</td>\n",
       "      <td>0.0</td>\n",
       "      <td>1.7</td>\n",
       "      <td>2.0</td>\n",
       "      <td>2.8</td>\n",
       "      <td>0.3</td>\n",
       "      <td>190</td>\n",
       "      <td>Valletta</td>\n",
       "      <td>35.8983</td>\n",
       "      <td>14.5126</td>\n",
       "    </tr>\n",
       "  </tbody>\n",
       "</table>\n",
       "<p>125 rows × 36 columns</p>\n",
       "</div>"
      ],
      "text/plain": [
       "                   COUNTRY ISO3  Earthquake  Flood  Tsunami  Tropical Cyclone  \\\n",
       "0                  Somalia  SOM         0.0    6.7      6.3               0.0   \n",
       "1              Afghanistan  AFG         8.9    7.9      0.0               0.0   \n",
       "2                    Sudan  SDN         0.0    8.5      0.0               0.0   \n",
       "3              South Sudan  SSD         2.3    5.4      0.0               0.0   \n",
       "4                  Myanmar  MMR         9.4   10.0     10.0               9.7   \n",
       "..                     ...  ...         ...    ...      ...               ...   \n",
       "120             Luxembourg  LUX         0.0    2.9      0.0               0.0   \n",
       "121                 Sweden  SWE         0.0    3.8      0.0               0.0   \n",
       "122  São Tomé and Príncipe  STP         0.0    0.0      0.0               0.0   \n",
       "123                Finland  FIN         0.0    0.0      0.0               0.0   \n",
       "124                  Malta  MLT         0.0    0.0      0.0               0.0   \n",
       "\n",
       "     Drought  Natural  Projected Conflict Risk  \\\n",
       "0        9.1      5.6                      9.9   \n",
       "1        6.8      5.9                      9.9   \n",
       "2        6.7      4.2                     10.0   \n",
       "3        5.2      2.9                      9.9   \n",
       "4        0.0      9.1                      9.5   \n",
       "..       ...      ...                      ...   \n",
       "120      0.0      0.7                      0.0   \n",
       "121      0.0      0.9                      0.0   \n",
       "122      0.0      0.0                      0.0   \n",
       "123      0.0      0.0                      0.0   \n",
       "124      0.0      0.0                      0.0   \n",
       "\n",
       "     Current Highly Violent Conflict Intensity  ...  Communication  \\\n",
       "0                                           10  ...              x   \n",
       "1                                           10  ...            8.1   \n",
       "2                                            9  ...            7.9   \n",
       "3                                            9  ...              x   \n",
       "4                                            7  ...              7   \n",
       "..                                         ...  ...            ...   \n",
       "120                                          0  ...            4.6   \n",
       "121                                          0  ...            3.6   \n",
       "122                                          0  ...            8.6   \n",
       "123                                          0  ...            4.1   \n",
       "124                                          0  ...            4.4   \n",
       "\n",
       "     Physical infrastructure  Access to health care Infrastructure  \\\n",
       "0                        9.5                   10.0            9.7   \n",
       "1                        8.2                    8.8            8.4   \n",
       "2                        9.1                    8.5            8.5   \n",
       "3                        9.4                    9.7            9.5   \n",
       "4                        5.0                    8.5            6.8   \n",
       "..                       ...                    ...            ...   \n",
       "120                      0.9                    1.4            2.3   \n",
       "121                      0.5                    0.5            1.5   \n",
       "122                      5.2                    7.9            7.2   \n",
       "123                      2.8                    1.1            2.7   \n",
       "124                      0.0                    1.7            2.0   \n",
       "\n",
       "     LACK OF COPING CAPACITY  Overall RISK  Rank     Capitol      Lat     Long  \n",
       "0                        9.5           8.3     1   Mogadishu   2.0412  45.3441  \n",
       "1                        8.2           8.0     3       Kabul  34.5218  69.1807  \n",
       "2                        7.7           7.3     4    Khartoum  15.5974  32.5347  \n",
       "3                        9.0           7.1     6        Juba   4.8436  31.6034  \n",
       "4                        7.2           7.0     7   Naypyidaw  19.7374  96.1955  \n",
       "..                       ...           ...   ...         ...      ...      ...  \n",
       "120                      2.1           0.8   184  Luxembourg  49.6100   6.1333  \n",
       "121                      1.7           0.8   185   Stockholm  59.3294  18.0686  \n",
       "122                      6.7           0.4   188    São Tomé   0.3361   6.6814  \n",
       "123                      2.2           0.3   189    Helsinki  60.1698  24.9381  \n",
       "124                      2.8           0.3   190    Valletta  35.8983  14.5126  \n",
       "\n",
       "[125 rows x 36 columns]"
      ]
     },
     "execution_count": 6,
     "metadata": {},
     "output_type": "execute_result"
    }
   ],
   "source": [
    "world_disaster = pd.read_csv('disaster_risk.csv')\n",
    "world_disaster.tail()\n",
    "wm = json.load(open(\"countries.geojson\"))\n",
    "world_disaster\n"
   ]
  },
  {
   "cell_type": "code",
   "execution_count": 7,
   "metadata": {},
   "outputs": [],
   "source": [
    "sort = sorted(world_disaster['COUNTRY'])"
   ]
  },
  {
   "cell_type": "code",
   "execution_count": 8,
   "metadata": {},
   "outputs": [
    {
     "name": "stdout",
     "output_type": "stream",
     "text": [
      "Bulgaria\n",
      "-65.2667\n",
      "-12.0433\n",
      "BRB\n",
      "2.0\n",
      "0.0\n",
      "Success!\n"
     ]
    }
   ],
   "source": [
    "#creating lists from the excel data\n",
    "countries = world_disaster[\"COUNTRY\"].values.tolist()   \n",
    "longitude = world_disaster[\"Long\"].values.tolist()\n",
    "latitude = world_disaster[\"Lat\"].values.tolist()\n",
    "countryCode = world_disaster[\"ISO3\"].values.tolist()\n",
    "sev = world_disaster[\"Socio-Economic Vulnerability\"].values.tolist()\n",
    "flood = world_disaster[\"Flood\"].values.tolist()\n",
    "Human = world_disaster[\"Human\"].values.tolist()\n",
    "Natural = world_disaster[\"Natural\"].values.tolist()\n",
    "\n",
    "countries.sort()\n",
    "longitude.sort()\n",
    "latitude.sort()\n",
    "countryCode.sort()\n",
    "sev.sort()\n",
    "flood.sort()\n",
    "\n",
    "print(countries[18])\n",
    "print(longitude[18])\n",
    "print(latitude[18])\n",
    "print(countryCode[18])\n",
    "print(sev[18])\n",
    "print(flood[18])\n",
    "\n",
    "\n",
    "\n",
    "print(\"Success!\")\n"
   ]
  },
  {
   "cell_type": "code",
   "execution_count": 9,
   "metadata": {},
   "outputs": [
    {
     "data": {
      "application/vnd.plotly.v1+json": {
       "config": {
        "plotlyServerURL": "https://plot.ly"
       },
       "data": [
        {
         "coloraxis": "coloraxis",
         "geo": "geo",
         "hovertemplate": "<b>%{hovertext}</b><br><br>Natural=5.6<br>ISO3=%{location}<br>Socio-Economic Vulnerability=%{z}<extra></extra>",
         "hovertext": [
          "Somalia",
          "Madagascar"
         ],
         "locations": [
          "SOM",
          "MDG"
         ],
         "name": "",
         "type": "choropleth",
         "z": [
          7.5,
          5.8
         ]
        }
       ],
       "frames": [
        {
         "data": [
          {
           "coloraxis": "coloraxis",
           "geo": "geo",
           "hovertemplate": "<b>%{hovertext}</b><br><br>Natural=5.6<br>ISO3=%{location}<br>Socio-Economic Vulnerability=%{z}<extra></extra>",
           "hovertext": [
            "Somalia",
            "Madagascar"
           ],
           "locations": [
            "SOM",
            "MDG"
           ],
           "name": "",
           "type": "choropleth",
           "z": [
            7.5,
            5.8
           ]
          }
         ],
         "name": "5.6"
        },
        {
         "data": [
          {
           "coloraxis": "coloraxis",
           "geo": "geo",
           "hovertemplate": "<b>%{hovertext}</b><br><br>Natural=5.9<br>ISO3=%{location}<br>Socio-Economic Vulnerability=%{z}<extra></extra>",
           "hovertext": [
            "Afghanistan",
            "El Salvador"
           ],
           "locations": [
            "AFG",
            "SLV"
           ],
           "name": "",
           "type": "choropleth",
           "z": [
            8.8,
            6.1
           ]
          }
         ],
         "name": "5.9"
        },
        {
         "data": [
          {
           "coloraxis": "coloraxis",
           "geo": "geo",
           "hovertemplate": "<b>%{hovertext}</b><br><br>Natural=4.2<br>ISO3=%{location}<br>Socio-Economic Vulnerability=%{z}<extra></extra>",
           "hovertext": [
            "Sudan",
            "Kenya"
           ],
           "locations": [
            "SDN",
            "KEN"
           ],
           "name": "",
           "type": "choropleth",
           "z": [
            7,
            7.8
           ]
          }
         ],
         "name": "4.2"
        },
        {
         "data": [
          {
           "coloraxis": "coloraxis",
           "geo": "geo",
           "hovertemplate": "<b>%{hovertext}</b><br><br>Natural=2.9<br>ISO3=%{location}<br>Socio-Economic Vulnerability=%{z}<extra></extra>",
           "hovertext": [
            "South Sudan",
            "Morocco",
            "United Arab Emirates"
           ],
           "locations": [
            "SSD",
            "MAR",
            "ARE"
           ],
           "name": "",
           "type": "choropleth",
           "z": [
            6.6,
            6.4,
            4.8
           ]
          }
         ],
         "name": "2.9"
        },
        {
         "data": [
          {
           "coloraxis": "coloraxis",
           "geo": "geo",
           "hovertemplate": "<b>%{hovertext}</b><br><br>Natural=9.1<br>ISO3=%{location}<br>Socio-Economic Vulnerability=%{z}<extra></extra>",
           "hovertext": [
            "Myanmar",
            "Bangladesh"
           ],
           "locations": [
            "MMR",
            "BGD"
           ],
           "name": "",
           "type": "choropleth",
           "z": [
            6.7,
            5.4
           ]
          }
         ],
         "name": "9.1"
        },
        {
         "data": [
          {
           "coloraxis": "coloraxis",
           "geo": "geo",
           "hovertemplate": "<b>%{hovertext}</b><br><br>Natural=4.4<br>ISO3=%{location}<br>Socio-Economic Vulnerability=%{z}<extra></extra>",
           "hovertext": [
            "Syria",
            "Belize",
            "Australia"
           ],
           "locations": [
            "SYR",
            "BLZ",
            "AUS"
           ],
           "name": "",
           "type": "choropleth",
           "z": [
            6.4,
            3.3,
            3.1
           ]
          }
         ],
         "name": "4.4"
        },
        {
         "data": [
          {
           "coloraxis": "coloraxis",
           "geo": "geo",
           "hovertemplate": "<b>%{hovertext}</b><br><br>Natural=3.5<br>ISO3=%{location}<br>Socio-Economic Vulnerability=%{z}<extra></extra>",
           "hovertext": [
            "Iraq",
            "Bosnia and Herzegovina",
            "Albania"
           ],
           "locations": [
            "IRQ",
            "BIH",
            "ALB"
           ],
           "name": "",
           "type": "choropleth",
           "z": [
            6.1,
            3.8,
            4
           ]
          }
         ],
         "name": "3.5"
        },
        {
         "data": [
          {
           "coloraxis": "coloraxis",
           "geo": "geo",
           "hovertemplate": "<b>%{hovertext}</b><br><br>Natural=6.1<br>ISO3=%{location}<br>Socio-Economic Vulnerability=%{z}<extra></extra>",
           "hovertext": [
            "Haiti",
            "Canada"
           ],
           "locations": [
            "HTI",
            "CAN"
           ],
           "name": "",
           "type": "choropleth",
           "z": [
            9,
            1.2
           ]
          }
         ],
         "name": "6.1"
        },
        {
         "data": [
          {
           "coloraxis": "coloraxis",
           "geo": "geo",
           "hovertemplate": "<b>%{hovertext}</b><br><br>Natural=7.1<br>ISO3=%{location}<br>Socio-Economic Vulnerability=%{z}<extra></extra>",
           "hovertext": [
            "Pakistan",
            "Dominican Republic"
           ],
           "locations": [
            "PAK",
            "DOM"
           ],
           "name": "",
           "type": "choropleth",
           "z": [
            6.3,
            6
           ]
          }
         ],
         "name": "7.1"
        },
        {
         "data": [
          {
           "coloraxis": "coloraxis",
           "geo": "geo",
           "hovertemplate": "<b>%{hovertext}</b><br><br>Natural=9.3<br>ISO3=%{location}<br>Socio-Economic Vulnerability=%{z}<extra></extra>",
           "hovertext": [
            "Philippines"
           ],
           "locations": [
            "PHL"
           ],
           "name": "",
           "type": "choropleth",
           "z": [
            5.6
           ]
          }
         ],
         "name": "9.3"
        },
        {
         "data": [
          {
           "coloraxis": "coloraxis",
           "geo": "geo",
           "hovertemplate": "<b>%{hovertext}</b><br><br>Natural=2.4<br>ISO3=%{location}<br>Socio-Economic Vulnerability=%{z}<extra></extra>",
           "hovertext": [
            "Nigeria",
            "Burkina Faso",
            "Tunisia",
            "Montenegro"
           ],
           "locations": [
            "NGA",
            "BFA",
            "TUN",
            "MNE"
           ],
           "name": "",
           "type": "choropleth",
           "z": [
            6,
            6.1,
            6.3,
            3.9
           ]
          }
         ],
         "name": "2.4"
        },
        {
         "data": [
          {
           "coloraxis": "coloraxis",
           "geo": "geo",
           "hovertemplate": "<b>%{hovertext}</b><br><br>Natural=4.5<br>ISO3=%{location}<br>Socio-Economic Vulnerability=%{z}<extra></extra>",
           "hovertext": [
            "Libya"
           ],
           "locations": [
            "LBY"
           ],
           "name": "",
           "type": "choropleth",
           "z": [
            6.6
           ]
          }
         ],
         "name": "4.5"
        },
        {
         "data": [
          {
           "coloraxis": "coloraxis",
           "geo": "geo",
           "hovertemplate": "<b>%{hovertext}</b><br><br>Natural=2.7<br>ISO3=%{location}<br>Socio-Economic Vulnerability=%{z}<extra></extra>",
           "hovertext": [
            "Burundi",
            "Namibia",
            "Slovakia",
            "Slovenia"
           ],
           "locations": [
            "BDI",
            "NAM",
            "SVK",
            "SVN"
           ],
           "name": "",
           "type": "choropleth",
           "z": [
            7.8,
            6.7,
            1.2,
            1.4
           ]
          }
         ],
         "name": "2.7"
        },
        {
         "data": [
          {
           "coloraxis": "coloraxis",
           "geo": "geo",
           "hovertemplate": "<b>%{hovertext}</b><br><br>Natural=4.1<br>ISO3=%{location}<br>Socio-Economic Vulnerability=%{z}<extra></extra>",
           "hovertext": [
            "Tanzania",
            "Venezuela",
            "Brazil",
            "Spain"
           ],
           "locations": [
            "TZA",
            "VEN",
            "BRA",
            "ESP"
           ],
           "name": "",
           "type": "choropleth",
           "z": [
            7.7,
            5.7,
            4.1,
            2.8
           ]
          }
         ],
         "name": "4.1"
        },
        {
         "data": [
          {
           "coloraxis": "coloraxis",
           "geo": "geo",
           "hovertemplate": "<b>%{hovertext}</b><br><br>Natural=8.2<br>ISO3=%{location}<br>Socio-Economic Vulnerability=%{z}<extra></extra>",
           "hovertext": [
            "India"
           ],
           "locations": [
            "IND"
           ],
           "name": "",
           "type": "choropleth",
           "z": [
            5.9
           ]
          }
         ],
         "name": "8.2"
        },
        {
         "data": [
          {
           "coloraxis": "coloraxis",
           "geo": "geo",
           "hovertemplate": "<b>%{hovertext}</b><br><br>Natural=3.9<br>ISO3=%{location}<br>Socio-Economic Vulnerability=%{z}<extra></extra>",
           "hovertext": [
            "Mauritania",
            "Benin"
           ],
           "locations": [
            "MRT",
            "BEN"
           ],
           "name": "",
           "type": "choropleth",
           "z": [
            8.3,
            7.3
           ]
          }
         ],
         "name": "3.9"
        },
        {
         "data": [
          {
           "coloraxis": "coloraxis",
           "geo": "geo",
           "hovertemplate": "<b>%{hovertext}</b><br><br>Natural=6.8<br>ISO3=%{location}<br>Socio-Economic Vulnerability=%{z}<extra></extra>",
           "hovertext": [
            "Nepal",
            "Guatemala",
            "Fiji"
           ],
           "locations": [
            "NPL",
            "GTM",
            "FJI"
           ],
           "name": "",
           "type": "choropleth",
           "z": [
            6.2,
            6.8,
            5.6
           ]
          }
         ],
         "name": "6.8"
        },
        {
         "data": [
          {
           "coloraxis": "coloraxis",
           "geo": "geo",
           "hovertemplate": "<b>%{hovertext}</b><br><br>Natural=3.2<br>ISO3=%{location}<br>Socio-Economic Vulnerability=%{z}<extra></extra>",
           "hovertext": [
            "Algeria",
            "Panama",
            "Bulgaria"
           ],
           "locations": [
            "DZA",
            "PAN",
            "BGR"
           ],
           "name": "",
           "type": "choropleth",
           "z": [
            7.4,
            4,
            2.2
           ]
          }
         ],
         "name": "3.2"
        },
        {
         "data": [
          {
           "coloraxis": "coloraxis",
           "geo": "geo",
           "hovertemplate": "<b>%{hovertext}</b><br><br>Natural=2.3<br>ISO3=%{location}<br>Socio-Economic Vulnerability=%{z}<extra></extra>",
           "hovertext": [
            "Zimbabwe",
            "Samoa",
            "Palau",
            "Poland"
           ],
           "locations": [
            "ZWE",
            "WSM",
            "PLW",
            "POL"
           ],
           "name": "",
           "type": "choropleth",
           "z": [
            6.9,
            7.8,
            5.2,
            2.1
           ]
          }
         ],
         "name": "2.3"
        },
        {
         "data": [
          {
           "coloraxis": "coloraxis",
           "geo": "geo",
           "hovertemplate": "<b>%{hovertext}</b><br><br>Natural=3.7<br>ISO3=%{location}<br>Socio-Economic Vulnerability=%{z}<extra></extra>",
           "hovertext": [
            "Papua New Guinea"
           ],
           "locations": [
            "PNG"
           ],
           "name": "",
           "type": "choropleth",
           "z": [
            7.9
           ]
          }
         ],
         "name": "3.7"
        },
        {
         "data": [
          {
           "coloraxis": "coloraxis",
           "geo": "geo",
           "hovertemplate": "<b>%{hovertext}</b><br><br>Natural=5.7<br>ISO3=%{location}<br>Socio-Economic Vulnerability=%{z}<extra></extra>",
           "hovertext": [
            "Egypt",
            "Antigua and Barbuda"
           ],
           "locations": [
            "EGY",
            "ATG"
           ],
           "name": "",
           "type": "choropleth",
           "z": [
            5.8,
            2.4
           ]
          }
         ],
         "name": "5.7"
        },
        {
         "data": [
          {
           "coloraxis": "coloraxis",
           "geo": "geo",
           "hovertemplate": "<b>%{hovertext}</b><br><br>Natural=2.8<br>ISO3=%{location}<br>Socio-Economic Vulnerability=%{z}<extra></extra>",
           "hovertext": [
            "Senegal",
            "Eritrea",
            "Tonga"
           ],
           "locations": [
            "SEN",
            "ERI",
            "TON"
           ],
           "name": "",
           "type": "choropleth",
           "z": [
            7.6,
            6.5,
            6.1
           ]
          }
         ],
         "name": "2.8"
        },
        {
         "data": [
          {
           "coloraxis": "coloraxis",
           "geo": "geo",
           "hovertemplate": "<b>%{hovertext}</b><br><br>Natural=7.0<br>ISO3=%{location}<br>Socio-Economic Vulnerability=%{z}<extra></extra>",
           "hovertext": [
            "Iran",
            "Ecuador"
           ],
           "locations": [
            "IRN",
            "ECU"
           ],
           "name": "",
           "type": "choropleth",
           "z": [
            4.6,
            5
           ]
          }
         ],
         "name": "7.0"
        },
        {
         "data": [
          {
           "coloraxis": "coloraxis",
           "geo": "geo",
           "hovertemplate": "<b>%{hovertext}</b><br><br>Natural=6.4<br>ISO3=%{location}<br>Socio-Economic Vulnerability=%{z}<extra></extra>",
           "hovertext": [
            "Sri Lanka"
           ],
           "locations": [
            "LKA"
           ],
           "name": "",
           "type": "choropleth",
           "z": [
            5.5
           ]
          }
         ],
         "name": "6.4"
        },
        {
         "data": [
          {
           "coloraxis": "coloraxis",
           "geo": "geo",
           "hovertemplate": "<b>%{hovertext}</b><br><br>Natural=7.7<br>ISO3=%{location}<br>Socio-Economic Vulnerability=%{z}<extra></extra>",
           "hovertext": [
            "Peru"
           ],
           "locations": [
            "PER"
           ],
           "name": "",
           "type": "choropleth",
           "z": [
            5.4
           ]
          }
         ],
         "name": "7.7"
        },
        {
         "data": [
          {
           "coloraxis": "coloraxis",
           "geo": "geo",
           "hovertemplate": "<b>%{hovertext}</b><br><br>Natural=4.7<br>ISO3=%{location}<br>Socio-Economic Vulnerability=%{z}<extra></extra>",
           "hovertext": [
            "Laos",
            "Lebanon",
            "Bhutan"
           ],
           "locations": [
            "LAO",
            "LBN",
            "BTN"
           ],
           "name": "",
           "type": "choropleth",
           "z": [
            7.2,
            3.7,
            5
           ]
          }
         ],
         "name": "4.7"
        },
        {
         "data": [
          {
           "coloraxis": "coloraxis",
           "geo": "geo",
           "hovertemplate": "<b>%{hovertext}</b><br><br>Natural=5.3<br>ISO3=%{location}<br>Socio-Economic Vulnerability=%{z}<extra></extra>",
           "hovertext": [
            "Honduras",
            "Nicaragua"
           ],
           "locations": [
            "HND",
            "NIC"
           ],
           "name": "",
           "type": "choropleth",
           "z": [
            7.1,
            6.9
           ]
          }
         ],
         "name": "5.3"
        },
        {
         "data": [
          {
           "coloraxis": "coloraxis",
           "geo": "geo",
           "hovertemplate": "<b>%{hovertext}</b><br><br>Natural=5.4<br>ISO3=%{location}<br>Socio-Economic Vulnerability=%{z}<extra></extra>",
           "hovertext": [
            "Vanuatu"
           ],
           "locations": [
            "VUT"
           ],
           "name": "",
           "type": "choropleth",
           "z": [
            6.6
           ]
          }
         ],
         "name": "5.4"
        },
        {
         "data": [
          {
           "coloraxis": "coloraxis",
           "geo": "geo",
           "hovertemplate": "<b>%{hovertext}</b><br><br>Natural=1.2<br>ISO3=%{location}<br>Socio-Economic Vulnerability=%{z}<extra></extra>",
           "hovertext": [
            "Togo",
            "Sierra Leone"
           ],
           "locations": [
            "TGO",
            "SLE"
           ],
           "name": "",
           "type": "choropleth",
           "z": [
            7.3,
            7.8
           ]
          }
         ],
         "name": "1.2"
        },
        {
         "data": [
          {
           "coloraxis": "coloraxis",
           "geo": "geo",
           "hovertemplate": "<b>%{hovertext}</b><br><br>Natural=3.3<br>ISO3=%{location}<br>Socio-Economic Vulnerability=%{z}<extra></extra>",
           "hovertext": [
            "Malawi"
           ],
           "locations": [
            "MWI"
           ],
           "name": "",
           "type": "choropleth",
           "z": [
            8.3
           ]
          }
         ],
         "name": "3.3"
        },
        {
         "data": [
          {
           "coloraxis": "coloraxis",
           "geo": "geo",
           "hovertemplate": "<b>%{hovertext}</b><br><br>Natural=1.7<br>ISO3=%{location}<br>Socio-Economic Vulnerability=%{z}<extra></extra>",
           "hovertext": [
            "Eswatini",
            "Saint Vincent and the Grenadines",
            "Uruguay"
           ],
           "locations": [
            "SWZ",
            "VCT",
            "URY"
           ],
           "name": "",
           "type": "choropleth",
           "z": [
            7.3,
            3.3,
            3.1
           ]
          }
         ],
         "name": "1.7"
        },
        {
         "data": [
          {
           "coloraxis": "coloraxis",
           "geo": "geo",
           "hovertemplate": "<b>%{hovertext}</b><br><br>Natural=1.8<br>ISO3=%{location}<br>Socio-Economic Vulnerability=%{z}<extra></extra>",
           "hovertext": [
            "Angola"
           ],
           "locations": [
            "AGO"
           ],
           "name": "",
           "type": "choropleth",
           "z": [
            3.5
           ]
          }
         ],
         "name": "1.8"
        },
        {
         "data": [
          {
           "coloraxis": "coloraxis",
           "geo": "geo",
           "hovertemplate": "<b>%{hovertext}</b><br><br>Natural=2.6<br>ISO3=%{location}<br>Socio-Economic Vulnerability=%{z}<extra></extra>",
           "hovertext": [
            "Cameroon",
            "Guyana"
           ],
           "locations": [
            "CMR",
            "GUY"
           ],
           "name": "",
           "type": "choropleth",
           "z": [
            6.8,
            6.5
           ]
          }
         ],
         "name": "2.6"
        },
        {
         "data": [
          {
           "coloraxis": "coloraxis",
           "geo": "geo",
           "hovertemplate": "<b>%{hovertext}</b><br><br>Natural=6.7<br>ISO3=%{location}<br>Socio-Economic Vulnerability=%{z}<extra></extra>",
           "hovertext": [
            "Turkey"
           ],
           "locations": [
            "TUR"
           ],
           "name": "",
           "type": "choropleth",
           "z": [
            4.3
           ]
          }
         ],
         "name": "6.7"
        },
        {
         "data": [
          {
           "coloraxis": "coloraxis",
           "geo": "geo",
           "hovertemplate": "<b>%{hovertext}</b><br><br>Natural=2.0<br>ISO3=%{location}<br>Socio-Economic Vulnerability=%{z}<extra></extra>",
           "hovertext": [
            "Zambia",
            "Lesotho",
            "Cape Verde",
            "Netherlands"
           ],
           "locations": [
            "ZMB",
            "LSO",
            "CPV",
            "NLD"
           ],
           "name": "",
           "type": "choropleth",
           "z": [
            7.4,
            8,
            6.8,
            1.1
           ]
          }
         ],
         "name": "2.0"
        },
        {
         "data": [
          {
           "coloraxis": "coloraxis",
           "geo": "geo",
           "hovertemplate": "<b>%{hovertext}</b><br><br>Natural=4.9<br>ISO3=%{location}<br>Socio-Economic Vulnerability=%{z}<extra></extra>",
           "hovertext": [
            "Timor-Leste",
            "Costa Rica"
           ],
           "locations": [
            "TLS",
            "CRI"
           ],
           "name": "",
           "type": "choropleth",
           "z": [
            4.1,
            4.6
           ]
          }
         ],
         "name": "4.9"
        },
        {
         "data": [
          {
           "coloraxis": "coloraxis",
           "geo": "geo",
           "hovertemplate": "<b>%{hovertext}</b><br><br>Natural=3.8<br>ISO3=%{location}<br>Socio-Economic Vulnerability=%{z}<extra></extra>",
           "hovertext": [
            "Bolivia"
           ],
           "locations": [
            "BOL"
           ],
           "name": "",
           "type": "choropleth",
           "z": [
            5.9
           ]
          }
         ],
         "name": "3.8"
        },
        {
         "data": [
          {
           "coloraxis": "coloraxis",
           "geo": "geo",
           "hovertemplate": "<b>%{hovertext}</b><br><br>Natural=3.0<br>ISO3=%{location}<br>Socio-Economic Vulnerability=%{z}<extra></extra>",
           "hovertext": [
            "Jordan",
            "Seychelles",
            "Barbados"
           ],
           "locations": [
            "JOR",
            "SYC",
            "BRB"
           ],
           "name": "",
           "type": "choropleth",
           "z": [
            6.9,
            5,
            2.4
           ]
          }
         ],
         "name": "3.0"
        },
        {
         "data": [
          {
           "coloraxis": "coloraxis",
           "geo": "geo",
           "hovertemplate": "<b>%{hovertext}</b><br><br>Natural=3.4<br>ISO3=%{location}<br>Socio-Economic Vulnerability=%{z}<extra></extra>",
           "hovertext": [
            "South Africa",
            "Grenada",
            "Italy",
            "Oman",
            "Bahamas"
           ],
           "locations": [
            "ZAF",
            "GRD",
            "ITA",
            "OMN",
            "BHS"
           ],
           "name": "",
           "type": "choropleth",
           "z": [
            4.5,
            2.8,
            2.7,
            1.1,
            1
           ]
          }
         ],
         "name": "3.4"
        },
        {
         "data": [
          {
           "coloraxis": "coloraxis",
           "geo": "geo",
           "hovertemplate": "<b>%{hovertext}</b><br><br>Natural=1.9<br>ISO3=%{location}<br>Socio-Economic Vulnerability=%{z}<extra></extra>",
           "hovertext": [
            "Saudi Arabia",
            "Comoros",
            "Kuwait",
            "Ireland"
           ],
           "locations": [
            "SAU",
            "COM",
            "KWT",
            "IRL"
           ],
           "name": "",
           "type": "choropleth",
           "z": [
            6,
            7.8,
            4.7,
            2
           ]
          }
         ],
         "name": "1.9"
        },
        {
         "data": [
          {
           "coloraxis": "coloraxis",
           "geo": "geo",
           "hovertemplate": "<b>%{hovertext}</b><br><br>Natural=0.9<br>ISO3=%{location}<br>Socio-Economic Vulnerability=%{z}<extra></extra>",
           "hovertext": [
            "Liberia",
            "Sweden"
           ],
           "locations": [
            "LBR",
            "SWE"
           ],
           "name": "",
           "type": "choropleth",
           "z": [
            8.5,
            1
           ]
          }
         ],
         "name": "0.9"
        },
        {
         "data": [
          {
           "coloraxis": "coloraxis",
           "geo": "geo",
           "hovertemplate": "<b>%{hovertext}</b><br><br>Natural=1.4<br>ISO3=%{location}<br>Socio-Economic Vulnerability=%{z}<extra></extra>",
           "hovertext": [
            "Gabon",
            "Federated States of Micronesia",
            "Lithuania",
            "Iceland"
           ],
           "locations": [
            "GAB",
            "FSM",
            "LTU",
            "ISL"
           ],
           "name": "",
           "type": "choropleth",
           "z": [
            6.3,
            8.1,
            2.7,
            1.4
           ]
          }
         ],
         "name": "1.4"
        },
        {
         "data": [
          {
           "coloraxis": "coloraxis",
           "geo": "geo",
           "hovertemplate": "<b>%{hovertext}</b><br><br>Natural=5.1<br>ISO3=%{location}<br>Socio-Economic Vulnerability=%{z}<extra></extra>",
           "hovertext": [
            "Jamaica"
           ],
           "locations": [
            "JAM"
           ],
           "name": "",
           "type": "choropleth",
           "z": [
            4.2
           ]
          }
         ],
         "name": "5.1"
        },
        {
         "data": [
          {
           "coloraxis": "coloraxis",
           "geo": "geo",
           "hovertemplate": "<b>%{hovertext}</b><br><br>Natural=1.5<br>ISO3=%{location}<br>Socio-Economic Vulnerability=%{z}<extra></extra>",
           "hovertext": [
            "Ghana",
            "Kiribati"
           ],
           "locations": [
            "GHA",
            "KIR"
           ],
           "name": "",
           "type": "choropleth",
           "z": [
            6.6,
            6.5
           ]
          }
         ],
         "name": "1.5"
        },
        {
         "data": [
          {
           "coloraxis": "coloraxis",
           "geo": "geo",
           "hovertemplate": "<b>%{hovertext}</b><br><br>Natural=7.2<br>ISO3=%{location}<br>Socio-Economic Vulnerability=%{z}<extra></extra>",
           "hovertext": [
            "Chile"
           ],
           "locations": [
            "CHL"
           ],
           "name": "",
           "type": "choropleth",
           "z": [
            3.4
           ]
          }
         ],
         "name": "7.2"
        },
        {
         "data": [
          {
           "coloraxis": "coloraxis",
           "geo": "geo",
           "hovertemplate": "<b>%{hovertext}</b><br><br>Natural=5.2<br>ISO3=%{location}<br>Socio-Economic Vulnerability=%{z}<extra></extra>",
           "hovertext": [
            "Saint Kitts and Nevis"
           ],
           "locations": [
            "KNA"
           ],
           "name": "",
           "type": "choropleth",
           "z": [
            3.9
           ]
          }
         ],
         "name": "5.2"
        },
        {
         "data": [
          {
           "coloraxis": "coloraxis",
           "geo": "geo",
           "hovertemplate": "<b>%{hovertext}</b><br><br>Natural=4.8<br>ISO3=%{location}<br>Socio-Economic Vulnerability=%{z}<extra></extra>",
           "hovertext": [
            "Saint Lucia"
           ],
           "locations": [
            "LCA"
           ],
           "name": "",
           "type": "choropleth",
           "z": [
            3.5
           ]
          }
         ],
         "name": "4.8"
        },
        {
         "data": [
          {
           "coloraxis": "coloraxis",
           "geo": "geo",
           "hovertemplate": "<b>%{hovertext}</b><br><br>Natural=4.3<br>ISO3=%{location}<br>Socio-Economic Vulnerability=%{z}<extra></extra>",
           "hovertext": [
            "Greece"
           ],
           "locations": [
            "GRC"
           ],
           "name": "",
           "type": "choropleth",
           "z": [
            2.8
           ]
          }
         ],
         "name": "4.3"
        },
        {
         "data": [
          {
           "coloraxis": "coloraxis",
           "geo": "geo",
           "hovertemplate": "<b>%{hovertext}</b><br><br>Natural=3.1<br>ISO3=%{location}<br>Socio-Economic Vulnerability=%{z}<extra></extra>",
           "hovertext": [
            "Israel",
            "France"
           ],
           "locations": [
            "ISR",
            "FRA"
           ],
           "name": "",
           "type": "choropleth",
           "z": [
            2.8,
            1.6
           ]
          }
         ],
         "name": "3.1"
        },
        {
         "data": [
          {
           "coloraxis": "coloraxis",
           "geo": "geo",
           "hovertemplate": "<b>%{hovertext}</b><br><br>Natural=6.9<br>ISO3=%{location}<br>Socio-Economic Vulnerability=%{z}<extra></extra>",
           "hovertext": [
            "New Zealand"
           ],
           "locations": [
            "NZL"
           ],
           "name": "",
           "type": "choropleth",
           "z": [
            1.8
           ]
          }
         ],
         "name": "6.9"
        },
        {
         "data": [
          {
           "coloraxis": "coloraxis",
           "geo": "geo",
           "hovertemplate": "<b>%{hovertext}</b><br><br>Natural=2.2<br>ISO3=%{location}<br>Socio-Economic Vulnerability=%{z}<extra></extra>",
           "hovertext": [
            "Dominica",
            "Switzerland"
           ],
           "locations": [
            "DMA",
            "CHE"
           ],
           "name": "",
           "type": "choropleth",
           "z": [
            4.3,
            1.3
           ]
          }
         ],
         "name": "2.2"
        },
        {
         "data": [
          {
           "coloraxis": "coloraxis",
           "geo": "geo",
           "hovertemplate": "<b>%{hovertext}</b><br><br>Natural=1.0<br>ISO3=%{location}<br>Socio-Economic Vulnerability=%{z}<extra></extra>",
           "hovertext": [
            "Equatorial Guinea",
            "Latvia"
           ],
           "locations": [
            "GNQ",
            "LVA"
           ],
           "name": "",
           "type": "choropleth",
           "z": [
            1.8,
            1.9
           ]
          }
         ],
         "name": "1.0"
        },
        {
         "data": [
          {
           "coloraxis": "coloraxis",
           "geo": "geo",
           "hovertemplate": "<b>%{hovertext}</b><br><br>Natural=2.5<br>ISO3=%{location}<br>Socio-Economic Vulnerability=%{z}<extra></extra>",
           "hovertext": [
            "Cyprus"
           ],
           "locations": [
            "CYP"
           ],
           "name": "",
           "type": "choropleth",
           "z": [
            3
           ]
          }
         ],
         "name": "2.5"
        },
        {
         "data": [
          {
           "coloraxis": "coloraxis",
           "geo": "geo",
           "hovertemplate": "<b>%{hovertext}</b><br><br>Natural=1.1<br>ISO3=%{location}<br>Socio-Economic Vulnerability=%{z}<extra></extra>",
           "hovertext": [
            "Suriname"
           ],
           "locations": [
            "SUR"
           ],
           "name": "",
           "type": "choropleth",
           "z": [
            3.2
           ]
          }
         ],
         "name": "1.1"
        },
        {
         "data": [
          {
           "coloraxis": "coloraxis",
           "geo": "geo",
           "hovertemplate": "<b>%{hovertext}</b><br><br>Natural=0.2<br>ISO3=%{location}<br>Socio-Economic Vulnerability=%{z}<extra></extra>",
           "hovertext": [
            "Bahrain",
            "Brunei"
           ],
           "locations": [
            "BHR",
            "BRN"
           ],
           "name": "",
           "type": "choropleth",
           "z": [
            5.9,
            4
           ]
          }
         ],
         "name": "0.2"
        },
        {
         "data": [
          {
           "coloraxis": "coloraxis",
           "geo": "geo",
           "hovertemplate": "<b>%{hovertext}</b><br><br>Natural=2.1<br>ISO3=%{location}<br>Socio-Economic Vulnerability=%{z}<extra></extra>",
           "hovertext": [
            "United Kingdom"
           ],
           "locations": [
            "GBR"
           ],
           "name": "",
           "type": "choropleth",
           "z": [
            1.6
           ]
          }
         ],
         "name": "2.1"
        },
        {
         "data": [
          {
           "coloraxis": "coloraxis",
           "geo": "geo",
           "hovertemplate": "<b>%{hovertext}</b><br><br>Natural=1.6<br>ISO3=%{location}<br>Socio-Economic Vulnerability=%{z}<extra></extra>",
           "hovertext": [
            "Belgium"
           ],
           "locations": [
            "BEL"
           ],
           "name": "",
           "type": "choropleth",
           "z": [
            2.1
           ]
          }
         ],
         "name": "1.6"
        },
        {
         "data": [
          {
           "coloraxis": "coloraxis",
           "geo": "geo",
           "hovertemplate": "<b>%{hovertext}</b><br><br>Natural=0.6<br>ISO3=%{location}<br>Socio-Economic Vulnerability=%{z}<extra></extra>",
           "hovertext": [
            "Estonia"
           ],
           "locations": [
            "EST"
           ],
           "name": "",
           "type": "choropleth",
           "z": [
            1.5
           ]
          }
         ],
         "name": "0.6"
        },
        {
         "data": [
          {
           "coloraxis": "coloraxis",
           "geo": "geo",
           "hovertemplate": "<b>%{hovertext}</b><br><br>Natural=0.7<br>ISO3=%{location}<br>Socio-Economic Vulnerability=%{z}<extra></extra>",
           "hovertext": [
            "Denmark",
            "Luxembourg"
           ],
           "locations": [
            "DNK",
            "LUX"
           ],
           "name": "",
           "type": "choropleth",
           "z": [
            1.3,
            1.5
           ]
          }
         ],
         "name": "0.7"
        },
        {
         "data": [
          {
           "coloraxis": "coloraxis",
           "geo": "geo",
           "hovertemplate": "<b>%{hovertext}</b><br><br>Natural=0.0<br>ISO3=%{location}<br>Socio-Economic Vulnerability=%{z}<extra></extra>",
           "hovertext": [
            "São Tomé and Príncipe",
            "Finland",
            "Malta"
           ],
           "locations": [
            "STP",
            "FIN",
            "MLT"
           ],
           "name": "",
           "type": "choropleth",
           "z": [
            6.5,
            1.7,
            4
           ]
          }
         ],
         "name": "0.0"
        }
       ],
       "layout": {
        "coloraxis": {
         "colorbar": {
          "title": {
           "text": "Socio-Economic Vulnerability"
          }
         },
         "colorscale": [
          [
           0,
           "rgb(247,244,249)"
          ],
          [
           0.125,
           "rgb(231,225,239)"
          ],
          [
           0.25,
           "rgb(212,185,218)"
          ],
          [
           0.375,
           "rgb(201,148,199)"
          ],
          [
           0.5,
           "rgb(223,101,176)"
          ],
          [
           0.625,
           "rgb(231,41,138)"
          ],
          [
           0.75,
           "rgb(206,18,86)"
          ],
          [
           0.875,
           "rgb(152,0,67)"
          ],
          [
           1,
           "rgb(103,0,31)"
          ]
         ]
        },
        "geo": {
         "center": {},
         "domain": {
          "x": [
           0,
           1
          ],
          "y": [
           0,
           1
          ]
         }
        },
        "legend": {
         "tracegroupgap": 0
        },
        "sliders": [
         {
          "active": 0,
          "currentvalue": {
           "prefix": "Natural="
          },
          "len": 0.9,
          "pad": {
           "b": 10,
           "t": 60
          },
          "steps": [
           {
            "args": [
             [
              "5.6"
             ],
             {
              "frame": {
               "duration": 0,
               "redraw": true
              },
              "fromcurrent": true,
              "mode": "immediate",
              "transition": {
               "duration": 0,
               "easing": "linear"
              }
             }
            ],
            "label": "5.6",
            "method": "animate"
           },
           {
            "args": [
             [
              "5.9"
             ],
             {
              "frame": {
               "duration": 0,
               "redraw": true
              },
              "fromcurrent": true,
              "mode": "immediate",
              "transition": {
               "duration": 0,
               "easing": "linear"
              }
             }
            ],
            "label": "5.9",
            "method": "animate"
           },
           {
            "args": [
             [
              "4.2"
             ],
             {
              "frame": {
               "duration": 0,
               "redraw": true
              },
              "fromcurrent": true,
              "mode": "immediate",
              "transition": {
               "duration": 0,
               "easing": "linear"
              }
             }
            ],
            "label": "4.2",
            "method": "animate"
           },
           {
            "args": [
             [
              "2.9"
             ],
             {
              "frame": {
               "duration": 0,
               "redraw": true
              },
              "fromcurrent": true,
              "mode": "immediate",
              "transition": {
               "duration": 0,
               "easing": "linear"
              }
             }
            ],
            "label": "2.9",
            "method": "animate"
           },
           {
            "args": [
             [
              "9.1"
             ],
             {
              "frame": {
               "duration": 0,
               "redraw": true
              },
              "fromcurrent": true,
              "mode": "immediate",
              "transition": {
               "duration": 0,
               "easing": "linear"
              }
             }
            ],
            "label": "9.1",
            "method": "animate"
           },
           {
            "args": [
             [
              "4.4"
             ],
             {
              "frame": {
               "duration": 0,
               "redraw": true
              },
              "fromcurrent": true,
              "mode": "immediate",
              "transition": {
               "duration": 0,
               "easing": "linear"
              }
             }
            ],
            "label": "4.4",
            "method": "animate"
           },
           {
            "args": [
             [
              "3.5"
             ],
             {
              "frame": {
               "duration": 0,
               "redraw": true
              },
              "fromcurrent": true,
              "mode": "immediate",
              "transition": {
               "duration": 0,
               "easing": "linear"
              }
             }
            ],
            "label": "3.5",
            "method": "animate"
           },
           {
            "args": [
             [
              "6.1"
             ],
             {
              "frame": {
               "duration": 0,
               "redraw": true
              },
              "fromcurrent": true,
              "mode": "immediate",
              "transition": {
               "duration": 0,
               "easing": "linear"
              }
             }
            ],
            "label": "6.1",
            "method": "animate"
           },
           {
            "args": [
             [
              "7.1"
             ],
             {
              "frame": {
               "duration": 0,
               "redraw": true
              },
              "fromcurrent": true,
              "mode": "immediate",
              "transition": {
               "duration": 0,
               "easing": "linear"
              }
             }
            ],
            "label": "7.1",
            "method": "animate"
           },
           {
            "args": [
             [
              "9.3"
             ],
             {
              "frame": {
               "duration": 0,
               "redraw": true
              },
              "fromcurrent": true,
              "mode": "immediate",
              "transition": {
               "duration": 0,
               "easing": "linear"
              }
             }
            ],
            "label": "9.3",
            "method": "animate"
           },
           {
            "args": [
             [
              "2.4"
             ],
             {
              "frame": {
               "duration": 0,
               "redraw": true
              },
              "fromcurrent": true,
              "mode": "immediate",
              "transition": {
               "duration": 0,
               "easing": "linear"
              }
             }
            ],
            "label": "2.4",
            "method": "animate"
           },
           {
            "args": [
             [
              "4.5"
             ],
             {
              "frame": {
               "duration": 0,
               "redraw": true
              },
              "fromcurrent": true,
              "mode": "immediate",
              "transition": {
               "duration": 0,
               "easing": "linear"
              }
             }
            ],
            "label": "4.5",
            "method": "animate"
           },
           {
            "args": [
             [
              "2.7"
             ],
             {
              "frame": {
               "duration": 0,
               "redraw": true
              },
              "fromcurrent": true,
              "mode": "immediate",
              "transition": {
               "duration": 0,
               "easing": "linear"
              }
             }
            ],
            "label": "2.7",
            "method": "animate"
           },
           {
            "args": [
             [
              "4.1"
             ],
             {
              "frame": {
               "duration": 0,
               "redraw": true
              },
              "fromcurrent": true,
              "mode": "immediate",
              "transition": {
               "duration": 0,
               "easing": "linear"
              }
             }
            ],
            "label": "4.1",
            "method": "animate"
           },
           {
            "args": [
             [
              "8.2"
             ],
             {
              "frame": {
               "duration": 0,
               "redraw": true
              },
              "fromcurrent": true,
              "mode": "immediate",
              "transition": {
               "duration": 0,
               "easing": "linear"
              }
             }
            ],
            "label": "8.2",
            "method": "animate"
           },
           {
            "args": [
             [
              "3.9"
             ],
             {
              "frame": {
               "duration": 0,
               "redraw": true
              },
              "fromcurrent": true,
              "mode": "immediate",
              "transition": {
               "duration": 0,
               "easing": "linear"
              }
             }
            ],
            "label": "3.9",
            "method": "animate"
           },
           {
            "args": [
             [
              "6.8"
             ],
             {
              "frame": {
               "duration": 0,
               "redraw": true
              },
              "fromcurrent": true,
              "mode": "immediate",
              "transition": {
               "duration": 0,
               "easing": "linear"
              }
             }
            ],
            "label": "6.8",
            "method": "animate"
           },
           {
            "args": [
             [
              "3.2"
             ],
             {
              "frame": {
               "duration": 0,
               "redraw": true
              },
              "fromcurrent": true,
              "mode": "immediate",
              "transition": {
               "duration": 0,
               "easing": "linear"
              }
             }
            ],
            "label": "3.2",
            "method": "animate"
           },
           {
            "args": [
             [
              "2.3"
             ],
             {
              "frame": {
               "duration": 0,
               "redraw": true
              },
              "fromcurrent": true,
              "mode": "immediate",
              "transition": {
               "duration": 0,
               "easing": "linear"
              }
             }
            ],
            "label": "2.3",
            "method": "animate"
           },
           {
            "args": [
             [
              "3.7"
             ],
             {
              "frame": {
               "duration": 0,
               "redraw": true
              },
              "fromcurrent": true,
              "mode": "immediate",
              "transition": {
               "duration": 0,
               "easing": "linear"
              }
             }
            ],
            "label": "3.7",
            "method": "animate"
           },
           {
            "args": [
             [
              "5.7"
             ],
             {
              "frame": {
               "duration": 0,
               "redraw": true
              },
              "fromcurrent": true,
              "mode": "immediate",
              "transition": {
               "duration": 0,
               "easing": "linear"
              }
             }
            ],
            "label": "5.7",
            "method": "animate"
           },
           {
            "args": [
             [
              "2.8"
             ],
             {
              "frame": {
               "duration": 0,
               "redraw": true
              },
              "fromcurrent": true,
              "mode": "immediate",
              "transition": {
               "duration": 0,
               "easing": "linear"
              }
             }
            ],
            "label": "2.8",
            "method": "animate"
           },
           {
            "args": [
             [
              "7.0"
             ],
             {
              "frame": {
               "duration": 0,
               "redraw": true
              },
              "fromcurrent": true,
              "mode": "immediate",
              "transition": {
               "duration": 0,
               "easing": "linear"
              }
             }
            ],
            "label": "7.0",
            "method": "animate"
           },
           {
            "args": [
             [
              "6.4"
             ],
             {
              "frame": {
               "duration": 0,
               "redraw": true
              },
              "fromcurrent": true,
              "mode": "immediate",
              "transition": {
               "duration": 0,
               "easing": "linear"
              }
             }
            ],
            "label": "6.4",
            "method": "animate"
           },
           {
            "args": [
             [
              "7.7"
             ],
             {
              "frame": {
               "duration": 0,
               "redraw": true
              },
              "fromcurrent": true,
              "mode": "immediate",
              "transition": {
               "duration": 0,
               "easing": "linear"
              }
             }
            ],
            "label": "7.7",
            "method": "animate"
           },
           {
            "args": [
             [
              "4.7"
             ],
             {
              "frame": {
               "duration": 0,
               "redraw": true
              },
              "fromcurrent": true,
              "mode": "immediate",
              "transition": {
               "duration": 0,
               "easing": "linear"
              }
             }
            ],
            "label": "4.7",
            "method": "animate"
           },
           {
            "args": [
             [
              "5.3"
             ],
             {
              "frame": {
               "duration": 0,
               "redraw": true
              },
              "fromcurrent": true,
              "mode": "immediate",
              "transition": {
               "duration": 0,
               "easing": "linear"
              }
             }
            ],
            "label": "5.3",
            "method": "animate"
           },
           {
            "args": [
             [
              "5.4"
             ],
             {
              "frame": {
               "duration": 0,
               "redraw": true
              },
              "fromcurrent": true,
              "mode": "immediate",
              "transition": {
               "duration": 0,
               "easing": "linear"
              }
             }
            ],
            "label": "5.4",
            "method": "animate"
           },
           {
            "args": [
             [
              "1.2"
             ],
             {
              "frame": {
               "duration": 0,
               "redraw": true
              },
              "fromcurrent": true,
              "mode": "immediate",
              "transition": {
               "duration": 0,
               "easing": "linear"
              }
             }
            ],
            "label": "1.2",
            "method": "animate"
           },
           {
            "args": [
             [
              "3.3"
             ],
             {
              "frame": {
               "duration": 0,
               "redraw": true
              },
              "fromcurrent": true,
              "mode": "immediate",
              "transition": {
               "duration": 0,
               "easing": "linear"
              }
             }
            ],
            "label": "3.3",
            "method": "animate"
           },
           {
            "args": [
             [
              "1.7"
             ],
             {
              "frame": {
               "duration": 0,
               "redraw": true
              },
              "fromcurrent": true,
              "mode": "immediate",
              "transition": {
               "duration": 0,
               "easing": "linear"
              }
             }
            ],
            "label": "1.7",
            "method": "animate"
           },
           {
            "args": [
             [
              "1.8"
             ],
             {
              "frame": {
               "duration": 0,
               "redraw": true
              },
              "fromcurrent": true,
              "mode": "immediate",
              "transition": {
               "duration": 0,
               "easing": "linear"
              }
             }
            ],
            "label": "1.8",
            "method": "animate"
           },
           {
            "args": [
             [
              "2.6"
             ],
             {
              "frame": {
               "duration": 0,
               "redraw": true
              },
              "fromcurrent": true,
              "mode": "immediate",
              "transition": {
               "duration": 0,
               "easing": "linear"
              }
             }
            ],
            "label": "2.6",
            "method": "animate"
           },
           {
            "args": [
             [
              "6.7"
             ],
             {
              "frame": {
               "duration": 0,
               "redraw": true
              },
              "fromcurrent": true,
              "mode": "immediate",
              "transition": {
               "duration": 0,
               "easing": "linear"
              }
             }
            ],
            "label": "6.7",
            "method": "animate"
           },
           {
            "args": [
             [
              "2.0"
             ],
             {
              "frame": {
               "duration": 0,
               "redraw": true
              },
              "fromcurrent": true,
              "mode": "immediate",
              "transition": {
               "duration": 0,
               "easing": "linear"
              }
             }
            ],
            "label": "2.0",
            "method": "animate"
           },
           {
            "args": [
             [
              "4.9"
             ],
             {
              "frame": {
               "duration": 0,
               "redraw": true
              },
              "fromcurrent": true,
              "mode": "immediate",
              "transition": {
               "duration": 0,
               "easing": "linear"
              }
             }
            ],
            "label": "4.9",
            "method": "animate"
           },
           {
            "args": [
             [
              "3.8"
             ],
             {
              "frame": {
               "duration": 0,
               "redraw": true
              },
              "fromcurrent": true,
              "mode": "immediate",
              "transition": {
               "duration": 0,
               "easing": "linear"
              }
             }
            ],
            "label": "3.8",
            "method": "animate"
           },
           {
            "args": [
             [
              "3.0"
             ],
             {
              "frame": {
               "duration": 0,
               "redraw": true
              },
              "fromcurrent": true,
              "mode": "immediate",
              "transition": {
               "duration": 0,
               "easing": "linear"
              }
             }
            ],
            "label": "3.0",
            "method": "animate"
           },
           {
            "args": [
             [
              "3.4"
             ],
             {
              "frame": {
               "duration": 0,
               "redraw": true
              },
              "fromcurrent": true,
              "mode": "immediate",
              "transition": {
               "duration": 0,
               "easing": "linear"
              }
             }
            ],
            "label": "3.4",
            "method": "animate"
           },
           {
            "args": [
             [
              "1.9"
             ],
             {
              "frame": {
               "duration": 0,
               "redraw": true
              },
              "fromcurrent": true,
              "mode": "immediate",
              "transition": {
               "duration": 0,
               "easing": "linear"
              }
             }
            ],
            "label": "1.9",
            "method": "animate"
           },
           {
            "args": [
             [
              "0.9"
             ],
             {
              "frame": {
               "duration": 0,
               "redraw": true
              },
              "fromcurrent": true,
              "mode": "immediate",
              "transition": {
               "duration": 0,
               "easing": "linear"
              }
             }
            ],
            "label": "0.9",
            "method": "animate"
           },
           {
            "args": [
             [
              "1.4"
             ],
             {
              "frame": {
               "duration": 0,
               "redraw": true
              },
              "fromcurrent": true,
              "mode": "immediate",
              "transition": {
               "duration": 0,
               "easing": "linear"
              }
             }
            ],
            "label": "1.4",
            "method": "animate"
           },
           {
            "args": [
             [
              "5.1"
             ],
             {
              "frame": {
               "duration": 0,
               "redraw": true
              },
              "fromcurrent": true,
              "mode": "immediate",
              "transition": {
               "duration": 0,
               "easing": "linear"
              }
             }
            ],
            "label": "5.1",
            "method": "animate"
           },
           {
            "args": [
             [
              "1.5"
             ],
             {
              "frame": {
               "duration": 0,
               "redraw": true
              },
              "fromcurrent": true,
              "mode": "immediate",
              "transition": {
               "duration": 0,
               "easing": "linear"
              }
             }
            ],
            "label": "1.5",
            "method": "animate"
           },
           {
            "args": [
             [
              "7.2"
             ],
             {
              "frame": {
               "duration": 0,
               "redraw": true
              },
              "fromcurrent": true,
              "mode": "immediate",
              "transition": {
               "duration": 0,
               "easing": "linear"
              }
             }
            ],
            "label": "7.2",
            "method": "animate"
           },
           {
            "args": [
             [
              "5.2"
             ],
             {
              "frame": {
               "duration": 0,
               "redraw": true
              },
              "fromcurrent": true,
              "mode": "immediate",
              "transition": {
               "duration": 0,
               "easing": "linear"
              }
             }
            ],
            "label": "5.2",
            "method": "animate"
           },
           {
            "args": [
             [
              "4.8"
             ],
             {
              "frame": {
               "duration": 0,
               "redraw": true
              },
              "fromcurrent": true,
              "mode": "immediate",
              "transition": {
               "duration": 0,
               "easing": "linear"
              }
             }
            ],
            "label": "4.8",
            "method": "animate"
           },
           {
            "args": [
             [
              "4.3"
             ],
             {
              "frame": {
               "duration": 0,
               "redraw": true
              },
              "fromcurrent": true,
              "mode": "immediate",
              "transition": {
               "duration": 0,
               "easing": "linear"
              }
             }
            ],
            "label": "4.3",
            "method": "animate"
           },
           {
            "args": [
             [
              "3.1"
             ],
             {
              "frame": {
               "duration": 0,
               "redraw": true
              },
              "fromcurrent": true,
              "mode": "immediate",
              "transition": {
               "duration": 0,
               "easing": "linear"
              }
             }
            ],
            "label": "3.1",
            "method": "animate"
           },
           {
            "args": [
             [
              "6.9"
             ],
             {
              "frame": {
               "duration": 0,
               "redraw": true
              },
              "fromcurrent": true,
              "mode": "immediate",
              "transition": {
               "duration": 0,
               "easing": "linear"
              }
             }
            ],
            "label": "6.9",
            "method": "animate"
           },
           {
            "args": [
             [
              "2.2"
             ],
             {
              "frame": {
               "duration": 0,
               "redraw": true
              },
              "fromcurrent": true,
              "mode": "immediate",
              "transition": {
               "duration": 0,
               "easing": "linear"
              }
             }
            ],
            "label": "2.2",
            "method": "animate"
           },
           {
            "args": [
             [
              "1.0"
             ],
             {
              "frame": {
               "duration": 0,
               "redraw": true
              },
              "fromcurrent": true,
              "mode": "immediate",
              "transition": {
               "duration": 0,
               "easing": "linear"
              }
             }
            ],
            "label": "1.0",
            "method": "animate"
           },
           {
            "args": [
             [
              "2.5"
             ],
             {
              "frame": {
               "duration": 0,
               "redraw": true
              },
              "fromcurrent": true,
              "mode": "immediate",
              "transition": {
               "duration": 0,
               "easing": "linear"
              }
             }
            ],
            "label": "2.5",
            "method": "animate"
           },
           {
            "args": [
             [
              "1.1"
             ],
             {
              "frame": {
               "duration": 0,
               "redraw": true
              },
              "fromcurrent": true,
              "mode": "immediate",
              "transition": {
               "duration": 0,
               "easing": "linear"
              }
             }
            ],
            "label": "1.1",
            "method": "animate"
           },
           {
            "args": [
             [
              "0.2"
             ],
             {
              "frame": {
               "duration": 0,
               "redraw": true
              },
              "fromcurrent": true,
              "mode": "immediate",
              "transition": {
               "duration": 0,
               "easing": "linear"
              }
             }
            ],
            "label": "0.2",
            "method": "animate"
           },
           {
            "args": [
             [
              "2.1"
             ],
             {
              "frame": {
               "duration": 0,
               "redraw": true
              },
              "fromcurrent": true,
              "mode": "immediate",
              "transition": {
               "duration": 0,
               "easing": "linear"
              }
             }
            ],
            "label": "2.1",
            "method": "animate"
           },
           {
            "args": [
             [
              "1.6"
             ],
             {
              "frame": {
               "duration": 0,
               "redraw": true
              },
              "fromcurrent": true,
              "mode": "immediate",
              "transition": {
               "duration": 0,
               "easing": "linear"
              }
             }
            ],
            "label": "1.6",
            "method": "animate"
           },
           {
            "args": [
             [
              "0.6"
             ],
             {
              "frame": {
               "duration": 0,
               "redraw": true
              },
              "fromcurrent": true,
              "mode": "immediate",
              "transition": {
               "duration": 0,
               "easing": "linear"
              }
             }
            ],
            "label": "0.6",
            "method": "animate"
           },
           {
            "args": [
             [
              "0.7"
             ],
             {
              "frame": {
               "duration": 0,
               "redraw": true
              },
              "fromcurrent": true,
              "mode": "immediate",
              "transition": {
               "duration": 0,
               "easing": "linear"
              }
             }
            ],
            "label": "0.7",
            "method": "animate"
           },
           {
            "args": [
             [
              "0.0"
             ],
             {
              "frame": {
               "duration": 0,
               "redraw": true
              },
              "fromcurrent": true,
              "mode": "immediate",
              "transition": {
               "duration": 0,
               "easing": "linear"
              }
             }
            ],
            "label": "0.0",
            "method": "animate"
           }
          ],
          "x": 0.1,
          "xanchor": "left",
          "y": 0,
          "yanchor": "top"
         }
        ],
        "template": {
         "data": {
          "bar": [
           {
            "error_x": {
             "color": "#2a3f5f"
            },
            "error_y": {
             "color": "#2a3f5f"
            },
            "marker": {
             "line": {
              "color": "#E5ECF6",
              "width": 0.5
             },
             "pattern": {
              "fillmode": "overlay",
              "size": 10,
              "solidity": 0.2
             }
            },
            "type": "bar"
           }
          ],
          "barpolar": [
           {
            "marker": {
             "line": {
              "color": "#E5ECF6",
              "width": 0.5
             },
             "pattern": {
              "fillmode": "overlay",
              "size": 10,
              "solidity": 0.2
             }
            },
            "type": "barpolar"
           }
          ],
          "carpet": [
           {
            "aaxis": {
             "endlinecolor": "#2a3f5f",
             "gridcolor": "white",
             "linecolor": "white",
             "minorgridcolor": "white",
             "startlinecolor": "#2a3f5f"
            },
            "baxis": {
             "endlinecolor": "#2a3f5f",
             "gridcolor": "white",
             "linecolor": "white",
             "minorgridcolor": "white",
             "startlinecolor": "#2a3f5f"
            },
            "type": "carpet"
           }
          ],
          "choropleth": [
           {
            "colorbar": {
             "outlinewidth": 0,
             "ticks": ""
            },
            "type": "choropleth"
           }
          ],
          "contour": [
           {
            "colorbar": {
             "outlinewidth": 0,
             "ticks": ""
            },
            "colorscale": [
             [
              0,
              "#0d0887"
             ],
             [
              0.1111111111111111,
              "#46039f"
             ],
             [
              0.2222222222222222,
              "#7201a8"
             ],
             [
              0.3333333333333333,
              "#9c179e"
             ],
             [
              0.4444444444444444,
              "#bd3786"
             ],
             [
              0.5555555555555556,
              "#d8576b"
             ],
             [
              0.6666666666666666,
              "#ed7953"
             ],
             [
              0.7777777777777778,
              "#fb9f3a"
             ],
             [
              0.8888888888888888,
              "#fdca26"
             ],
             [
              1,
              "#f0f921"
             ]
            ],
            "type": "contour"
           }
          ],
          "contourcarpet": [
           {
            "colorbar": {
             "outlinewidth": 0,
             "ticks": ""
            },
            "type": "contourcarpet"
           }
          ],
          "heatmap": [
           {
            "colorbar": {
             "outlinewidth": 0,
             "ticks": ""
            },
            "colorscale": [
             [
              0,
              "#0d0887"
             ],
             [
              0.1111111111111111,
              "#46039f"
             ],
             [
              0.2222222222222222,
              "#7201a8"
             ],
             [
              0.3333333333333333,
              "#9c179e"
             ],
             [
              0.4444444444444444,
              "#bd3786"
             ],
             [
              0.5555555555555556,
              "#d8576b"
             ],
             [
              0.6666666666666666,
              "#ed7953"
             ],
             [
              0.7777777777777778,
              "#fb9f3a"
             ],
             [
              0.8888888888888888,
              "#fdca26"
             ],
             [
              1,
              "#f0f921"
             ]
            ],
            "type": "heatmap"
           }
          ],
          "heatmapgl": [
           {
            "colorbar": {
             "outlinewidth": 0,
             "ticks": ""
            },
            "colorscale": [
             [
              0,
              "#0d0887"
             ],
             [
              0.1111111111111111,
              "#46039f"
             ],
             [
              0.2222222222222222,
              "#7201a8"
             ],
             [
              0.3333333333333333,
              "#9c179e"
             ],
             [
              0.4444444444444444,
              "#bd3786"
             ],
             [
              0.5555555555555556,
              "#d8576b"
             ],
             [
              0.6666666666666666,
              "#ed7953"
             ],
             [
              0.7777777777777778,
              "#fb9f3a"
             ],
             [
              0.8888888888888888,
              "#fdca26"
             ],
             [
              1,
              "#f0f921"
             ]
            ],
            "type": "heatmapgl"
           }
          ],
          "histogram": [
           {
            "marker": {
             "pattern": {
              "fillmode": "overlay",
              "size": 10,
              "solidity": 0.2
             }
            },
            "type": "histogram"
           }
          ],
          "histogram2d": [
           {
            "colorbar": {
             "outlinewidth": 0,
             "ticks": ""
            },
            "colorscale": [
             [
              0,
              "#0d0887"
             ],
             [
              0.1111111111111111,
              "#46039f"
             ],
             [
              0.2222222222222222,
              "#7201a8"
             ],
             [
              0.3333333333333333,
              "#9c179e"
             ],
             [
              0.4444444444444444,
              "#bd3786"
             ],
             [
              0.5555555555555556,
              "#d8576b"
             ],
             [
              0.6666666666666666,
              "#ed7953"
             ],
             [
              0.7777777777777778,
              "#fb9f3a"
             ],
             [
              0.8888888888888888,
              "#fdca26"
             ],
             [
              1,
              "#f0f921"
             ]
            ],
            "type": "histogram2d"
           }
          ],
          "histogram2dcontour": [
           {
            "colorbar": {
             "outlinewidth": 0,
             "ticks": ""
            },
            "colorscale": [
             [
              0,
              "#0d0887"
             ],
             [
              0.1111111111111111,
              "#46039f"
             ],
             [
              0.2222222222222222,
              "#7201a8"
             ],
             [
              0.3333333333333333,
              "#9c179e"
             ],
             [
              0.4444444444444444,
              "#bd3786"
             ],
             [
              0.5555555555555556,
              "#d8576b"
             ],
             [
              0.6666666666666666,
              "#ed7953"
             ],
             [
              0.7777777777777778,
              "#fb9f3a"
             ],
             [
              0.8888888888888888,
              "#fdca26"
             ],
             [
              1,
              "#f0f921"
             ]
            ],
            "type": "histogram2dcontour"
           }
          ],
          "mesh3d": [
           {
            "colorbar": {
             "outlinewidth": 0,
             "ticks": ""
            },
            "type": "mesh3d"
           }
          ],
          "parcoords": [
           {
            "line": {
             "colorbar": {
              "outlinewidth": 0,
              "ticks": ""
             }
            },
            "type": "parcoords"
           }
          ],
          "pie": [
           {
            "automargin": true,
            "type": "pie"
           }
          ],
          "scatter": [
           {
            "fillpattern": {
             "fillmode": "overlay",
             "size": 10,
             "solidity": 0.2
            },
            "type": "scatter"
           }
          ],
          "scatter3d": [
           {
            "line": {
             "colorbar": {
              "outlinewidth": 0,
              "ticks": ""
             }
            },
            "marker": {
             "colorbar": {
              "outlinewidth": 0,
              "ticks": ""
             }
            },
            "type": "scatter3d"
           }
          ],
          "scattercarpet": [
           {
            "marker": {
             "colorbar": {
              "outlinewidth": 0,
              "ticks": ""
             }
            },
            "type": "scattercarpet"
           }
          ],
          "scattergeo": [
           {
            "marker": {
             "colorbar": {
              "outlinewidth": 0,
              "ticks": ""
             }
            },
            "type": "scattergeo"
           }
          ],
          "scattergl": [
           {
            "marker": {
             "colorbar": {
              "outlinewidth": 0,
              "ticks": ""
             }
            },
            "type": "scattergl"
           }
          ],
          "scattermapbox": [
           {
            "marker": {
             "colorbar": {
              "outlinewidth": 0,
              "ticks": ""
             }
            },
            "type": "scattermapbox"
           }
          ],
          "scatterpolar": [
           {
            "marker": {
             "colorbar": {
              "outlinewidth": 0,
              "ticks": ""
             }
            },
            "type": "scatterpolar"
           }
          ],
          "scatterpolargl": [
           {
            "marker": {
             "colorbar": {
              "outlinewidth": 0,
              "ticks": ""
             }
            },
            "type": "scatterpolargl"
           }
          ],
          "scatterternary": [
           {
            "marker": {
             "colorbar": {
              "outlinewidth": 0,
              "ticks": ""
             }
            },
            "type": "scatterternary"
           }
          ],
          "surface": [
           {
            "colorbar": {
             "outlinewidth": 0,
             "ticks": ""
            },
            "colorscale": [
             [
              0,
              "#0d0887"
             ],
             [
              0.1111111111111111,
              "#46039f"
             ],
             [
              0.2222222222222222,
              "#7201a8"
             ],
             [
              0.3333333333333333,
              "#9c179e"
             ],
             [
              0.4444444444444444,
              "#bd3786"
             ],
             [
              0.5555555555555556,
              "#d8576b"
             ],
             [
              0.6666666666666666,
              "#ed7953"
             ],
             [
              0.7777777777777778,
              "#fb9f3a"
             ],
             [
              0.8888888888888888,
              "#fdca26"
             ],
             [
              1,
              "#f0f921"
             ]
            ],
            "type": "surface"
           }
          ],
          "table": [
           {
            "cells": {
             "fill": {
              "color": "#EBF0F8"
             },
             "line": {
              "color": "white"
             }
            },
            "header": {
             "fill": {
              "color": "#C8D4E3"
             },
             "line": {
              "color": "white"
             }
            },
            "type": "table"
           }
          ]
         },
         "layout": {
          "annotationdefaults": {
           "arrowcolor": "#2a3f5f",
           "arrowhead": 0,
           "arrowwidth": 1
          },
          "autotypenumbers": "strict",
          "coloraxis": {
           "colorbar": {
            "outlinewidth": 0,
            "ticks": ""
           }
          },
          "colorscale": {
           "diverging": [
            [
             0,
             "#8e0152"
            ],
            [
             0.1,
             "#c51b7d"
            ],
            [
             0.2,
             "#de77ae"
            ],
            [
             0.3,
             "#f1b6da"
            ],
            [
             0.4,
             "#fde0ef"
            ],
            [
             0.5,
             "#f7f7f7"
            ],
            [
             0.6,
             "#e6f5d0"
            ],
            [
             0.7,
             "#b8e186"
            ],
            [
             0.8,
             "#7fbc41"
            ],
            [
             0.9,
             "#4d9221"
            ],
            [
             1,
             "#276419"
            ]
           ],
           "sequential": [
            [
             0,
             "#0d0887"
            ],
            [
             0.1111111111111111,
             "#46039f"
            ],
            [
             0.2222222222222222,
             "#7201a8"
            ],
            [
             0.3333333333333333,
             "#9c179e"
            ],
            [
             0.4444444444444444,
             "#bd3786"
            ],
            [
             0.5555555555555556,
             "#d8576b"
            ],
            [
             0.6666666666666666,
             "#ed7953"
            ],
            [
             0.7777777777777778,
             "#fb9f3a"
            ],
            [
             0.8888888888888888,
             "#fdca26"
            ],
            [
             1,
             "#f0f921"
            ]
           ],
           "sequentialminus": [
            [
             0,
             "#0d0887"
            ],
            [
             0.1111111111111111,
             "#46039f"
            ],
            [
             0.2222222222222222,
             "#7201a8"
            ],
            [
             0.3333333333333333,
             "#9c179e"
            ],
            [
             0.4444444444444444,
             "#bd3786"
            ],
            [
             0.5555555555555556,
             "#d8576b"
            ],
            [
             0.6666666666666666,
             "#ed7953"
            ],
            [
             0.7777777777777778,
             "#fb9f3a"
            ],
            [
             0.8888888888888888,
             "#fdca26"
            ],
            [
             1,
             "#f0f921"
            ]
           ]
          },
          "colorway": [
           "#636efa",
           "#EF553B",
           "#00cc96",
           "#ab63fa",
           "#FFA15A",
           "#19d3f3",
           "#FF6692",
           "#B6E880",
           "#FF97FF",
           "#FECB52"
          ],
          "font": {
           "color": "#2a3f5f"
          },
          "geo": {
           "bgcolor": "white",
           "lakecolor": "white",
           "landcolor": "#E5ECF6",
           "showlakes": true,
           "showland": true,
           "subunitcolor": "white"
          },
          "hoverlabel": {
           "align": "left"
          },
          "hovermode": "closest",
          "mapbox": {
           "style": "light"
          },
          "paper_bgcolor": "white",
          "plot_bgcolor": "#E5ECF6",
          "polar": {
           "angularaxis": {
            "gridcolor": "white",
            "linecolor": "white",
            "ticks": ""
           },
           "bgcolor": "#E5ECF6",
           "radialaxis": {
            "gridcolor": "white",
            "linecolor": "white",
            "ticks": ""
           }
          },
          "scene": {
           "xaxis": {
            "backgroundcolor": "#E5ECF6",
            "gridcolor": "white",
            "gridwidth": 2,
            "linecolor": "white",
            "showbackground": true,
            "ticks": "",
            "zerolinecolor": "white"
           },
           "yaxis": {
            "backgroundcolor": "#E5ECF6",
            "gridcolor": "white",
            "gridwidth": 2,
            "linecolor": "white",
            "showbackground": true,
            "ticks": "",
            "zerolinecolor": "white"
           },
           "zaxis": {
            "backgroundcolor": "#E5ECF6",
            "gridcolor": "white",
            "gridwidth": 2,
            "linecolor": "white",
            "showbackground": true,
            "ticks": "",
            "zerolinecolor": "white"
           }
          },
          "shapedefaults": {
           "line": {
            "color": "#2a3f5f"
           }
          },
          "ternary": {
           "aaxis": {
            "gridcolor": "white",
            "linecolor": "white",
            "ticks": ""
           },
           "baxis": {
            "gridcolor": "white",
            "linecolor": "white",
            "ticks": ""
           },
           "bgcolor": "#E5ECF6",
           "caxis": {
            "gridcolor": "white",
            "linecolor": "white",
            "ticks": ""
           }
          },
          "title": {
           "x": 0.05
          },
          "xaxis": {
           "automargin": true,
           "gridcolor": "white",
           "linecolor": "white",
           "ticks": "",
           "title": {
            "standoff": 15
           },
           "zerolinecolor": "white",
           "zerolinewidth": 2
          },
          "yaxis": {
           "automargin": true,
           "gridcolor": "white",
           "linecolor": "white",
           "ticks": "",
           "title": {
            "standoff": 15
           },
           "zerolinecolor": "white",
           "zerolinewidth": 2
          }
         }
        },
        "title": {
         "text": "Countries sorted by Socio-Economic Vulnerability in comparison to Natural Risk"
        }
       }
      }
     },
     "metadata": {},
     "output_type": "display_data"
    }
   ],
   "source": [
    "fig = px.choropleth(world_disaster, locations=\"ISO3\",\n",
    "                    color=\"Socio-Economic Vulnerability\",\n",
    "                    hover_name=\"COUNTRY\",\n",
    "                    animation_frame=\"Natural\",\n",
    "                    title = \"Countries sorted by Socio-Economic Vulnerability in comparison to Natural Risk\",                 color_continuous_scale=px.colors.sequential.PuRd)\n",
    " \n",
    " \n",
    "fig[\"layout\"].pop(\"updatemenus\")\n",
    "fig.show()"
   ]
  },
  {
   "cell_type": "code",
   "execution_count": 10,
   "metadata": {},
   "outputs": [
    {
     "data": {
      "application/vnd.plotly.v1+json": {
       "config": {
        "plotlyServerURL": "https://plot.ly"
       },
       "data": [
        {
         "coloraxis": "coloraxis",
         "geo": "geo",
         "hovertemplate": "<b>%{hovertext}</b><br><br>Human=10.0<br>ISO3=%{location}<br>Socio-Economic Vulnerability=%{z}<extra></extra>",
         "hovertext": [
          "Somalia",
          "Afghanistan",
          "Syria",
          "Iraq"
         ],
         "locations": [
          "SOM",
          "AFG",
          "SYR",
          "IRQ"
         ],
         "name": "",
         "type": "choropleth",
         "z": [
          7.5,
          8.8,
          6.4,
          6.1
         ]
        }
       ],
       "frames": [
        {
         "data": [
          {
           "coloraxis": "coloraxis",
           "geo": "geo",
           "hovertemplate": "<b>%{hovertext}</b><br><br>Human=10.0<br>ISO3=%{location}<br>Socio-Economic Vulnerability=%{z}<extra></extra>",
           "hovertext": [
            "Somalia",
            "Afghanistan",
            "Syria",
            "Iraq"
           ],
           "locations": [
            "SOM",
            "AFG",
            "SYR",
            "IRQ"
           ],
           "name": "",
           "type": "choropleth",
           "z": [
            7.5,
            8.8,
            6.4,
            6.1
           ]
          }
         ],
         "name": "10.0"
        },
        {
         "data": [
          {
           "coloraxis": "coloraxis",
           "geo": "geo",
           "hovertemplate": "<b>%{hovertext}</b><br><br>Human=9.0<br>ISO3=%{location}<br>Socio-Economic Vulnerability=%{z}<extra></extra>",
           "hovertext": [
            "Sudan",
            "South Sudan",
            "Nigeria"
           ],
           "locations": [
            "SDN",
            "SSD",
            "NGA"
           ],
           "name": "",
           "type": "choropleth",
           "z": [
            7,
            6.6,
            6
           ]
          }
         ],
         "name": "9.0"
        },
        {
         "data": [
          {
           "coloraxis": "coloraxis",
           "geo": "geo",
           "hovertemplate": "<b>%{hovertext}</b><br><br>Human=7.0<br>ISO3=%{location}<br>Socio-Economic Vulnerability=%{z}<extra></extra>",
           "hovertext": [
            "Myanmar",
            "Kenya",
            "Philippines",
            "India",
            "Egypt"
           ],
           "locations": [
            "MMR",
            "KEN",
            "PHL",
            "IND",
            "EGY"
           ],
           "name": "",
           "type": "choropleth",
           "z": [
            6.7,
            7.8,
            5.6,
            5.9,
            5.8
           ]
          }
         ],
         "name": "7.0"
        },
        {
         "data": [
          {
           "coloraxis": "coloraxis",
           "geo": "geo",
           "hovertemplate": "<b>%{hovertext}</b><br><br>Human=3.6<br>ISO3=%{location}<br>Socio-Economic Vulnerability=%{z}<extra></extra>",
           "hovertext": [
            "Haiti"
           ],
           "locations": [
            "HTI"
           ],
           "name": "",
           "type": "choropleth",
           "z": [
            9
           ]
          }
         ],
         "name": "3.6"
        },
        {
         "data": [
          {
           "coloraxis": "coloraxis",
           "geo": "geo",
           "hovertemplate": "<b>%{hovertext}</b><br><br>Human=8.0<br>ISO3=%{location}<br>Socio-Economic Vulnerability=%{z}<extra></extra>",
           "hovertext": [
            "Pakistan",
            "Libya",
            "Algeria"
           ],
           "locations": [
            "PAK",
            "LBY",
            "DZA"
           ],
           "name": "",
           "type": "choropleth",
           "z": [
            6.3,
            6.6,
            7.4
           ]
          }
         ],
         "name": "8.0"
        },
        {
         "data": [
          {
           "coloraxis": "coloraxis",
           "geo": "geo",
           "hovertemplate": "<b>%{hovertext}</b><br><br>Human=4.6<br>ISO3=%{location}<br>Socio-Economic Vulnerability=%{z}<extra></extra>",
           "hovertext": [
            "Burundi"
           ],
           "locations": [
            "BDI"
           ],
           "name": "",
           "type": "choropleth",
           "z": [
            7.8
           ]
          }
         ],
         "name": "4.6"
        },
        {
         "data": [
          {
           "coloraxis": "coloraxis",
           "geo": "geo",
           "hovertemplate": "<b>%{hovertext}</b><br><br>Human=6.1<br>ISO3=%{location}<br>Socio-Economic Vulnerability=%{z}<extra></extra>",
           "hovertext": [
            "Bangladesh"
           ],
           "locations": [
            "BGD"
           ],
           "name": "",
           "type": "choropleth",
           "z": [
            5.4
           ]
          }
         ],
         "name": "6.1"
        },
        {
         "data": [
          {
           "coloraxis": "coloraxis",
           "geo": "geo",
           "hovertemplate": "<b>%{hovertext}</b><br><br>Human=3.9<br>ISO3=%{location}<br>Socio-Economic Vulnerability=%{z}<extra></extra>",
           "hovertext": [
            "Tanzania",
            "Peru"
           ],
           "locations": [
            "TZA",
            "PER"
           ],
           "name": "",
           "type": "choropleth",
           "z": [
            7.7,
            5.4
           ]
          }
         ],
         "name": "3.9"
        },
        {
         "data": [
          {
           "coloraxis": "coloraxis",
           "geo": "geo",
           "hovertemplate": "<b>%{hovertext}</b><br><br>Human=2.3<br>ISO3=%{location}<br>Socio-Economic Vulnerability=%{z}<extra></extra>",
           "hovertext": [
            "Mauritania",
            "France"
           ],
           "locations": [
            "MRT",
            "FRA"
           ],
           "name": "",
           "type": "choropleth",
           "z": [
            8.3,
            1.6
           ]
          }
         ],
         "name": "2.3"
        },
        {
         "data": [
          {
           "coloraxis": "coloraxis",
           "geo": "geo",
           "hovertemplate": "<b>%{hovertext}</b><br><br>Human=3.8<br>ISO3=%{location}<br>Socio-Economic Vulnerability=%{z}<extra></extra>",
           "hovertext": [
            "Nepal"
           ],
           "locations": [
            "NPL"
           ],
           "name": "",
           "type": "choropleth",
           "z": [
            6.2
           ]
          }
         ],
         "name": "3.8"
        },
        {
         "data": [
          {
           "coloraxis": "coloraxis",
           "geo": "geo",
           "hovertemplate": "<b>%{hovertext}</b><br><br>Human=4.5<br>ISO3=%{location}<br>Socio-Economic Vulnerability=%{z}<extra></extra>",
           "hovertext": [
            "Zimbabwe"
           ],
           "locations": [
            "ZWE"
           ],
           "name": "",
           "type": "choropleth",
           "z": [
            6.9
           ]
          }
         ],
         "name": "4.5"
        },
        {
         "data": [
          {
           "coloraxis": "coloraxis",
           "geo": "geo",
           "hovertemplate": "<b>%{hovertext}</b><br><br>Human=3.7<br>ISO3=%{location}<br>Socio-Economic Vulnerability=%{z}<extra></extra>",
           "hovertext": [
            "Guatemala"
           ],
           "locations": [
            "GTM"
           ],
           "name": "",
           "type": "choropleth",
           "z": [
            6.8
           ]
          }
         ],
         "name": "3.7"
        },
        {
         "data": [
          {
           "coloraxis": "coloraxis",
           "geo": "geo",
           "hovertemplate": "<b>%{hovertext}</b><br><br>Human=1.7<br>ISO3=%{location}<br>Socio-Economic Vulnerability=%{z}<extra></extra>",
           "hovertext": [
            "Papua New Guinea",
            "Dominican Republic",
            "Cameroon",
            "Gabon"
           ],
           "locations": [
            "PNG",
            "DOM",
            "CMR",
            "GAB"
           ],
           "name": "",
           "type": "choropleth",
           "z": [
            7.9,
            6,
            6.8,
            6.3
           ]
          }
         ],
         "name": "1.7"
        },
        {
         "data": [
          {
           "coloraxis": "coloraxis",
           "geo": "geo",
           "hovertemplate": "<b>%{hovertext}</b><br><br>Human=4.0<br>ISO3=%{location}<br>Socio-Economic Vulnerability=%{z}<extra></extra>",
           "hovertext": [
            "Senegal"
           ],
           "locations": [
            "SEN"
           ],
           "name": "",
           "type": "choropleth",
           "z": [
            7.6
           ]
          }
         ],
         "name": "4.0"
        },
        {
         "data": [
          {
           "coloraxis": "coloraxis",
           "geo": "geo",
           "hovertemplate": "<b>%{hovertext}</b><br><br>Human=5.2<br>ISO3=%{location}<br>Socio-Economic Vulnerability=%{z}<extra></extra>",
           "hovertext": [
            "Iran",
            "Sri Lanka"
           ],
           "locations": [
            "IRN",
            "LKA"
           ],
           "name": "",
           "type": "choropleth",
           "z": [
            4.6,
            5.5
           ]
          }
         ],
         "name": "5.2"
        },
        {
         "data": [
          {
           "coloraxis": "coloraxis",
           "geo": "geo",
           "hovertemplate": "<b>%{hovertext}</b><br><br>Human=0.9<br>ISO3=%{location}<br>Socio-Economic Vulnerability=%{z}<extra></extra>",
           "hovertext": [
            "Madagascar",
            "Liberia",
            "Chile"
           ],
           "locations": [
            "MDG",
            "LBR",
            "CHL"
           ],
           "name": "",
           "type": "choropleth",
           "z": [
            5.8,
            8.5,
            3.4
           ]
          }
         ],
         "name": "0.9"
        },
        {
         "data": [
          {
           "coloraxis": "coloraxis",
           "geo": "geo",
           "hovertemplate": "<b>%{hovertext}</b><br><br>Human=1.6<br>ISO3=%{location}<br>Socio-Economic Vulnerability=%{z}<extra></extra>",
           "hovertext": [
            "Laos",
            "Eritrea",
            "Jordan"
           ],
           "locations": [
            "LAO",
            "ERI",
            "JOR"
           ],
           "name": "",
           "type": "choropleth",
           "z": [
            7.2,
            6.5,
            6.9
           ]
          }
         ],
         "name": "1.6"
        },
        {
         "data": [
          {
           "coloraxis": "coloraxis",
           "geo": "geo",
           "hovertemplate": "<b>%{hovertext}</b><br><br>Human=2.2<br>ISO3=%{location}<br>Socio-Economic Vulnerability=%{z}<extra></extra>",
           "hovertext": [
            "Honduras",
            "Bolivia",
            "Morocco",
            "Tunisia",
            "Panama",
            "Slovakia"
           ],
           "locations": [
            "HND",
            "BOL",
            "MAR",
            "TUN",
            "PAN",
            "SVK"
           ],
           "name": "",
           "type": "choropleth",
           "z": [
            7.1,
            5.9,
            6.4,
            6.3,
            4,
            1.2
           ]
          }
         ],
         "name": "2.2"
        },
        {
         "data": [
          {
           "coloraxis": "coloraxis",
           "geo": "geo",
           "hovertemplate": "<b>%{hovertext}</b><br><br>Human=1.1<br>ISO3=%{location}<br>Socio-Economic Vulnerability=%{z}<extra></extra>",
           "hovertext": [
            "Benin",
            "Lesotho"
           ],
           "locations": [
            "BEN",
            "LSO"
           ],
           "name": "",
           "type": "choropleth",
           "z": [
            7.3,
            8
           ]
          }
         ],
         "name": "1.1"
        },
        {
         "data": [
          {
           "coloraxis": "coloraxis",
           "geo": "geo",
           "hovertemplate": "<b>%{hovertext}</b><br><br>Human=2.0<br>ISO3=%{location}<br>Socio-Economic Vulnerability=%{z}<extra></extra>",
           "hovertext": [
            "Nicaragua",
            "Zambia",
            "Spain"
           ],
           "locations": [
            "NIC",
            "ZMB",
            "ESP"
           ],
           "name": "",
           "type": "choropleth",
           "z": [
            6.9,
            7.4,
            2.8
           ]
          }
         ],
         "name": "2.0"
        },
        {
         "data": [
          {
           "coloraxis": "coloraxis",
           "geo": "geo",
           "hovertemplate": "<b>%{hovertext}</b><br><br>Human=0.0<br>ISO3=%{location}<br>Socio-Economic Vulnerability=%{z}<extra></extra>",
           "hovertext": [
            "Vanuatu",
            "Fiji",
            "Guyana",
            "Samoa",
            "Belize",
            "Saint Kitts and Nevis",
            "Tonga",
            "Cape Verde",
            "Federated States of Micronesia",
            "Seychelles",
            "Saint Lucia",
            "Kiribati",
            "Antigua and Barbuda",
            "Palau",
            "Montenegro",
            "United Arab Emirates",
            "Grenada",
            "New Zealand",
            "Dominica",
            "Suriname",
            "Barbados",
            "Saint Vincent and the Grenadines",
            "Uruguay",
            "Bahamas",
            "Slovenia",
            "Ireland",
            "Latvia",
            "Iceland",
            "Brunei",
            "Denmark",
            "Luxembourg",
            "Sweden",
            "São Tomé and Príncipe",
            "Finland",
            "Malta"
           ],
           "locations": [
            "VUT",
            "FJI",
            "GUY",
            "WSM",
            "BLZ",
            "KNA",
            "TON",
            "CPV",
            "FSM",
            "SYC",
            "LCA",
            "KIR",
            "ATG",
            "PLW",
            "MNE",
            "ARE",
            "GRD",
            "NZL",
            "DMA",
            "SUR",
            "BRB",
            "VCT",
            "URY",
            "BHS",
            "SVN",
            "IRL",
            "LVA",
            "ISL",
            "BRN",
            "DNK",
            "LUX",
            "SWE",
            "STP",
            "FIN",
            "MLT"
           ],
           "name": "",
           "type": "choropleth",
           "z": [
            6.6,
            5.6,
            6.5,
            7.8,
            3.3,
            3.9,
            6.1,
            6.8,
            8.1,
            5,
            3.5,
            6.5,
            2.4,
            5.2,
            3.9,
            4.8,
            2.8,
            1.8,
            4.3,
            3.2,
            2.4,
            3.3,
            3.1,
            1,
            1.4,
            2,
            1.9,
            1.4,
            4,
            1.3,
            1.5,
            1,
            6.5,
            1.7,
            4
           ]
          }
         ],
         "name": "0.0"
        },
        {
         "data": [
          {
           "coloraxis": "coloraxis",
           "geo": "geo",
           "hovertemplate": "<b>%{hovertext}</b><br><br>Human=4.2<br>ISO3=%{location}<br>Socio-Economic Vulnerability=%{z}<extra></extra>",
           "hovertext": [
            "Venezuela"
           ],
           "locations": [
            "VEN"
           ],
           "name": "",
           "type": "choropleth",
           "z": [
            5.7
           ]
          }
         ],
         "name": "4.2"
        },
        {
         "data": [
          {
           "coloraxis": "coloraxis",
           "geo": "geo",
           "hovertemplate": "<b>%{hovertext}</b><br><br>Human=2.9<br>ISO3=%{location}<br>Socio-Economic Vulnerability=%{z}<extra></extra>",
           "hovertext": [
            "Togo"
           ],
           "locations": [
            "TGO"
           ],
           "name": "",
           "type": "choropleth",
           "z": [
            7.3
           ]
          }
         ],
         "name": "2.9"
        },
        {
         "data": [
          {
           "coloraxis": "coloraxis",
           "geo": "geo",
           "hovertemplate": "<b>%{hovertext}</b><br><br>Human=2.6<br>ISO3=%{location}<br>Socio-Economic Vulnerability=%{z}<extra></extra>",
           "hovertext": [
            "Sierra Leone"
           ],
           "locations": [
            "SLE"
           ],
           "name": "",
           "type": "choropleth",
           "z": [
            7.8
           ]
          }
         ],
         "name": "2.6"
        },
        {
         "data": [
          {
           "coloraxis": "coloraxis",
           "geo": "geo",
           "hovertemplate": "<b>%{hovertext}</b><br><br>Human=0.4<br>ISO3=%{location}<br>Socio-Economic Vulnerability=%{z}<extra></extra>",
           "hovertext": [
            "Malawi"
           ],
           "locations": [
            "MWI"
           ],
           "name": "",
           "type": "choropleth",
           "z": [
            8.3
           ]
          }
         ],
         "name": "0.4"
        },
        {
         "data": [
          {
           "coloraxis": "coloraxis",
           "geo": "geo",
           "hovertemplate": "<b>%{hovertext}</b><br><br>Human=2.5<br>ISO3=%{location}<br>Socio-Economic Vulnerability=%{z}<extra></extra>",
           "hovertext": [
            "Eswatini"
           ],
           "locations": [
            "SWZ"
           ],
           "name": "",
           "type": "choropleth",
           "z": [
            7.3
           ]
          }
         ],
         "name": "2.5"
        },
        {
         "data": [
          {
           "coloraxis": "coloraxis",
           "geo": "geo",
           "hovertemplate": "<b>%{hovertext}</b><br><br>Human=4.9<br>ISO3=%{location}<br>Socio-Economic Vulnerability=%{z}<extra></extra>",
           "hovertext": [
            "Angola"
           ],
           "locations": [
            "AGO"
           ],
           "name": "",
           "type": "choropleth",
           "z": [
            3.5
           ]
          }
         ],
         "name": "4.9"
        },
        {
         "data": [
          {
           "coloraxis": "coloraxis",
           "geo": "geo",
           "hovertemplate": "<b>%{hovertext}</b><br><br>Human=5.5<br>ISO3=%{location}<br>Socio-Economic Vulnerability=%{z}<extra></extra>",
           "hovertext": [
            "Turkey"
           ],
           "locations": [
            "TUR"
           ],
           "name": "",
           "type": "choropleth",
           "z": [
            4.3
           ]
          }
         ],
         "name": "5.5"
        },
        {
         "data": [
          {
           "coloraxis": "coloraxis",
           "geo": "geo",
           "hovertemplate": "<b>%{hovertext}</b><br><br>Human=0.7<br>ISO3=%{location}<br>Socio-Economic Vulnerability=%{z}<extra></extra>",
           "hovertext": [
            "Ecuador",
            "Canada"
           ],
           "locations": [
            "ECU",
            "CAN"
           ],
           "name": "",
           "type": "choropleth",
           "z": [
            5,
            1.2
           ]
          }
         ],
         "name": "0.7"
        },
        {
         "data": [
          {
           "coloraxis": "coloraxis",
           "geo": "geo",
           "hovertemplate": "<b>%{hovertext}</b><br><br>Human=1.0<br>ISO3=%{location}<br>Socio-Economic Vulnerability=%{z}<extra></extra>",
           "hovertext": [
            "El Salvador",
            "Namibia"
           ],
           "locations": [
            "SLV",
            "NAM"
           ],
           "name": "",
           "type": "choropleth",
           "z": [
            6.1,
            6.7
           ]
          }
         ],
         "name": "1.0"
        },
        {
         "data": [
          {
           "coloraxis": "coloraxis",
           "geo": "geo",
           "hovertemplate": "<b>%{hovertext}</b><br><br>Human=1.9<br>ISO3=%{location}<br>Socio-Economic Vulnerability=%{z}<extra></extra>",
           "hovertext": [
            "Burkina Faso"
           ],
           "locations": [
            "BFA"
           ],
           "name": "",
           "type": "choropleth",
           "z": [
            6.1
           ]
          }
         ],
         "name": "1.9"
        },
        {
         "data": [
          {
           "coloraxis": "coloraxis",
           "geo": "geo",
           "hovertemplate": "<b>%{hovertext}</b><br><br>Human=0.5<br>ISO3=%{location}<br>Socio-Economic Vulnerability=%{z}<extra></extra>",
           "hovertext": [
            "Timor-Leste"
           ],
           "locations": [
            "TLS"
           ],
           "name": "",
           "type": "choropleth",
           "z": [
            4.1
           ]
          }
         ],
         "name": "0.5"
        },
        {
         "data": [
          {
           "coloraxis": "coloraxis",
           "geo": "geo",
           "hovertemplate": "<b>%{hovertext}</b><br><br>Human=3.1<br>ISO3=%{location}<br>Socio-Economic Vulnerability=%{z}<extra></extra>",
           "hovertext": [
            "Lebanon"
           ],
           "locations": [
            "LBN"
           ],
           "name": "",
           "type": "choropleth",
           "z": [
            3.7
           ]
          }
         ],
         "name": "3.1"
        },
        {
         "data": [
          {
           "coloraxis": "coloraxis",
           "geo": "geo",
           "hovertemplate": "<b>%{hovertext}</b><br><br>Human=5.0<br>ISO3=%{location}<br>Socio-Economic Vulnerability=%{z}<extra></extra>",
           "hovertext": [
            "South Africa"
           ],
           "locations": [
            "ZAF"
           ],
           "name": "",
           "type": "choropleth",
           "z": [
            4.5
           ]
          }
         ],
         "name": "5.0"
        },
        {
         "data": [
          {
           "coloraxis": "coloraxis",
           "geo": "geo",
           "hovertemplate": "<b>%{hovertext}</b><br><br>Human=6.0<br>ISO3=%{location}<br>Socio-Economic Vulnerability=%{z}<extra></extra>",
           "hovertext": [
            "Brazil"
           ],
           "locations": [
            "BRA"
           ],
           "name": "",
           "type": "choropleth",
           "z": [
            4.1
           ]
          }
         ],
         "name": "6.0"
        },
        {
         "data": [
          {
           "coloraxis": "coloraxis",
           "geo": "geo",
           "hovertemplate": "<b>%{hovertext}</b><br><br>Human=0.1<br>ISO3=%{location}<br>Socio-Economic Vulnerability=%{z}<extra></extra>",
           "hovertext": [
            "Bhutan",
            "Comoros",
            "Bosnia and Herzegovina",
            "Albania",
            "Costa Rica",
            "Australia",
            "Equatorial Guinea",
            "Cyprus",
            "Lithuania",
            "Switzerland",
            "Belgium",
            "Estonia",
            "Netherlands"
           ],
           "locations": [
            "BTN",
            "COM",
            "BIH",
            "ALB",
            "CRI",
            "AUS",
            "GNQ",
            "CYP",
            "LTU",
            "CHE",
            "BEL",
            "EST",
            "NLD"
           ],
           "name": "",
           "type": "choropleth",
           "z": [
            5,
            7.8,
            3.8,
            4,
            4.6,
            3.1,
            1.8,
            3,
            2.7,
            1.3,
            2.1,
            1.5,
            1.1
           ]
          }
         ],
         "name": "0.1"
        },
        {
         "data": [
          {
           "coloraxis": "coloraxis",
           "geo": "geo",
           "hovertemplate": "<b>%{hovertext}</b><br><br>Human=3.4<br>ISO3=%{location}<br>Socio-Economic Vulnerability=%{z}<extra></extra>",
           "hovertext": [
            "Saudi Arabia"
           ],
           "locations": [
            "SAU"
           ],
           "name": "",
           "type": "choropleth",
           "z": [
            6
           ]
          }
         ],
         "name": "3.4"
        },
        {
         "data": [
          {
           "coloraxis": "coloraxis",
           "geo": "geo",
           "hovertemplate": "<b>%{hovertext}</b><br><br>Human=1.3<br>ISO3=%{location}<br>Socio-Economic Vulnerability=%{z}<extra></extra>",
           "hovertext": [
            "Jamaica",
            "Bulgaria"
           ],
           "locations": [
            "JAM",
            "BGR"
           ],
           "name": "",
           "type": "choropleth",
           "z": [
            4.2,
            2.2
           ]
          }
         ],
         "name": "1.3"
        },
        {
         "data": [
          {
           "coloraxis": "coloraxis",
           "geo": "geo",
           "hovertemplate": "<b>%{hovertext}</b><br><br>Human=1.2<br>ISO3=%{location}<br>Socio-Economic Vulnerability=%{z}<extra></extra>",
           "hovertext": [
            "Ghana",
            "Poland",
            "Oman"
           ],
           "locations": [
            "GHA",
            "POL",
            "OMN"
           ],
           "name": "",
           "type": "choropleth",
           "z": [
            6.6,
            2.1,
            1.1
           ]
          }
         ],
         "name": "1.2"
        },
        {
         "data": [
          {
           "coloraxis": "coloraxis",
           "geo": "geo",
           "hovertemplate": "<b>%{hovertext}</b><br><br>Human=2.4<br>ISO3=%{location}<br>Socio-Economic Vulnerability=%{z}<extra></extra>",
           "hovertext": [
            "Kuwait"
           ],
           "locations": [
            "KWT"
           ],
           "name": "",
           "type": "choropleth",
           "z": [
            4.7
           ]
          }
         ],
         "name": "2.4"
        },
        {
         "data": [
          {
           "coloraxis": "coloraxis",
           "geo": "geo",
           "hovertemplate": "<b>%{hovertext}</b><br><br>Human=2.8<br>ISO3=%{location}<br>Socio-Economic Vulnerability=%{z}<extra></extra>",
           "hovertext": [
            "Greece",
            "Italy"
           ],
           "locations": [
            "GRC",
            "ITA"
           ],
           "name": "",
           "type": "choropleth",
           "z": [
            2.8,
            2.7
           ]
          }
         ],
         "name": "2.8"
        },
        {
         "data": [
          {
           "coloraxis": "coloraxis",
           "geo": "geo",
           "hovertemplate": "<b>%{hovertext}</b><br><br>Human=3.2<br>ISO3=%{location}<br>Socio-Economic Vulnerability=%{z}<extra></extra>",
           "hovertext": [
            "Israel"
           ],
           "locations": [
            "ISR"
           ],
           "name": "",
           "type": "choropleth",
           "z": [
            2.8
           ]
          }
         ],
         "name": "3.2"
        },
        {
         "data": [
          {
           "coloraxis": "coloraxis",
           "geo": "geo",
           "hovertemplate": "<b>%{hovertext}</b><br><br>Human=0.6<br>ISO3=%{location}<br>Socio-Economic Vulnerability=%{z}<extra></extra>",
           "hovertext": [
            "Bahrain"
           ],
           "locations": [
            "BHR"
           ],
           "name": "",
           "type": "choropleth",
           "z": [
            5.9
           ]
          }
         ],
         "name": "0.6"
        },
        {
         "data": [
          {
           "coloraxis": "coloraxis",
           "geo": "geo",
           "hovertemplate": "<b>%{hovertext}</b><br><br>Human=3.5<br>ISO3=%{location}<br>Socio-Economic Vulnerability=%{z}<extra></extra>",
           "hovertext": [
            "United Kingdom"
           ],
           "locations": [
            "GBR"
           ],
           "name": "",
           "type": "choropleth",
           "z": [
            1.6
           ]
          }
         ],
         "name": "3.5"
        }
       ],
       "layout": {
        "coloraxis": {
         "colorbar": {
          "title": {
           "text": "Socio-Economic Vulnerability"
          }
         },
         "colorscale": [
          [
           0,
           "rgb(247,244,249)"
          ],
          [
           0.125,
           "rgb(231,225,239)"
          ],
          [
           0.25,
           "rgb(212,185,218)"
          ],
          [
           0.375,
           "rgb(201,148,199)"
          ],
          [
           0.5,
           "rgb(223,101,176)"
          ],
          [
           0.625,
           "rgb(231,41,138)"
          ],
          [
           0.75,
           "rgb(206,18,86)"
          ],
          [
           0.875,
           "rgb(152,0,67)"
          ],
          [
           1,
           "rgb(103,0,31)"
          ]
         ]
        },
        "geo": {
         "center": {},
         "domain": {
          "x": [
           0,
           1
          ],
          "y": [
           0,
           1
          ]
         }
        },
        "legend": {
         "tracegroupgap": 0
        },
        "sliders": [
         {
          "active": 0,
          "currentvalue": {
           "prefix": "Human="
          },
          "len": 0.9,
          "pad": {
           "b": 10,
           "t": 60
          },
          "steps": [
           {
            "args": [
             [
              "10.0"
             ],
             {
              "frame": {
               "duration": 0,
               "redraw": true
              },
              "fromcurrent": true,
              "mode": "immediate",
              "transition": {
               "duration": 0,
               "easing": "linear"
              }
             }
            ],
            "label": "10.0",
            "method": "animate"
           },
           {
            "args": [
             [
              "9.0"
             ],
             {
              "frame": {
               "duration": 0,
               "redraw": true
              },
              "fromcurrent": true,
              "mode": "immediate",
              "transition": {
               "duration": 0,
               "easing": "linear"
              }
             }
            ],
            "label": "9.0",
            "method": "animate"
           },
           {
            "args": [
             [
              "7.0"
             ],
             {
              "frame": {
               "duration": 0,
               "redraw": true
              },
              "fromcurrent": true,
              "mode": "immediate",
              "transition": {
               "duration": 0,
               "easing": "linear"
              }
             }
            ],
            "label": "7.0",
            "method": "animate"
           },
           {
            "args": [
             [
              "3.6"
             ],
             {
              "frame": {
               "duration": 0,
               "redraw": true
              },
              "fromcurrent": true,
              "mode": "immediate",
              "transition": {
               "duration": 0,
               "easing": "linear"
              }
             }
            ],
            "label": "3.6",
            "method": "animate"
           },
           {
            "args": [
             [
              "8.0"
             ],
             {
              "frame": {
               "duration": 0,
               "redraw": true
              },
              "fromcurrent": true,
              "mode": "immediate",
              "transition": {
               "duration": 0,
               "easing": "linear"
              }
             }
            ],
            "label": "8.0",
            "method": "animate"
           },
           {
            "args": [
             [
              "4.6"
             ],
             {
              "frame": {
               "duration": 0,
               "redraw": true
              },
              "fromcurrent": true,
              "mode": "immediate",
              "transition": {
               "duration": 0,
               "easing": "linear"
              }
             }
            ],
            "label": "4.6",
            "method": "animate"
           },
           {
            "args": [
             [
              "6.1"
             ],
             {
              "frame": {
               "duration": 0,
               "redraw": true
              },
              "fromcurrent": true,
              "mode": "immediate",
              "transition": {
               "duration": 0,
               "easing": "linear"
              }
             }
            ],
            "label": "6.1",
            "method": "animate"
           },
           {
            "args": [
             [
              "3.9"
             ],
             {
              "frame": {
               "duration": 0,
               "redraw": true
              },
              "fromcurrent": true,
              "mode": "immediate",
              "transition": {
               "duration": 0,
               "easing": "linear"
              }
             }
            ],
            "label": "3.9",
            "method": "animate"
           },
           {
            "args": [
             [
              "2.3"
             ],
             {
              "frame": {
               "duration": 0,
               "redraw": true
              },
              "fromcurrent": true,
              "mode": "immediate",
              "transition": {
               "duration": 0,
               "easing": "linear"
              }
             }
            ],
            "label": "2.3",
            "method": "animate"
           },
           {
            "args": [
             [
              "3.8"
             ],
             {
              "frame": {
               "duration": 0,
               "redraw": true
              },
              "fromcurrent": true,
              "mode": "immediate",
              "transition": {
               "duration": 0,
               "easing": "linear"
              }
             }
            ],
            "label": "3.8",
            "method": "animate"
           },
           {
            "args": [
             [
              "4.5"
             ],
             {
              "frame": {
               "duration": 0,
               "redraw": true
              },
              "fromcurrent": true,
              "mode": "immediate",
              "transition": {
               "duration": 0,
               "easing": "linear"
              }
             }
            ],
            "label": "4.5",
            "method": "animate"
           },
           {
            "args": [
             [
              "3.7"
             ],
             {
              "frame": {
               "duration": 0,
               "redraw": true
              },
              "fromcurrent": true,
              "mode": "immediate",
              "transition": {
               "duration": 0,
               "easing": "linear"
              }
             }
            ],
            "label": "3.7",
            "method": "animate"
           },
           {
            "args": [
             [
              "1.7"
             ],
             {
              "frame": {
               "duration": 0,
               "redraw": true
              },
              "fromcurrent": true,
              "mode": "immediate",
              "transition": {
               "duration": 0,
               "easing": "linear"
              }
             }
            ],
            "label": "1.7",
            "method": "animate"
           },
           {
            "args": [
             [
              "4.0"
             ],
             {
              "frame": {
               "duration": 0,
               "redraw": true
              },
              "fromcurrent": true,
              "mode": "immediate",
              "transition": {
               "duration": 0,
               "easing": "linear"
              }
             }
            ],
            "label": "4.0",
            "method": "animate"
           },
           {
            "args": [
             [
              "5.2"
             ],
             {
              "frame": {
               "duration": 0,
               "redraw": true
              },
              "fromcurrent": true,
              "mode": "immediate",
              "transition": {
               "duration": 0,
               "easing": "linear"
              }
             }
            ],
            "label": "5.2",
            "method": "animate"
           },
           {
            "args": [
             [
              "0.9"
             ],
             {
              "frame": {
               "duration": 0,
               "redraw": true
              },
              "fromcurrent": true,
              "mode": "immediate",
              "transition": {
               "duration": 0,
               "easing": "linear"
              }
             }
            ],
            "label": "0.9",
            "method": "animate"
           },
           {
            "args": [
             [
              "1.6"
             ],
             {
              "frame": {
               "duration": 0,
               "redraw": true
              },
              "fromcurrent": true,
              "mode": "immediate",
              "transition": {
               "duration": 0,
               "easing": "linear"
              }
             }
            ],
            "label": "1.6",
            "method": "animate"
           },
           {
            "args": [
             [
              "2.2"
             ],
             {
              "frame": {
               "duration": 0,
               "redraw": true
              },
              "fromcurrent": true,
              "mode": "immediate",
              "transition": {
               "duration": 0,
               "easing": "linear"
              }
             }
            ],
            "label": "2.2",
            "method": "animate"
           },
           {
            "args": [
             [
              "1.1"
             ],
             {
              "frame": {
               "duration": 0,
               "redraw": true
              },
              "fromcurrent": true,
              "mode": "immediate",
              "transition": {
               "duration": 0,
               "easing": "linear"
              }
             }
            ],
            "label": "1.1",
            "method": "animate"
           },
           {
            "args": [
             [
              "2.0"
             ],
             {
              "frame": {
               "duration": 0,
               "redraw": true
              },
              "fromcurrent": true,
              "mode": "immediate",
              "transition": {
               "duration": 0,
               "easing": "linear"
              }
             }
            ],
            "label": "2.0",
            "method": "animate"
           },
           {
            "args": [
             [
              "0.0"
             ],
             {
              "frame": {
               "duration": 0,
               "redraw": true
              },
              "fromcurrent": true,
              "mode": "immediate",
              "transition": {
               "duration": 0,
               "easing": "linear"
              }
             }
            ],
            "label": "0.0",
            "method": "animate"
           },
           {
            "args": [
             [
              "4.2"
             ],
             {
              "frame": {
               "duration": 0,
               "redraw": true
              },
              "fromcurrent": true,
              "mode": "immediate",
              "transition": {
               "duration": 0,
               "easing": "linear"
              }
             }
            ],
            "label": "4.2",
            "method": "animate"
           },
           {
            "args": [
             [
              "2.9"
             ],
             {
              "frame": {
               "duration": 0,
               "redraw": true
              },
              "fromcurrent": true,
              "mode": "immediate",
              "transition": {
               "duration": 0,
               "easing": "linear"
              }
             }
            ],
            "label": "2.9",
            "method": "animate"
           },
           {
            "args": [
             [
              "2.6"
             ],
             {
              "frame": {
               "duration": 0,
               "redraw": true
              },
              "fromcurrent": true,
              "mode": "immediate",
              "transition": {
               "duration": 0,
               "easing": "linear"
              }
             }
            ],
            "label": "2.6",
            "method": "animate"
           },
           {
            "args": [
             [
              "0.4"
             ],
             {
              "frame": {
               "duration": 0,
               "redraw": true
              },
              "fromcurrent": true,
              "mode": "immediate",
              "transition": {
               "duration": 0,
               "easing": "linear"
              }
             }
            ],
            "label": "0.4",
            "method": "animate"
           },
           {
            "args": [
             [
              "2.5"
             ],
             {
              "frame": {
               "duration": 0,
               "redraw": true
              },
              "fromcurrent": true,
              "mode": "immediate",
              "transition": {
               "duration": 0,
               "easing": "linear"
              }
             }
            ],
            "label": "2.5",
            "method": "animate"
           },
           {
            "args": [
             [
              "4.9"
             ],
             {
              "frame": {
               "duration": 0,
               "redraw": true
              },
              "fromcurrent": true,
              "mode": "immediate",
              "transition": {
               "duration": 0,
               "easing": "linear"
              }
             }
            ],
            "label": "4.9",
            "method": "animate"
           },
           {
            "args": [
             [
              "5.5"
             ],
             {
              "frame": {
               "duration": 0,
               "redraw": true
              },
              "fromcurrent": true,
              "mode": "immediate",
              "transition": {
               "duration": 0,
               "easing": "linear"
              }
             }
            ],
            "label": "5.5",
            "method": "animate"
           },
           {
            "args": [
             [
              "0.7"
             ],
             {
              "frame": {
               "duration": 0,
               "redraw": true
              },
              "fromcurrent": true,
              "mode": "immediate",
              "transition": {
               "duration": 0,
               "easing": "linear"
              }
             }
            ],
            "label": "0.7",
            "method": "animate"
           },
           {
            "args": [
             [
              "1.0"
             ],
             {
              "frame": {
               "duration": 0,
               "redraw": true
              },
              "fromcurrent": true,
              "mode": "immediate",
              "transition": {
               "duration": 0,
               "easing": "linear"
              }
             }
            ],
            "label": "1.0",
            "method": "animate"
           },
           {
            "args": [
             [
              "1.9"
             ],
             {
              "frame": {
               "duration": 0,
               "redraw": true
              },
              "fromcurrent": true,
              "mode": "immediate",
              "transition": {
               "duration": 0,
               "easing": "linear"
              }
             }
            ],
            "label": "1.9",
            "method": "animate"
           },
           {
            "args": [
             [
              "0.5"
             ],
             {
              "frame": {
               "duration": 0,
               "redraw": true
              },
              "fromcurrent": true,
              "mode": "immediate",
              "transition": {
               "duration": 0,
               "easing": "linear"
              }
             }
            ],
            "label": "0.5",
            "method": "animate"
           },
           {
            "args": [
             [
              "3.1"
             ],
             {
              "frame": {
               "duration": 0,
               "redraw": true
              },
              "fromcurrent": true,
              "mode": "immediate",
              "transition": {
               "duration": 0,
               "easing": "linear"
              }
             }
            ],
            "label": "3.1",
            "method": "animate"
           },
           {
            "args": [
             [
              "5.0"
             ],
             {
              "frame": {
               "duration": 0,
               "redraw": true
              },
              "fromcurrent": true,
              "mode": "immediate",
              "transition": {
               "duration": 0,
               "easing": "linear"
              }
             }
            ],
            "label": "5.0",
            "method": "animate"
           },
           {
            "args": [
             [
              "6.0"
             ],
             {
              "frame": {
               "duration": 0,
               "redraw": true
              },
              "fromcurrent": true,
              "mode": "immediate",
              "transition": {
               "duration": 0,
               "easing": "linear"
              }
             }
            ],
            "label": "6.0",
            "method": "animate"
           },
           {
            "args": [
             [
              "0.1"
             ],
             {
              "frame": {
               "duration": 0,
               "redraw": true
              },
              "fromcurrent": true,
              "mode": "immediate",
              "transition": {
               "duration": 0,
               "easing": "linear"
              }
             }
            ],
            "label": "0.1",
            "method": "animate"
           },
           {
            "args": [
             [
              "3.4"
             ],
             {
              "frame": {
               "duration": 0,
               "redraw": true
              },
              "fromcurrent": true,
              "mode": "immediate",
              "transition": {
               "duration": 0,
               "easing": "linear"
              }
             }
            ],
            "label": "3.4",
            "method": "animate"
           },
           {
            "args": [
             [
              "1.3"
             ],
             {
              "frame": {
               "duration": 0,
               "redraw": true
              },
              "fromcurrent": true,
              "mode": "immediate",
              "transition": {
               "duration": 0,
               "easing": "linear"
              }
             }
            ],
            "label": "1.3",
            "method": "animate"
           },
           {
            "args": [
             [
              "1.2"
             ],
             {
              "frame": {
               "duration": 0,
               "redraw": true
              },
              "fromcurrent": true,
              "mode": "immediate",
              "transition": {
               "duration": 0,
               "easing": "linear"
              }
             }
            ],
            "label": "1.2",
            "method": "animate"
           },
           {
            "args": [
             [
              "2.4"
             ],
             {
              "frame": {
               "duration": 0,
               "redraw": true
              },
              "fromcurrent": true,
              "mode": "immediate",
              "transition": {
               "duration": 0,
               "easing": "linear"
              }
             }
            ],
            "label": "2.4",
            "method": "animate"
           },
           {
            "args": [
             [
              "2.8"
             ],
             {
              "frame": {
               "duration": 0,
               "redraw": true
              },
              "fromcurrent": true,
              "mode": "immediate",
              "transition": {
               "duration": 0,
               "easing": "linear"
              }
             }
            ],
            "label": "2.8",
            "method": "animate"
           },
           {
            "args": [
             [
              "3.2"
             ],
             {
              "frame": {
               "duration": 0,
               "redraw": true
              },
              "fromcurrent": true,
              "mode": "immediate",
              "transition": {
               "duration": 0,
               "easing": "linear"
              }
             }
            ],
            "label": "3.2",
            "method": "animate"
           },
           {
            "args": [
             [
              "0.6"
             ],
             {
              "frame": {
               "duration": 0,
               "redraw": true
              },
              "fromcurrent": true,
              "mode": "immediate",
              "transition": {
               "duration": 0,
               "easing": "linear"
              }
             }
            ],
            "label": "0.6",
            "method": "animate"
           },
           {
            "args": [
             [
              "3.5"
             ],
             {
              "frame": {
               "duration": 0,
               "redraw": true
              },
              "fromcurrent": true,
              "mode": "immediate",
              "transition": {
               "duration": 0,
               "easing": "linear"
              }
             }
            ],
            "label": "3.5",
            "method": "animate"
           }
          ],
          "x": 0.1,
          "xanchor": "left",
          "y": 0,
          "yanchor": "top"
         }
        ],
        "template": {
         "data": {
          "bar": [
           {
            "error_x": {
             "color": "#2a3f5f"
            },
            "error_y": {
             "color": "#2a3f5f"
            },
            "marker": {
             "line": {
              "color": "#E5ECF6",
              "width": 0.5
             },
             "pattern": {
              "fillmode": "overlay",
              "size": 10,
              "solidity": 0.2
             }
            },
            "type": "bar"
           }
          ],
          "barpolar": [
           {
            "marker": {
             "line": {
              "color": "#E5ECF6",
              "width": 0.5
             },
             "pattern": {
              "fillmode": "overlay",
              "size": 10,
              "solidity": 0.2
             }
            },
            "type": "barpolar"
           }
          ],
          "carpet": [
           {
            "aaxis": {
             "endlinecolor": "#2a3f5f",
             "gridcolor": "white",
             "linecolor": "white",
             "minorgridcolor": "white",
             "startlinecolor": "#2a3f5f"
            },
            "baxis": {
             "endlinecolor": "#2a3f5f",
             "gridcolor": "white",
             "linecolor": "white",
             "minorgridcolor": "white",
             "startlinecolor": "#2a3f5f"
            },
            "type": "carpet"
           }
          ],
          "choropleth": [
           {
            "colorbar": {
             "outlinewidth": 0,
             "ticks": ""
            },
            "type": "choropleth"
           }
          ],
          "contour": [
           {
            "colorbar": {
             "outlinewidth": 0,
             "ticks": ""
            },
            "colorscale": [
             [
              0,
              "#0d0887"
             ],
             [
              0.1111111111111111,
              "#46039f"
             ],
             [
              0.2222222222222222,
              "#7201a8"
             ],
             [
              0.3333333333333333,
              "#9c179e"
             ],
             [
              0.4444444444444444,
              "#bd3786"
             ],
             [
              0.5555555555555556,
              "#d8576b"
             ],
             [
              0.6666666666666666,
              "#ed7953"
             ],
             [
              0.7777777777777778,
              "#fb9f3a"
             ],
             [
              0.8888888888888888,
              "#fdca26"
             ],
             [
              1,
              "#f0f921"
             ]
            ],
            "type": "contour"
           }
          ],
          "contourcarpet": [
           {
            "colorbar": {
             "outlinewidth": 0,
             "ticks": ""
            },
            "type": "contourcarpet"
           }
          ],
          "heatmap": [
           {
            "colorbar": {
             "outlinewidth": 0,
             "ticks": ""
            },
            "colorscale": [
             [
              0,
              "#0d0887"
             ],
             [
              0.1111111111111111,
              "#46039f"
             ],
             [
              0.2222222222222222,
              "#7201a8"
             ],
             [
              0.3333333333333333,
              "#9c179e"
             ],
             [
              0.4444444444444444,
              "#bd3786"
             ],
             [
              0.5555555555555556,
              "#d8576b"
             ],
             [
              0.6666666666666666,
              "#ed7953"
             ],
             [
              0.7777777777777778,
              "#fb9f3a"
             ],
             [
              0.8888888888888888,
              "#fdca26"
             ],
             [
              1,
              "#f0f921"
             ]
            ],
            "type": "heatmap"
           }
          ],
          "heatmapgl": [
           {
            "colorbar": {
             "outlinewidth": 0,
             "ticks": ""
            },
            "colorscale": [
             [
              0,
              "#0d0887"
             ],
             [
              0.1111111111111111,
              "#46039f"
             ],
             [
              0.2222222222222222,
              "#7201a8"
             ],
             [
              0.3333333333333333,
              "#9c179e"
             ],
             [
              0.4444444444444444,
              "#bd3786"
             ],
             [
              0.5555555555555556,
              "#d8576b"
             ],
             [
              0.6666666666666666,
              "#ed7953"
             ],
             [
              0.7777777777777778,
              "#fb9f3a"
             ],
             [
              0.8888888888888888,
              "#fdca26"
             ],
             [
              1,
              "#f0f921"
             ]
            ],
            "type": "heatmapgl"
           }
          ],
          "histogram": [
           {
            "marker": {
             "pattern": {
              "fillmode": "overlay",
              "size": 10,
              "solidity": 0.2
             }
            },
            "type": "histogram"
           }
          ],
          "histogram2d": [
           {
            "colorbar": {
             "outlinewidth": 0,
             "ticks": ""
            },
            "colorscale": [
             [
              0,
              "#0d0887"
             ],
             [
              0.1111111111111111,
              "#46039f"
             ],
             [
              0.2222222222222222,
              "#7201a8"
             ],
             [
              0.3333333333333333,
              "#9c179e"
             ],
             [
              0.4444444444444444,
              "#bd3786"
             ],
             [
              0.5555555555555556,
              "#d8576b"
             ],
             [
              0.6666666666666666,
              "#ed7953"
             ],
             [
              0.7777777777777778,
              "#fb9f3a"
             ],
             [
              0.8888888888888888,
              "#fdca26"
             ],
             [
              1,
              "#f0f921"
             ]
            ],
            "type": "histogram2d"
           }
          ],
          "histogram2dcontour": [
           {
            "colorbar": {
             "outlinewidth": 0,
             "ticks": ""
            },
            "colorscale": [
             [
              0,
              "#0d0887"
             ],
             [
              0.1111111111111111,
              "#46039f"
             ],
             [
              0.2222222222222222,
              "#7201a8"
             ],
             [
              0.3333333333333333,
              "#9c179e"
             ],
             [
              0.4444444444444444,
              "#bd3786"
             ],
             [
              0.5555555555555556,
              "#d8576b"
             ],
             [
              0.6666666666666666,
              "#ed7953"
             ],
             [
              0.7777777777777778,
              "#fb9f3a"
             ],
             [
              0.8888888888888888,
              "#fdca26"
             ],
             [
              1,
              "#f0f921"
             ]
            ],
            "type": "histogram2dcontour"
           }
          ],
          "mesh3d": [
           {
            "colorbar": {
             "outlinewidth": 0,
             "ticks": ""
            },
            "type": "mesh3d"
           }
          ],
          "parcoords": [
           {
            "line": {
             "colorbar": {
              "outlinewidth": 0,
              "ticks": ""
             }
            },
            "type": "parcoords"
           }
          ],
          "pie": [
           {
            "automargin": true,
            "type": "pie"
           }
          ],
          "scatter": [
           {
            "fillpattern": {
             "fillmode": "overlay",
             "size": 10,
             "solidity": 0.2
            },
            "type": "scatter"
           }
          ],
          "scatter3d": [
           {
            "line": {
             "colorbar": {
              "outlinewidth": 0,
              "ticks": ""
             }
            },
            "marker": {
             "colorbar": {
              "outlinewidth": 0,
              "ticks": ""
             }
            },
            "type": "scatter3d"
           }
          ],
          "scattercarpet": [
           {
            "marker": {
             "colorbar": {
              "outlinewidth": 0,
              "ticks": ""
             }
            },
            "type": "scattercarpet"
           }
          ],
          "scattergeo": [
           {
            "marker": {
             "colorbar": {
              "outlinewidth": 0,
              "ticks": ""
             }
            },
            "type": "scattergeo"
           }
          ],
          "scattergl": [
           {
            "marker": {
             "colorbar": {
              "outlinewidth": 0,
              "ticks": ""
             }
            },
            "type": "scattergl"
           }
          ],
          "scattermapbox": [
           {
            "marker": {
             "colorbar": {
              "outlinewidth": 0,
              "ticks": ""
             }
            },
            "type": "scattermapbox"
           }
          ],
          "scatterpolar": [
           {
            "marker": {
             "colorbar": {
              "outlinewidth": 0,
              "ticks": ""
             }
            },
            "type": "scatterpolar"
           }
          ],
          "scatterpolargl": [
           {
            "marker": {
             "colorbar": {
              "outlinewidth": 0,
              "ticks": ""
             }
            },
            "type": "scatterpolargl"
           }
          ],
          "scatterternary": [
           {
            "marker": {
             "colorbar": {
              "outlinewidth": 0,
              "ticks": ""
             }
            },
            "type": "scatterternary"
           }
          ],
          "surface": [
           {
            "colorbar": {
             "outlinewidth": 0,
             "ticks": ""
            },
            "colorscale": [
             [
              0,
              "#0d0887"
             ],
             [
              0.1111111111111111,
              "#46039f"
             ],
             [
              0.2222222222222222,
              "#7201a8"
             ],
             [
              0.3333333333333333,
              "#9c179e"
             ],
             [
              0.4444444444444444,
              "#bd3786"
             ],
             [
              0.5555555555555556,
              "#d8576b"
             ],
             [
              0.6666666666666666,
              "#ed7953"
             ],
             [
              0.7777777777777778,
              "#fb9f3a"
             ],
             [
              0.8888888888888888,
              "#fdca26"
             ],
             [
              1,
              "#f0f921"
             ]
            ],
            "type": "surface"
           }
          ],
          "table": [
           {
            "cells": {
             "fill": {
              "color": "#EBF0F8"
             },
             "line": {
              "color": "white"
             }
            },
            "header": {
             "fill": {
              "color": "#C8D4E3"
             },
             "line": {
              "color": "white"
             }
            },
            "type": "table"
           }
          ]
         },
         "layout": {
          "annotationdefaults": {
           "arrowcolor": "#2a3f5f",
           "arrowhead": 0,
           "arrowwidth": 1
          },
          "autotypenumbers": "strict",
          "coloraxis": {
           "colorbar": {
            "outlinewidth": 0,
            "ticks": ""
           }
          },
          "colorscale": {
           "diverging": [
            [
             0,
             "#8e0152"
            ],
            [
             0.1,
             "#c51b7d"
            ],
            [
             0.2,
             "#de77ae"
            ],
            [
             0.3,
             "#f1b6da"
            ],
            [
             0.4,
             "#fde0ef"
            ],
            [
             0.5,
             "#f7f7f7"
            ],
            [
             0.6,
             "#e6f5d0"
            ],
            [
             0.7,
             "#b8e186"
            ],
            [
             0.8,
             "#7fbc41"
            ],
            [
             0.9,
             "#4d9221"
            ],
            [
             1,
             "#276419"
            ]
           ],
           "sequential": [
            [
             0,
             "#0d0887"
            ],
            [
             0.1111111111111111,
             "#46039f"
            ],
            [
             0.2222222222222222,
             "#7201a8"
            ],
            [
             0.3333333333333333,
             "#9c179e"
            ],
            [
             0.4444444444444444,
             "#bd3786"
            ],
            [
             0.5555555555555556,
             "#d8576b"
            ],
            [
             0.6666666666666666,
             "#ed7953"
            ],
            [
             0.7777777777777778,
             "#fb9f3a"
            ],
            [
             0.8888888888888888,
             "#fdca26"
            ],
            [
             1,
             "#f0f921"
            ]
           ],
           "sequentialminus": [
            [
             0,
             "#0d0887"
            ],
            [
             0.1111111111111111,
             "#46039f"
            ],
            [
             0.2222222222222222,
             "#7201a8"
            ],
            [
             0.3333333333333333,
             "#9c179e"
            ],
            [
             0.4444444444444444,
             "#bd3786"
            ],
            [
             0.5555555555555556,
             "#d8576b"
            ],
            [
             0.6666666666666666,
             "#ed7953"
            ],
            [
             0.7777777777777778,
             "#fb9f3a"
            ],
            [
             0.8888888888888888,
             "#fdca26"
            ],
            [
             1,
             "#f0f921"
            ]
           ]
          },
          "colorway": [
           "#636efa",
           "#EF553B",
           "#00cc96",
           "#ab63fa",
           "#FFA15A",
           "#19d3f3",
           "#FF6692",
           "#B6E880",
           "#FF97FF",
           "#FECB52"
          ],
          "font": {
           "color": "#2a3f5f"
          },
          "geo": {
           "bgcolor": "white",
           "lakecolor": "white",
           "landcolor": "#E5ECF6",
           "showlakes": true,
           "showland": true,
           "subunitcolor": "white"
          },
          "hoverlabel": {
           "align": "left"
          },
          "hovermode": "closest",
          "mapbox": {
           "style": "light"
          },
          "paper_bgcolor": "white",
          "plot_bgcolor": "#E5ECF6",
          "polar": {
           "angularaxis": {
            "gridcolor": "white",
            "linecolor": "white",
            "ticks": ""
           },
           "bgcolor": "#E5ECF6",
           "radialaxis": {
            "gridcolor": "white",
            "linecolor": "white",
            "ticks": ""
           }
          },
          "scene": {
           "xaxis": {
            "backgroundcolor": "#E5ECF6",
            "gridcolor": "white",
            "gridwidth": 2,
            "linecolor": "white",
            "showbackground": true,
            "ticks": "",
            "zerolinecolor": "white"
           },
           "yaxis": {
            "backgroundcolor": "#E5ECF6",
            "gridcolor": "white",
            "gridwidth": 2,
            "linecolor": "white",
            "showbackground": true,
            "ticks": "",
            "zerolinecolor": "white"
           },
           "zaxis": {
            "backgroundcolor": "#E5ECF6",
            "gridcolor": "white",
            "gridwidth": 2,
            "linecolor": "white",
            "showbackground": true,
            "ticks": "",
            "zerolinecolor": "white"
           }
          },
          "shapedefaults": {
           "line": {
            "color": "#2a3f5f"
           }
          },
          "ternary": {
           "aaxis": {
            "gridcolor": "white",
            "linecolor": "white",
            "ticks": ""
           },
           "baxis": {
            "gridcolor": "white",
            "linecolor": "white",
            "ticks": ""
           },
           "bgcolor": "#E5ECF6",
           "caxis": {
            "gridcolor": "white",
            "linecolor": "white",
            "ticks": ""
           }
          },
          "title": {
           "x": 0.05
          },
          "xaxis": {
           "automargin": true,
           "gridcolor": "white",
           "linecolor": "white",
           "ticks": "",
           "title": {
            "standoff": 15
           },
           "zerolinecolor": "white",
           "zerolinewidth": 2
          },
          "yaxis": {
           "automargin": true,
           "gridcolor": "white",
           "linecolor": "white",
           "ticks": "",
           "title": {
            "standoff": 15
           },
           "zerolinecolor": "white",
           "zerolinewidth": 2
          }
         }
        },
        "title": {
         "text": "Countries sorted by Socio-Economic Vulnerability in comparison to Human Risk"
        }
       }
      }
     },
     "metadata": {},
     "output_type": "display_data"
    }
   ],
   "source": [
    "fig = px.choropleth(world_disaster, locations=\"ISO3\",\n",
    "                    color=\"Socio-Economic Vulnerability\",\n",
    "                    hover_name=\"COUNTRY\",\n",
    "                    animation_frame=\"Human\",\n",
    "                    title = \"Countries sorted by Socio-Economic Vulnerability in comparison to Human Risk\",                 color_continuous_scale=px.colors.sequential.PuRd)\n",
    " \n",
    " \n",
    "fig[\"layout\"].pop(\"updatemenus\")\n",
    "fig.show()"
   ]
  },
  {
   "cell_type": "code",
   "execution_count": 11,
   "metadata": {},
   "outputs": [
    {
     "data": {
      "image/png": "[encoded data removed]",
      "text/plain": [
       "<Figure size 640x480 with 1 Axes>"
      ]
     },
     "metadata": {},
     "output_type": "display_data"
    }
   ],
   "source": [
    "\n",
    "plt.scatter(world_disaster['Socio-Economic Vulnerability'],world_disaster['Natural'])\n",
    "plt.title(\"socio-economic vulnerability\")\n",
    "plt.xlabel('socio-economic vulnerability')\n",
    "plt.ylabel('Natural')\n",
    "plt.show()"
   ]
  },
  {
   "cell_type": "code",
   "execution_count": 12,
   "metadata": {},
   "outputs": [
    {
     "data": {
      "image/png": "[encoded data removed]",
      "text/plain": [
       "<Figure size 640x480 with 1 Axes>"
      ]
     },
     "metadata": {},
     "output_type": "display_data"
    }
   ],
   "source": [
    "#plotting 'SEV' against 'Natural Risk' \n",
    "plt.scatter(world_disaster['Socio-Economic Vulnerability'],world_disaster['Human'])\n",
    "plt.title(\"socio-economic vulnerability\")\n",
    "plt.xlabel('socio-economic vulnerability')\n",
    "plt.ylabel('Human')\n",
    "plt.show()"
   ]
  },
  {
   "cell_type": "code",
   "execution_count": 13,
   "metadata": {},
   "outputs": [
    {
     "name": "stdout",
     "output_type": "stream",
     "text": [
      "Human average is 2.2712000000000003\n",
      "Natural average is 3.534399999999997\n",
      "Human average is 2.2712\n",
      "Natural average is 3.5343999999999998\n",
      "LinearRegression(slope=-0.6228287541653479, intercept=7.134925948722006)\n",
      "LinearRegression(slope=-0.6172793004202224, intercept=6.335564747114409)\n"
     ]
    }
   ],
   "source": [
    "#average value for  Human risk and Natural risk\n",
    "avg_value=sum(Human)/len(Human)\n",
    "print(\"Human average is\",avg_value)\n",
    "avg_val2=sum(Natural)/len(Natural)\n",
    "print(\"Natural average is\",avg_val2)\n",
    "\n",
    "#alternate method\n",
    "average = statistics.mean(Natural)\n",
    "average2 = statistics.mean(Human)\n",
    "\n",
    "\n",
    "\n",
    "print(\"Human average is\", average2)\n",
    "print(\"Natural average is\", average)\n",
    "\n",
    "\n",
    "#calculating linear regression\n",
    "maths = statistics.linear_regression(Natural,sev)\n",
    "maths2 = statistics.linear_regression(Human,sev)\n",
    "print(maths)\n",
    "print(maths2)"
   ]
  },
  {
   "cell_type": "code",
   "execution_count": 16,
   "metadata": {},
   "outputs": [
    {
     "ename": "TypeError",
     "evalue": "int() argument must be a string, a bytes-like object or a real number, not 'list'",
     "output_type": "error",
     "traceback": [
      "\u001b[1;31m---------------------------------------------------------------------------\u001b[0m",
      "\u001b[1;31mTypeError\u001b[0m                                 Traceback (most recent call last)",
      "Cell \u001b[1;32mIn [16], line 1\u001b[0m\n\u001b[1;32m----> 1\u001b[0m \u001b[39mint\u001b[39;49m(sev)\n\u001b[0;32m      3\u001b[0m x \u001b[39m=\u001b[39m [sev]\n\u001b[0;32m      4\u001b[0m y \u001b[39m=\u001b[39m [Natural]\n",
      "\u001b[1;31mTypeError\u001b[0m: int() argument must be a string, a bytes-like object or a real number, not 'list'"
     ]
    }
   ],
   "source": [
    "int(sev)\n",
    "\n",
    "x = [sev]\n",
    "y = [Natural]\n",
    "\n",
    "slope, intercept, r, p, std_err = stats.linregress(x, y)\n",
    "\n",
    "def myfunc(x):\n",
    "  return slope * x + intercept\n",
    "\n",
    "mymodel = list(map(myfunc, x))\n",
    "\n",
    "plt.scatter(x, y)\n",
    "plt.plot(x, mymodel)\n",
    "plt.show()"
   ]
  }
 ],
 "metadata": {
  "kernelspec": {
   "display_name": "Python 3.10.8 64-bit (microsoft store)",
   "language": "python",
   "name": "python3"
  },
  "language_info": {
   "codemirror_mode": {
    "name": "ipython",
    "version": 3
   },
   "file_extension": ".py",
   "mimetype": "text/x-python",
   "name": "python",
   "nbconvert_exporter": "python",
   "pygments_lexer": "ipython3",
   "version": "3.10.8"
  },
  "orig_nbformat": 4,
  "vscode": {
   "interpreter": {
    "hash": "4167bd5b7aa943bbfb68647c7dcb75006377912a02c9d9397beb7d705e74d9e5"
   }
  }
 },
 "nbformat": 4,
 "nbformat_minor": 2
}
